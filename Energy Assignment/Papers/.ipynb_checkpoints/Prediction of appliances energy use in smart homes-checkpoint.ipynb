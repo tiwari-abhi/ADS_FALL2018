{
 "cells": [
  {
   "cell_type": "markdown",
   "metadata": {},
   "source": [
    "### Paper 3 : Prediction of appliances energy use in smart homes"
   ]
  },
  {
   "cell_type": "markdown",
   "metadata": {},
   "source": [
    "#### Introduction:"
   ]
  },
  {
   "cell_type": "markdown",
   "metadata": {},
   "source": [
    "This paper presents methods for prediction of energy consumption of different appliances in homes. The aim is to predict the next day electricity consumption (next 24 hours) for some services in homes\n",
    "\n",
    "In this context, a proper prediction of energy demand in housing sector is very important. A bottom-up approach can be used: first, the energy consumption prediction is done for each appliance in a home, then the forecast will be made for the total energy consumed in a home and, finally, a prediction can be made regarding the households supplied by a certain energy provider."
   ]
  },
  {
   "cell_type": "markdown",
   "metadata": {},
   "source": [
    "#### Data: "
   ]
  },
  {
   "cell_type": "markdown",
   "metadata": {},
   "source": [
    "Historical data for a set of homes in France was used"
   ]
  },
  {
   "cell_type": "markdown",
   "metadata": {},
   "source": [
    "#### Approach:"
   ]
  },
  {
   "cell_type": "markdown",
   "metadata": {},
   "source": [
    "Smart Grid : Smart grid integrates the use of sensors, communications, computational ability and control in order to enhance the overall functionality of the electric power system\n",
    "\n",
    "The main purpose of the electrical grid is to assure the energy production necessary for consumers' consumption in a reliable manner.\n",
    "\n",
    "Considering direct load control, it is essential to know the energy consumption in smart homes appliance by appliance in order to compute the energy reserve or to be able to stop certain services in case of higher energy demand"
   ]
  },
  {
   "cell_type": "markdown",
   "metadata": {},
   "source": [
    "#### Conclusion:"
   ]
  },
  {
   "cell_type": "markdown",
   "metadata": {},
   "source": [
    "Forecasting the energy consumption in homes is an important aspect in the power management of the grid, as the consumption in the residential sector represents a significant percentage in the total electricity demand. The development of the smart grid is not possible without a good prediction of energy consumption. The trend nowadays is to get the prediction of energy consumption not only at house level, but at household appliance level."
   ]
  }
 ],
 "metadata": {
  "kernelspec": {
   "display_name": "Python 3",
   "language": "python",
   "name": "python3"
  },
  "language_info": {
   "codemirror_mode": {
    "name": "ipython",
    "version": 3
   },
   "file_extension": ".py",
   "mimetype": "text/x-python",
   "name": "python",
   "nbconvert_exporter": "python",
   "pygments_lexer": "ipython3",
   "version": "3.7.0"
  }
 },
 "nbformat": 4,
 "nbformat_minor": 2
}
