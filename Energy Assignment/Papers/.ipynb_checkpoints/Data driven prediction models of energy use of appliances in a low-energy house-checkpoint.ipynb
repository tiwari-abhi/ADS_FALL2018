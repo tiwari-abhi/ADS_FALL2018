{
 "cells": [
  {
   "cell_type": "markdown",
   "metadata": {},
   "source": [
    "# Data driven prediction models of energy use of appliances in a low-energy house"
   ]
  },
  {
   "cell_type": "markdown",
   "metadata": {},
   "source": [
    "# 1. Summary"
   ]
  },
  {
   "cell_type": "markdown",
   "metadata": {},
   "source": [
    "** The paper presents and discusses data-driven predictive models for the energy use of appliances, it basically discusses all the possible combinations of features to predic the engery consumption of the appliances **"
   ]
  },
  {
   "cell_type": "markdown",
   "metadata": {},
   "source": [
    "*It is studied that, applianaces on standby mode contributes around 10% of total energy contribution, hence appliances energy consumption is studied by many scientists. The type of appliances, humidity, atomspheric pressure, vibrations and lights were studied to predict the energy consumption and  also the occupancy was studied. Specifically, data from a nearby airport weather station, temperature and humidity in different rooms in the house from a wireless sensor network and one sub-metered electrical energy consumption (lights) have been used to predict the energy use by appliances.*\n",
    "\n",
    "*The paper discusses different tools for feature selection and then use those features to find the best model*\n",
    "\n",
    "*Following  are four trained models with repeated cross validation and evaluated in a testing set:   \n",
    "(a) multiple linear regression   \n",
    "(b) support vector machine with radial kernel  \n",
    "(c) random forest  \n",
    "(d) gradient boosting machines (GBM)  \n",
    "The best model according to this papaer is (GBM) and it is able to explain 97% of the variance (R2) in the training set and with 57% in the testing set when using all the predictors.*"
   ]
  },
  {
   "cell_type": "markdown",
   "metadata": {
    "collapsed": true
   },
   "source": [
    "## 1.1 Literatue Review"
   ]
  },
  {
   "cell_type": "markdown",
   "metadata": {},
   "source": [
    "### 1.1.1 Appliances’ loads in buildings and numerical modeling of their consumption"
   ]
  },
  {
   "cell_type": "markdown",
   "metadata": {},
   "source": [
    "* In this section, it discusses the Hourly end-use data collected from 454 houses and 140 commercial buildings in the Pacific Northwest. they found that the  refrigeration and freezer loads tended to be very flat, cooking (food preparation) dishwasher, lights and small appliances showed distinct evening peaks with repect to the energy consumption  \n",
    "\n",
    "* Similarly, energy consumption is studied from data collected from different locations around the world using different techniques for sources like refrigerator, clothes washer, clothes dryer,video player/recorder, video console, electric oven, range hood, dishwasher, PC, laptop, TV, washing machines,etc  \n",
    "* It was confirmed that all the electric appliances should be included in the predictionn of energy use in a house hold"
   ]
  },
  {
   "cell_type": "markdown",
   "metadata": {},
   "source": [
    "### 1.1.2. Electricity load prediction"
   ]
  },
  {
   "cell_type": "markdown",
   "metadata": {},
   "source": [
    "* Different models and the parameters for prediction of energy use has be discussed in this section, the data was collected from different locations like Canada, England, Wales and few more parts from UK  \n",
    "* Its states that models like  multiple regression, neural networks, forecasting methods, engineering methods, support vector machines, time series techniques and forecasting methods are used to  predict the electricity demands \n",
    "* Parameters like weather,location (ZIP code), age of building, ownership, presence of double pane windows, energy efficientlight fixtures, floor area, pet ownership,number of refrigerators and entertainment devices, number of occupants and income level were taken into consideration  \n",
    "* It concluded that the most important variables are weather, location and floor plan  \n",
    "* Among the appliances, the most important ones in terms of electricity consumption is the refrigerator and entertainment appliances (TV, video games, airconditioner, heater etc.).It also states that the high usage of appliances results in low appliance efficiency  \n",
    "* The increased number of appliances owned makes it important to identify which ones are the main contributors to the energy consumption  \n",
    "* Weather parameters have been proven relevant to predict the electricity energy consumption in buildings. This consumption typically includes the HVAC contributions, which may have different trends with respect to temperature for example. Hence exterior parameters of weather are also important  "
   ]
  },
  {
   "cell_type": "markdown",
   "metadata": {},
   "source": [
    "## 1.2. Research objectives and methodology outline"
   ]
  },
  {
   "cell_type": "markdown",
   "metadata": {},
   "source": [
    "* The paper discusses description of the house, energy meters and wireless sensor network  \n",
    "* Further, continues to do EDA for feature selection and use the same in different models and select the best model after tesing it on different subsets of training and tesing dataset"
   ]
  },
  {
   "cell_type": "markdown",
   "metadata": {},
   "source": [
    "# 2. House Description"
   ]
  },
  {
   "cell_type": "markdown",
   "metadata": {},
   "source": [
    "* The house was constructed in Dec 2015 and is located in Stambruges about 24 km from the City of Mons in Belgium  \n",
    "* The building is designed for an annual heating load of not more than 15 kWh/m2 per year according to the Passive House Planning Package (PHPP) software design tool  \n",
    "* There is wooden chimney in the house which acts as the heating load in the house  \n",
    "* The air leakage is about 0.6 air changes per hour at 50 Pa as measured in September 2016  \n",
    "* Triple glazed windows are used with Ug = 0.5W/m2 K and Uf < 0.9W/m2 K.The total floor area is 280 m2 and the total heated area is 220 m2  \n",
    "* The facade of the house is oriented +10◦ (Southwest) from due South  \n",
    "* 4 occupants in the house: 2 adults and 2 teenager *"
   ]
  },
  {
   "cell_type": "markdown",
   "metadata": {},
   "source": [
    "## 2.1. Energy meters and ZigBee nodes"
   ]
  },
  {
   "cell_type": "markdown",
   "metadata": {},
   "source": [
    "* Sensors are used in the house for measuring the environmental variables  \n",
    "* Meters and ZigBee nodes are used to measure the energy consumption  \n",
    "* The data is recorded in evrey 10 mins and is collected by internet connected monitoring system and mailed in every 12 hr \n",
    "* The maximum energy consumption is by appliances and it accounts for about 70-79% \n",
    "* A ZigBee wireless sensor network is used to  monitor house temperature and humidity conditions. The microcontrollers were programmed using the Arduino IDE to read the data from the sensors and then transmit the measured data with the XBee radio. The transmitted information is sent to another XBee radio that acts as the coordinator of the network \n",
    "* The sensor nodes are powered with batteries. Each sensor node transmits the information around 3.3 min  \n",
    "* There are two XBee radio which acts as a router for effective communication \n",
    "* The inference is that the appliances and lights consume between 5.7 and 6.7 more than the DHW energy use"
   ]
  },
  {
   "cell_type": "markdown",
   "metadata": {},
   "source": [
    "# 3. Recorded data and description"
   ]
  },
  {
   "cell_type": "markdown",
   "metadata": {},
   "source": [
    "* The data is recorded in every 10 mins by its date and time \n",
    "* The 10 min reporting interval was chosen to be able to capture quick changes in energy consumption. Another sub-metered load (lights) is included in the analysis since it has been shown to be a good predictor of room occupancy when combined with relative humidity measurements  \n",
    "* The total time period of dataset is 137 day which is baout 4.5 months \n",
    "* The median of data is found at 60 Wh adn the upper whisker is about 170 Wh which shows that the data above the median is more dispersed and that there are several outliers in the data  \n",
    "* Chièvres Airport collects the weather data which is located around 12 km away and is merged by date and time to evaluate its impact on the prediction of the energy consumption of appliances  \n",
    "* Linear interpolation is used to fill in the gaps of weather data collected  "
   ]
  },
  {
   "cell_type": "markdown",
   "metadata": {},
   "source": [
    "## 3.1. Data sets and exploratory analysis"
   ]
  },
  {
   "cell_type": "markdown",
   "metadata": {},
   "source": [
    "* The dataset is split into training and testing dataset by 75%  \n",
    "* The dataset is made up of energy consumption details per 10 mins period \n",
    "* EDA is performed for insights on data and  to understand the relationship between all variables with respect to energy consumption  \n",
    "* A scatter plot is used to understand correlation between different variables  \n",
    "* Highest correlation is obtained between appliances and lights(0.19) followed by appliances and T2(0.12)  \n",
    "* High correlation between indoor temperature (T1 and T3) is found (0.89)  \n",
    "* Most of the correlation between temperature variables are seen to be positive as the sonsors ae very closed to each other   \n",
    "* Negative correlation is found between T_out(-0.15) and pressure(-0.03)  \n",
    "* Heatmap is also used to show hourly consumption over a period of four consecutive weeks.The energy consumption starts to rise around 6 in the morning. Then around noon, there are energy load surges. The energy demand also increases around 6 pm  "
   ]
  },
  {
   "cell_type": "markdown",
   "metadata": {},
   "source": [
    "## 3.2. Data features filtering and importance"
   ]
  },
  {
   "cell_type": "markdown",
   "metadata": {},
   "source": [
    "#### Boruta package:\n",
    "* Boruta is used for featue selection since we have a lot a varibles and to reduces complexity of the model  \n",
    "* In order to test Boruta alogrithm, two random variables (rv1 and rv2) were introduced  \n",
    "* The Boruta package compares importance of attributes with importance of shadow attributes that are created by shuffling original ones  \n",
    "* The Boruta algorithm is capable to detect the two random variables and were shown to be between Boruta created shdow attributes of shadow min, shadow max and shadow median  \n",
    "* The Boruta package detects NSM to be the most important while Week status to be the least important\n",
    "\n",
    "#### Recursive feature elimination:\n",
    "* RFE(Recursive feature elimination) is also used for selecting variables on the basis of RMSE values  \n",
    "* Classification and Regression Training package(CARET) is used which has a RFE algorithm to select features  \n",
    "* Dummy variables for NSM and Week Status features using r dummies package are created to use these algorimths \n",
    "* RFE uses Random forest regressor and was tested using 10 cross validation sets \n",
    "* Around 34 to 35 predictors were selected after deature selection to train the model futher  "
   ]
  },
  {
   "cell_type": "markdown",
   "metadata": {},
   "source": [
    "## 3.3. The performance of regression models"
   ]
  },
  {
   "cell_type": "markdown",
   "metadata": {},
   "source": [
    "* Linear,SVM,Random Forest and GBM models are trained with 10 K-fold cross validation in order to get best results  \n",
    "* DoParallel package is used for parallel computation.\n",
    "\n",
    "* Following performance metrics are used to evaluate the models:\n",
    " -RMSE ( Root mean square error)  \n",
    " -R2 ( R squared / coefficient of determination)  \n",
    " -MAE (Mean absolute error)  \n",
    " -MAPE ( Mean absolute percentage error)    \n",
    "\n",
    "* For Mulitple linear regressor the graph shows normally distribution for the residuals  \n",
    "* Support Vector Machine with radial-kernel is used for prediction of energy consumption. The optimal values for sigma is 0.4 and the cost (12) variables were obtained with a grid search  \n",
    "* Random forest Regressor is a tree based model which is based on output from multiple regression trees. The optimal number of random selected predictors is 18  \n",
    "* The GBM models try to improve the prediction by using information from the first trees and also require the selection of optimal parameters for the number of trees (10,900) and maximum tree depth (5)  "
   ]
  },
  {
   "cell_type": "markdown",
   "metadata": {},
   "source": [
    "## 3.4. Model selection"
   ]
  },
  {
   "cell_type": "markdown",
   "metadata": {},
   "source": [
    "* For a model with lower RMSE and highest R2 values is supposed to be the best    \n",
    "* In the papaer, the RF and GBM models have very similar performance based on their RMSE and R-squared values and confidence intervals  \n",
    "* The SVM radial model also shows a significant reduction of the RMSE compared to the linear regression model  "
   ]
  },
  {
   "cell_type": "markdown",
   "metadata": {},
   "source": [
    "### 3.4.1. Evaluating the prediction with different data subsets"
   ]
  },
  {
   "cell_type": "markdown",
   "metadata": {},
   "source": [
    "* The GBM model provides the best RMSE and R2  \n",
    "* The model was build with different prediction performance and predictor subsets of variables - no light, no weather data, removing temperature and humidity from the wireless sensor network and only use weather and time information  \n",
    "* The performance of the GBM model without the light predictors is quite accurate  \n",
    "* Testing data accuracy for R2 is about 0.58 for this model and R2 0.58 is without lights and weather data while with weather data and light data it is as much as it is with only weather data i.e. about 0.49  "
   ]
  },
  {
   "cell_type": "markdown",
   "metadata": {},
   "source": [
    "## 3.5 Discussion of results"
   ]
  },
  {
   "cell_type": "markdown",
   "metadata": {},
   "source": [
    "* Appliances consumes most of the energy consumption i.e. about 70-79%  \n",
    "* The appliance profile is highly variating with about most of the consumption to be constant with some high sparks.After doing exploratory data analysis, we found that high correlations exist between:T1 and T2 (0.84), T2 andT3 (0.74), T4 and T5 (0.87), T5 and T6 (0.63), T7 and T8 (0.88), and T8 with T9 (0.86) \n",
    "* The humudity varies with no. of occupants in the room. Hence, higher humidity indicates high occupancy  \n",
    "* The rooms have lower energy consumption because of less human activity most of the day  \n",
    "* Atmospheric Pressure(-0.03) and wind speed has negative correlation(-0.23)\n",
    "* Fair weather usually corresponds with high atmospheric pressure and pressure drop trends or low pressure may correspond to foul or rainy weather  \n",
    "* The data filtering is relevant because it helps to reduce no. of features and predictors based on accuracy. The Boruta algorithm was able to pick up the inserted two random variables in the data set. This shows that it is efficient to find important features and select it  \n",
    "* According to RFE algorithm, there are 6 most important parameters: : NSM, lights, pressure, RH5, T3 and RH3  \n",
    "* The best models are the RF and GBM according to the RMSE and R2  \n",
    "* All the three models predicted NSM to be the most important feature. The second most important feature was lights according to RF and SVM while according to GBM it is atmospheric pressure  \n",
    "* According to GBM, the top predictors are NSM, Pressure, RH1, RH2, RH3, RH5, T6, RH6, RH4, RH9, T8, T4 and T2. Hence, we conclude that information from the kitchen, living room, laundry room, bathroom, outdoors, office, and bedrooms are the most important  "
   ]
  },
  {
   "cell_type": "markdown",
   "metadata": {},
   "source": [
    "## 3.6. Research limitations"
   ]
  },
  {
   "cell_type": "markdown",
   "metadata": {},
   "source": [
    "* Many houses has to be studied to understand consumption better since we are only studying one house  \n",
    "* Other factors like no. of occupants,occupants age, building's geometry etc. should have been taken into consideration  \n",
    "* The time period for reading is very short(4.5 months)  \n",
    "* The weather data from airport was not that relevant, if it would have been closer, it would have been more significant contribution  \n",
    "* Optimal location of wireless indoor sensors and more sensors, better sensor accurancy can significantly help to improve the energy prediction  "
   ]
  },
  {
   "cell_type": "markdown",
   "metadata": {},
   "source": [
    "# 4. Conclusion"
   ]
  },
  {
   "cell_type": "markdown",
   "metadata": {},
   "source": [
    "* Statistical analysis includes exploratory data analysis as well as predictive modelling  \n",
    "* For exploratory analysis, pairwise plots play an important role to understand the relationship between variables and appliances energy consumption through correlation. The GBM and RF models improve the RSME and R2 of predictions compared to the SVM-radial and multiple linear regression lm  \n",
    "* For all the models, the time information (NSM) was ranked as the most important to predict the appliances’ consumption  \n",
    "* For weather related variables, pressure was ranked the most followed by outdoor temperature, dew point temperature, outdoor relative humidity, wind speed and visibility  \n",
    "* Data from a wireless sensor network that measures humidity and temperature has helped to increase the prediction accuracy  \n",
    "* Data analysis shows that the appliances from laundry, kitchen and living rooms have high energy consumption that any other rooms which shows that wireless network usage was very helpful to understand the energy consumption location better  \n"
   ]
  }
 ],
 "metadata": {
  "kernelspec": {
   "display_name": "Python 3",
   "language": "python",
   "name": "python3"
  },
  "language_info": {
   "codemirror_mode": {
    "name": "ipython",
    "version": 3
   },
   "file_extension": ".py",
   "mimetype": "text/x-python",
   "name": "python",
   "nbconvert_exporter": "python",
   "pygments_lexer": "ipython3",
   "version": "3.7.0"
  }
 },
 "nbformat": 4,
 "nbformat_minor": 2
}
