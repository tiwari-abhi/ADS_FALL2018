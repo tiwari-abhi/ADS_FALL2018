{
 "cells": [
  {
   "cell_type": "code",
   "execution_count": 4,
   "metadata": {},
   "outputs": [
    {
     "data": {
      "text/html": [
       "<script>requirejs.config({paths: { 'plotly': ['https://cdn.plot.ly/plotly-latest.min']},});if(!window.Plotly) {{require(['plotly'],function(plotly) {window.Plotly=plotly;});}}</script>"
      ],
      "text/vnd.plotly.v1+html": [
       "<script>requirejs.config({paths: { 'plotly': ['https://cdn.plot.ly/plotly-latest.min']},});if(!window.Plotly) {{require(['plotly'],function(plotly) {window.Plotly=plotly;});}}</script>"
      ]
     },
     "metadata": {},
     "output_type": "display_data"
    },
    {
     "name": "stderr",
     "output_type": "stream",
     "text": [
      "IOPub data rate exceeded.\n",
      "The notebook server will temporarily stop sending output\n",
      "to the client in order to avoid crashing it.\n",
      "To change this limit, set the config variable\n",
      "`--NotebookApp.iopub_data_rate_limit`.\n"
     ]
    }
   ],
   "source": [
    "import numpy as np\n",
    "import pandas as pd\n",
    "import cufflinks as cf\n",
    "import matplotlib.pyplot as plt\n",
    "import seaborn as sns\n",
    "\n",
    "\n",
    "from plotly.offline import download_plotlyjs, init_notebook_mode, plot, iplot\n",
    "from datetime import datetime as dt\n",
    "import calendar as cal\n",
    "\n",
    "init_notebook_mode(connected=True)\n",
    "cf.go_offline()\n",
    "\n",
    "\n",
    "from IPython.core.display import HTML\n",
    "\n",
    "%matplotlib inline"
   ]
  },
  {
   "cell_type": "code",
   "execution_count": 117,
   "metadata": {
    "collapsed": true
   },
   "outputs": [],
   "source": [
    "df = pd.read_csv('https://s3.us-east-2.amazonaws.com/ads-demo1/E_Dataset.csv',parse_dates=['date'])"
   ]
  },
  {
   "cell_type": "code",
   "execution_count": 11,
   "metadata": {},
   "outputs": [
    {
     "data": {
      "text/html": [
       "<div>\n",
       "<style>\n",
       "    .dataframe thead tr:only-child th {\n",
       "        text-align: right;\n",
       "    }\n",
       "\n",
       "    .dataframe thead th {\n",
       "        text-align: left;\n",
       "    }\n",
       "\n",
       "    .dataframe tbody tr th {\n",
       "        vertical-align: top;\n",
       "    }\n",
       "</style>\n",
       "<table border=\"1\" class=\"dataframe\">\n",
       "  <thead>\n",
       "    <tr style=\"text-align: right;\">\n",
       "      <th></th>\n",
       "      <th>date</th>\n",
       "      <th>Appliances</th>\n",
       "      <th>lights</th>\n",
       "      <th>T1</th>\n",
       "      <th>RH_1</th>\n",
       "      <th>T2</th>\n",
       "      <th>RH_2</th>\n",
       "      <th>T3</th>\n",
       "      <th>RH_3</th>\n",
       "      <th>T4</th>\n",
       "      <th>...</th>\n",
       "      <th>T9</th>\n",
       "      <th>RH_9</th>\n",
       "      <th>T_out</th>\n",
       "      <th>Press_mm_hg</th>\n",
       "      <th>RH_out</th>\n",
       "      <th>Windspeed</th>\n",
       "      <th>Visibility</th>\n",
       "      <th>Tdewpoint</th>\n",
       "      <th>rv1</th>\n",
       "      <th>rv2</th>\n",
       "    </tr>\n",
       "  </thead>\n",
       "  <tbody>\n",
       "    <tr>\n",
       "      <th>0</th>\n",
       "      <td>2016-01-11 17:00:00</td>\n",
       "      <td>60</td>\n",
       "      <td>30</td>\n",
       "      <td>19.89</td>\n",
       "      <td>47.596667</td>\n",
       "      <td>19.2</td>\n",
       "      <td>44.790000</td>\n",
       "      <td>19.79</td>\n",
       "      <td>44.730000</td>\n",
       "      <td>19.000000</td>\n",
       "      <td>...</td>\n",
       "      <td>17.033333</td>\n",
       "      <td>45.53</td>\n",
       "      <td>6.600000</td>\n",
       "      <td>733.5</td>\n",
       "      <td>92.0</td>\n",
       "      <td>7.000000</td>\n",
       "      <td>63.000000</td>\n",
       "      <td>5.3</td>\n",
       "      <td>13.275433</td>\n",
       "      <td>13.275433</td>\n",
       "    </tr>\n",
       "    <tr>\n",
       "      <th>1</th>\n",
       "      <td>2016-01-11 17:10:00</td>\n",
       "      <td>60</td>\n",
       "      <td>30</td>\n",
       "      <td>19.89</td>\n",
       "      <td>46.693333</td>\n",
       "      <td>19.2</td>\n",
       "      <td>44.722500</td>\n",
       "      <td>19.79</td>\n",
       "      <td>44.790000</td>\n",
       "      <td>19.000000</td>\n",
       "      <td>...</td>\n",
       "      <td>17.066667</td>\n",
       "      <td>45.56</td>\n",
       "      <td>6.483333</td>\n",
       "      <td>733.6</td>\n",
       "      <td>92.0</td>\n",
       "      <td>6.666667</td>\n",
       "      <td>59.166667</td>\n",
       "      <td>5.2</td>\n",
       "      <td>18.606195</td>\n",
       "      <td>18.606195</td>\n",
       "    </tr>\n",
       "    <tr>\n",
       "      <th>2</th>\n",
       "      <td>2016-01-11 17:20:00</td>\n",
       "      <td>50</td>\n",
       "      <td>30</td>\n",
       "      <td>19.89</td>\n",
       "      <td>46.300000</td>\n",
       "      <td>19.2</td>\n",
       "      <td>44.626667</td>\n",
       "      <td>19.79</td>\n",
       "      <td>44.933333</td>\n",
       "      <td>18.926667</td>\n",
       "      <td>...</td>\n",
       "      <td>17.000000</td>\n",
       "      <td>45.50</td>\n",
       "      <td>6.366667</td>\n",
       "      <td>733.7</td>\n",
       "      <td>92.0</td>\n",
       "      <td>6.333333</td>\n",
       "      <td>55.333333</td>\n",
       "      <td>5.1</td>\n",
       "      <td>28.642668</td>\n",
       "      <td>28.642668</td>\n",
       "    </tr>\n",
       "    <tr>\n",
       "      <th>3</th>\n",
       "      <td>2016-01-11 17:30:00</td>\n",
       "      <td>50</td>\n",
       "      <td>40</td>\n",
       "      <td>19.89</td>\n",
       "      <td>46.066667</td>\n",
       "      <td>19.2</td>\n",
       "      <td>44.590000</td>\n",
       "      <td>19.79</td>\n",
       "      <td>45.000000</td>\n",
       "      <td>18.890000</td>\n",
       "      <td>...</td>\n",
       "      <td>17.000000</td>\n",
       "      <td>45.40</td>\n",
       "      <td>6.250000</td>\n",
       "      <td>733.8</td>\n",
       "      <td>92.0</td>\n",
       "      <td>6.000000</td>\n",
       "      <td>51.500000</td>\n",
       "      <td>5.0</td>\n",
       "      <td>45.410389</td>\n",
       "      <td>45.410389</td>\n",
       "    </tr>\n",
       "    <tr>\n",
       "      <th>4</th>\n",
       "      <td>2016-01-11 17:40:00</td>\n",
       "      <td>60</td>\n",
       "      <td>40</td>\n",
       "      <td>19.89</td>\n",
       "      <td>46.333333</td>\n",
       "      <td>19.2</td>\n",
       "      <td>44.530000</td>\n",
       "      <td>19.79</td>\n",
       "      <td>45.000000</td>\n",
       "      <td>18.890000</td>\n",
       "      <td>...</td>\n",
       "      <td>17.000000</td>\n",
       "      <td>45.40</td>\n",
       "      <td>6.133333</td>\n",
       "      <td>733.9</td>\n",
       "      <td>92.0</td>\n",
       "      <td>5.666667</td>\n",
       "      <td>47.666667</td>\n",
       "      <td>4.9</td>\n",
       "      <td>10.084097</td>\n",
       "      <td>10.084097</td>\n",
       "    </tr>\n",
       "  </tbody>\n",
       "</table>\n",
       "<p>5 rows × 29 columns</p>\n",
       "</div>"
      ],
      "text/plain": [
       "                 date  Appliances  lights     T1       RH_1    T2       RH_2  \\\n",
       "0 2016-01-11 17:00:00          60      30  19.89  47.596667  19.2  44.790000   \n",
       "1 2016-01-11 17:10:00          60      30  19.89  46.693333  19.2  44.722500   \n",
       "2 2016-01-11 17:20:00          50      30  19.89  46.300000  19.2  44.626667   \n",
       "3 2016-01-11 17:30:00          50      40  19.89  46.066667  19.2  44.590000   \n",
       "4 2016-01-11 17:40:00          60      40  19.89  46.333333  19.2  44.530000   \n",
       "\n",
       "      T3       RH_3         T4    ...             T9   RH_9     T_out  \\\n",
       "0  19.79  44.730000  19.000000    ...      17.033333  45.53  6.600000   \n",
       "1  19.79  44.790000  19.000000    ...      17.066667  45.56  6.483333   \n",
       "2  19.79  44.933333  18.926667    ...      17.000000  45.50  6.366667   \n",
       "3  19.79  45.000000  18.890000    ...      17.000000  45.40  6.250000   \n",
       "4  19.79  45.000000  18.890000    ...      17.000000  45.40  6.133333   \n",
       "\n",
       "   Press_mm_hg  RH_out  Windspeed  Visibility  Tdewpoint        rv1        rv2  \n",
       "0        733.5    92.0   7.000000   63.000000        5.3  13.275433  13.275433  \n",
       "1        733.6    92.0   6.666667   59.166667        5.2  18.606195  18.606195  \n",
       "2        733.7    92.0   6.333333   55.333333        5.1  28.642668  28.642668  \n",
       "3        733.8    92.0   6.000000   51.500000        5.0  45.410389  45.410389  \n",
       "4        733.9    92.0   5.666667   47.666667        4.9  10.084097  10.084097  \n",
       "\n",
       "[5 rows x 29 columns]"
      ]
     },
     "execution_count": 11,
     "metadata": {},
     "output_type": "execute_result"
    }
   ],
   "source": [
    "df.head()"
   ]
  },
  {
   "cell_type": "code",
   "execution_count": 61,
   "metadata": {},
   "outputs": [],
   "source": [
    "X = df.drop(['Appliances','date','rv1','rv2'],axis=1)\n",
    "y = df['Appliances']"
   ]
  },
  {
   "cell_type": "code",
   "execution_count": 69,
   "metadata": {},
   "outputs": [],
   "source": [
    "y = y.values"
   ]
  },
  {
   "cell_type": "code",
   "execution_count": 53,
   "metadata": {},
   "outputs": [
    {
     "data": {
      "text/plain": [
       "array([[ 30.        ,  19.89      ,  47.59666667, ...,   7.        ,\n",
       "         63.        ,   5.3       ],\n",
       "       [ 30.        ,  19.89      ,  46.69333333, ...,   6.66666667,\n",
       "         59.16666667,   5.2       ],\n",
       "       [ 30.        ,  19.89      ,  46.3       , ...,   6.33333333,\n",
       "         55.33333333,   5.1       ],\n",
       "       ..., \n",
       "       [ 10.        ,  25.5       ,  46.59666667, ...,   3.66666667,\n",
       "         25.33333333,  13.26666667],\n",
       "       [ 10.        ,  25.5       ,  46.99      , ...,   3.83333333,\n",
       "         26.16666667,  13.23333333],\n",
       "       [ 10.        ,  25.5       ,  46.6       , ...,   4.        ,\n",
       "         27.        ,  13.2       ]])"
      ]
     },
     "execution_count": 53,
     "metadata": {},
     "output_type": "execute_result"
    }
   ],
   "source": [
    "X"
   ]
  },
  {
   "cell_type": "code",
   "execution_count": 50,
   "metadata": {},
   "outputs": [
    {
     "data": {
      "text/plain": [
       "array([ 60,  60,  50, ..., 270, 420, 430], dtype=int64)"
      ]
     },
     "execution_count": 50,
     "metadata": {},
     "output_type": "execute_result"
    }
   ],
   "source": [
    "y"
   ]
  },
  {
   "cell_type": "code",
   "execution_count": 21,
   "metadata": {
    "collapsed": true
   },
   "outputs": [],
   "source": [
    "from sklearn.model_selection import train_test_split "
   ]
  },
  {
   "cell_type": "code",
   "execution_count": 22,
   "metadata": {
    "collapsed": true
   },
   "outputs": [],
   "source": [
    "X_train, X_test, y_train, y_test = train_test_split(X, y, test_size=0.3, random_state=101)"
   ]
  },
  {
   "cell_type": "code",
   "execution_count": 23,
   "metadata": {
    "collapsed": true
   },
   "outputs": [],
   "source": [
    "from sklearn.linear_model import LinearRegression"
   ]
  },
  {
   "cell_type": "code",
   "execution_count": 24,
   "metadata": {},
   "outputs": [
    {
     "data": {
      "text/plain": [
       "LinearRegression(copy_X=True, fit_intercept=True, n_jobs=1, normalize=False)"
      ]
     },
     "execution_count": 24,
     "metadata": {},
     "output_type": "execute_result"
    }
   ],
   "source": [
    "lm = LinearRegression()\n",
    "lm.fit(X_train,y_train)"
   ]
  },
  {
   "cell_type": "code",
   "execution_count": 25,
   "metadata": {},
   "outputs": [
    {
     "data": {
      "text/html": [
       "<div>\n",
       "<style>\n",
       "    .dataframe thead tr:only-child th {\n",
       "        text-align: right;\n",
       "    }\n",
       "\n",
       "    .dataframe thead th {\n",
       "        text-align: left;\n",
       "    }\n",
       "\n",
       "    .dataframe tbody tr th {\n",
       "        vertical-align: top;\n",
       "    }\n",
       "</style>\n",
       "<table border=\"1\" class=\"dataframe\">\n",
       "  <thead>\n",
       "    <tr style=\"text-align: right;\">\n",
       "      <th></th>\n",
       "      <th>Coefficient</th>\n",
       "    </tr>\n",
       "  </thead>\n",
       "  <tbody>\n",
       "    <tr>\n",
       "      <th>lights</th>\n",
       "      <td>2.212974</td>\n",
       "    </tr>\n",
       "    <tr>\n",
       "      <th>T1</th>\n",
       "      <td>-0.457352</td>\n",
       "    </tr>\n",
       "    <tr>\n",
       "      <th>RH_1</th>\n",
       "      <td>14.297077</td>\n",
       "    </tr>\n",
       "    <tr>\n",
       "      <th>T2</th>\n",
       "      <td>-16.654417</td>\n",
       "    </tr>\n",
       "    <tr>\n",
       "      <th>RH_2</th>\n",
       "      <td>-12.746969</td>\n",
       "    </tr>\n",
       "    <tr>\n",
       "      <th>T3</th>\n",
       "      <td>24.306753</td>\n",
       "    </tr>\n",
       "    <tr>\n",
       "      <th>RH_3</th>\n",
       "      <td>4.867438</td>\n",
       "    </tr>\n",
       "    <tr>\n",
       "      <th>T4</th>\n",
       "      <td>-5.122656</td>\n",
       "    </tr>\n",
       "    <tr>\n",
       "      <th>RH_4</th>\n",
       "      <td>-0.185491</td>\n",
       "    </tr>\n",
       "    <tr>\n",
       "      <th>T5</th>\n",
       "      <td>-0.981677</td>\n",
       "    </tr>\n",
       "    <tr>\n",
       "      <th>RH_5</th>\n",
       "      <td>0.229525</td>\n",
       "    </tr>\n",
       "    <tr>\n",
       "      <th>T6</th>\n",
       "      <td>6.983753</td>\n",
       "    </tr>\n",
       "    <tr>\n",
       "      <th>RH_6</th>\n",
       "      <td>0.296548</td>\n",
       "    </tr>\n",
       "    <tr>\n",
       "      <th>T7</th>\n",
       "      <td>1.867942</td>\n",
       "    </tr>\n",
       "    <tr>\n",
       "      <th>RH_7</th>\n",
       "      <td>-1.543400</td>\n",
       "    </tr>\n",
       "    <tr>\n",
       "      <th>T8</th>\n",
       "      <td>8.074236</td>\n",
       "    </tr>\n",
       "    <tr>\n",
       "      <th>RH_8</th>\n",
       "      <td>-4.580694</td>\n",
       "    </tr>\n",
       "    <tr>\n",
       "      <th>T9</th>\n",
       "      <td>-13.368193</td>\n",
       "    </tr>\n",
       "    <tr>\n",
       "      <th>RH_9</th>\n",
       "      <td>-0.910525</td>\n",
       "    </tr>\n",
       "    <tr>\n",
       "      <th>T_out</th>\n",
       "      <td>-9.860305</td>\n",
       "    </tr>\n",
       "    <tr>\n",
       "      <th>Press_mm_hg</th>\n",
       "      <td>0.188298</td>\n",
       "    </tr>\n",
       "    <tr>\n",
       "      <th>RH_out</th>\n",
       "      <td>-1.066840</td>\n",
       "    </tr>\n",
       "    <tr>\n",
       "      <th>Windspeed</th>\n",
       "      <td>1.672325</td>\n",
       "    </tr>\n",
       "    <tr>\n",
       "      <th>Visibility</th>\n",
       "      <td>0.208113</td>\n",
       "    </tr>\n",
       "    <tr>\n",
       "      <th>Tdewpoint</th>\n",
       "      <td>4.872283</td>\n",
       "    </tr>\n",
       "  </tbody>\n",
       "</table>\n",
       "</div>"
      ],
      "text/plain": [
       "             Coefficient\n",
       "lights          2.212974\n",
       "T1             -0.457352\n",
       "RH_1           14.297077\n",
       "T2            -16.654417\n",
       "RH_2          -12.746969\n",
       "T3             24.306753\n",
       "RH_3            4.867438\n",
       "T4             -5.122656\n",
       "RH_4           -0.185491\n",
       "T5             -0.981677\n",
       "RH_5            0.229525\n",
       "T6              6.983753\n",
       "RH_6            0.296548\n",
       "T7              1.867942\n",
       "RH_7           -1.543400\n",
       "T8              8.074236\n",
       "RH_8           -4.580694\n",
       "T9            -13.368193\n",
       "RH_9           -0.910525\n",
       "T_out          -9.860305\n",
       "Press_mm_hg     0.188298\n",
       "RH_out         -1.066840\n",
       "Windspeed       1.672325\n",
       "Visibility      0.208113\n",
       "Tdewpoint       4.872283"
      ]
     },
     "execution_count": 25,
     "metadata": {},
     "output_type": "execute_result"
    }
   ],
   "source": [
    "coef= pd.DataFrame(lm.coef_,X.columns,columns=['Coefficient'])\n",
    "coef"
   ]
  },
  {
   "cell_type": "code",
   "execution_count": 26,
   "metadata": {},
   "outputs": [
    {
     "data": {
      "text/plain": [
       "<matplotlib.collections.PathCollection at 0x139c132b9b0>"
      ]
     },
     "execution_count": 26,
     "metadata": {},
     "output_type": "execute_result"
    },
    {
     "data": {
      "image/png": "[encoded data removed]",
      "text/plain": [
       "<matplotlib.figure.Figure at 0x139c12819b0>"
      ]
     },
     "metadata": {},
     "output_type": "display_data"
    }
   ],
   "source": [
    "predictions = lm.predict(X_test)\n",
    "plt.scatter(y_test,predictions)"
   ]
  },
  {
   "cell_type": "code",
   "execution_count": 29,
   "metadata": {},
   "outputs": [
    {
     "name": "stderr",
     "output_type": "stream",
     "text": [
      "C:\\Users\\Anuja\\Anaconda3\\lib\\site-packages\\deap\\tools\\_hypervolume\\pyhv.py:33: ImportWarning:\n",
      "\n",
      "Falling back to the python version of hypervolume module. Expect this to be very slow.\n",
      "\n",
      "C:\\Users\\Anuja\\Anaconda3\\lib\\importlib\\_bootstrap.py:219: ImportWarning:\n",
      "\n",
      "can't resolve package from __spec__ or __package__, falling back on __name__ and __path__\n",
      "\n",
      "C:\\Users\\Anuja\\Anaconda3\\lib\\importlib\\_bootstrap_external.py:426: ImportWarning:\n",
      "\n",
      "Not importing directory c:\\users\\anuja\\anaconda3\\lib\\site-packages\\mpl_toolkits: missing __init__\n",
      "\n"
     ]
    },
    {
     "name": "stdout",
     "output_type": "stream",
     "text": [
      "Warning: xgboost.XGBRegressor is not available and will not be used by TPOT.\n",
      "28 operators have been imported by TPOT.\n"
     ]
    },
    {
     "data": {
      "application/vnd.jupyter.widget-view+json": {
       "model_id": "4e489870bba54993a4cbaa75105a7804",
       "version_major": 2,
       "version_minor": 0
      },
      "text/plain": [
       "A Jupyter Widget"
      ]
     },
     "metadata": {},
     "output_type": "display_data"
    },
    {
     "name": "stdout",
     "output_type": "stream",
     "text": [
      "Generation 1 - Current Pareto front scores:\n",
      "-1\t-5523.62944972031\tExtraTreesRegressor(input_matrix, ExtraTreesRegressor__bootstrap=True, ExtraTreesRegressor__max_features=0.55, ExtraTreesRegressor__min_samples_leaf=1, ExtraTreesRegressor__min_samples_split=4, ExtraTreesRegressor__n_estimators=100)\n",
      "\n",
      "_pre_test decorator: _random_mutation_operator: num_test=0 Unsupported set of arguments: The combination of penalty='l2' and loss='epsilon_insensitive' are not supported when dual=False, Parameters: penalty='l2', loss='epsilon_insensitive', dual=False\n",
      "Generation 2 - Current Pareto front scores:\n",
      "-1\t-5196.144133629206\tExtraTreesRegressor(input_matrix, ExtraTreesRegressor__bootstrap=False, ExtraTreesRegressor__max_features=0.55, ExtraTreesRegressor__min_samples_leaf=1, ExtraTreesRegressor__min_samples_split=4, ExtraTreesRegressor__n_estimators=100)\n",
      "\n",
      "Generation 3 - Current Pareto front scores:\n",
      "-1\t-5196.144133629206\tExtraTreesRegressor(input_matrix, ExtraTreesRegressor__bootstrap=False, ExtraTreesRegressor__max_features=0.55, ExtraTreesRegressor__min_samples_leaf=1, ExtraTreesRegressor__min_samples_split=4, ExtraTreesRegressor__n_estimators=100)\n",
      "\n",
      "Pipeline encountered that has previously been evaluated during the optimization process. Using the score from the previous evaluation.\n",
      "Generation 4 - Current Pareto front scores:\n",
      "-1\t-5196.144133629206\tExtraTreesRegressor(input_matrix, ExtraTreesRegressor__bootstrap=False, ExtraTreesRegressor__max_features=0.55, ExtraTreesRegressor__min_samples_leaf=1, ExtraTreesRegressor__min_samples_split=4, ExtraTreesRegressor__n_estimators=100)\n",
      "\n",
      "Generation 5 - Current Pareto front scores:\n",
      "-1\t-5196.144133629206\tExtraTreesRegressor(input_matrix, ExtraTreesRegressor__bootstrap=False, ExtraTreesRegressor__max_features=0.55, ExtraTreesRegressor__min_samples_leaf=1, ExtraTreesRegressor__min_samples_split=4, ExtraTreesRegressor__n_estimators=100)\n",
      "\n",
      "Skipped pipeline #61 due to time out. Continuing to the next pipeline.\n",
      "Generation 6 - Current Pareto front scores:\n",
      "-1\t-5196.144133629206\tExtraTreesRegressor(input_matrix, ExtraTreesRegressor__bootstrap=False, ExtraTreesRegressor__max_features=0.55, ExtraTreesRegressor__min_samples_leaf=1, ExtraTreesRegressor__min_samples_split=4, ExtraTreesRegressor__n_estimators=100)\n",
      "\n",
      "Pipeline encountered that has previously been evaluated during the optimization process. Using the score from the previous evaluation.\n",
      "Generation 7 - Current Pareto front scores:\n",
      "-1\t-5196.144133629206\tExtraTreesRegressor(input_matrix, ExtraTreesRegressor__bootstrap=False, ExtraTreesRegressor__max_features=0.55, ExtraTreesRegressor__min_samples_leaf=1, ExtraTreesRegressor__min_samples_split=4, ExtraTreesRegressor__n_estimators=100)\n",
      "\n",
      "_pre_test decorator: _random_mutation_operator: num_test=0 __init__() got an unexpected keyword argument 'max_depth'\n",
      "Generation 8 - Current Pareto front scores:\n",
      "-1\t-5111.589115066389\tExtraTreesRegressor(input_matrix, ExtraTreesRegressor__bootstrap=False, ExtraTreesRegressor__max_features=0.35, ExtraTreesRegressor__min_samples_leaf=1, ExtraTreesRegressor__min_samples_split=4, ExtraTreesRegressor__n_estimators=100)\n",
      "\n",
      "Generation 9 - Current Pareto front scores:\n",
      "-1\t-5094.747221329897\tExtraTreesRegressor(input_matrix, ExtraTreesRegressor__bootstrap=False, ExtraTreesRegressor__max_features=0.05, ExtraTreesRegressor__min_samples_leaf=1, ExtraTreesRegressor__min_samples_split=4, ExtraTreesRegressor__n_estimators=100)\n",
      "\n",
      "_pre_test decorator: _random_mutation_operator: num_test=0 Expected n_neighbors <= n_samples,  but n_samples = 50, n_neighbors = 62\n",
      "_pre_test decorator: _random_mutation_operator: num_test=0 Unsupported set of arguments: The combination of penalty='l2' and loss='epsilon_insensitive' are not supported when dual=False, Parameters: penalty='l2', loss='epsilon_insensitive', dual=False\n",
      "Pipeline encountered that has previously been evaluated during the optimization process. Using the score from the previous evaluation.\n",
      "Generation 10 - Current Pareto front scores:\n",
      "-1\t-4981.899104292441\tExtraTreesRegressor(input_matrix, ExtraTreesRegressor__bootstrap=False, ExtraTreesRegressor__max_features=0.15, ExtraTreesRegressor__min_samples_leaf=1, ExtraTreesRegressor__min_samples_split=4, ExtraTreesRegressor__n_estimators=100)\n",
      "\n",
      "-4487.12557455\n"
     ]
    }
   ],
   "source": [
    "from tpot import TPOTRegressor\n",
    "\n",
    "tpot = TPOTRegressor(generations=10, population_size=10,offspring_size=None, mutation_rate=0.9, verbosity=3)\n",
    "tpot.fit(X_train, y_train)\n",
    "print(tpot.score(X_test, y_test))\n",
    "#tpot.export('tpot_pipeline.py')"
   ]
  },
  {
   "cell_type": "code",
   "execution_count": 32,
   "metadata": {
    "collapsed": true
   },
   "outputs": [],
   "source": [
    "from sklearn.ensemble import RandomForestRegressor\n",
    "from boruta import BorutaPy"
   ]
  },
  {
   "cell_type": "markdown",
   "metadata": {},
   "source": [
    "def timer(start_time=None):\n",
    "    if not start_time:\n",
    "        start_time = datetime.now()\n",
    "        return start_time\n",
    "    elif start_time:\n",
    "        thour, temp_sec = divmod((datetime.now() - start_time).total_seconds(), 3600)\n",
    "        tmin, tsec = divmod(temp_sec, 60)\n",
    "        print('\\n Time taken: %i hours %i minutes and %s seconds.' % (thour, tmin, round(tsec, 2)))"
   ]
  },
  {
   "cell_type": "code",
   "execution_count": 36,
   "metadata": {},
   "outputs": [],
   "source": [
    "rf = RandomForestRegressor(n_jobs= -1, max_depth=5)\n",
    "boruta_selector = BorutaPy(rf, n_estimators='auto', verbose=2, random_state= 1)"
   ]
  },
  {
   "cell_type": "code",
   "execution_count": 54,
   "metadata": {},
   "outputs": [
    {
     "name": "stdout",
     "output_type": "stream",
     "text": [
      "Iteration: \t1 / 100\n",
      "Confirmed: \t0\n",
      "Tentative: \t25\n",
      "Rejected: \t0\n",
      "Iteration: \t2 / 100\n",
      "Confirmed: \t0\n",
      "Tentative: \t25\n",
      "Rejected: \t0\n",
      "Iteration: \t3 / 100\n",
      "Confirmed: \t0\n",
      "Tentative: \t25\n",
      "Rejected: \t0\n",
      "Iteration: \t4 / 100\n",
      "Confirmed: \t0\n",
      "Tentative: \t25\n",
      "Rejected: \t0\n",
      "Iteration: \t5 / 100\n",
      "Confirmed: \t0\n",
      "Tentative: \t25\n",
      "Rejected: \t0\n",
      "Iteration: \t6 / 100\n",
      "Confirmed: \t0\n",
      "Tentative: \t25\n",
      "Rejected: \t0\n",
      "Iteration: \t7 / 100\n",
      "Confirmed: \t0\n",
      "Tentative: \t25\n",
      "Rejected: \t0\n",
      "Iteration: \t8 / 100\n",
      "Confirmed: \t20\n",
      "Tentative: \t5\n",
      "Rejected: \t0\n",
      "Iteration: \t9 / 100\n",
      "Confirmed: \t20\n",
      "Tentative: \t4\n",
      "Rejected: \t1\n"
     ]
    },
    {
     "name": "stderr",
     "output_type": "stream",
     "text": [
      "C:\\Users\\Anuja\\Anaconda3\\lib\\site-packages\\boruta\\boruta_py.py:418: RuntimeWarning:\n",
      "\n",
      "invalid value encountered in greater\n",
      "\n"
     ]
    },
    {
     "name": "stdout",
     "output_type": "stream",
     "text": [
      "Iteration: \t10 / 100\n",
      "Confirmed: \t20\n",
      "Tentative: \t4\n",
      "Rejected: \t1\n"
     ]
    },
    {
     "name": "stderr",
     "output_type": "stream",
     "text": [
      "C:\\Users\\Anuja\\Anaconda3\\lib\\site-packages\\boruta\\boruta_py.py:418: RuntimeWarning:\n",
      "\n",
      "invalid value encountered in greater\n",
      "\n"
     ]
    },
    {
     "name": "stdout",
     "output_type": "stream",
     "text": [
      "Iteration: \t11 / 100\n",
      "Confirmed: \t20\n",
      "Tentative: \t4\n",
      "Rejected: \t1\n"
     ]
    },
    {
     "name": "stderr",
     "output_type": "stream",
     "text": [
      "C:\\Users\\Anuja\\Anaconda3\\lib\\site-packages\\boruta\\boruta_py.py:418: RuntimeWarning:\n",
      "\n",
      "invalid value encountered in greater\n",
      "\n"
     ]
    },
    {
     "name": "stdout",
     "output_type": "stream",
     "text": [
      "Iteration: \t12 / 100\n",
      "Confirmed: \t20\n",
      "Tentative: \t4\n",
      "Rejected: \t1\n"
     ]
    },
    {
     "name": "stderr",
     "output_type": "stream",
     "text": [
      "C:\\Users\\Anuja\\Anaconda3\\lib\\site-packages\\boruta\\boruta_py.py:418: RuntimeWarning:\n",
      "\n",
      "invalid value encountered in greater\n",
      "\n"
     ]
    },
    {
     "name": "stdout",
     "output_type": "stream",
     "text": [
      "Iteration: \t13 / 100\n",
      "Confirmed: \t20\n",
      "Tentative: \t4\n",
      "Rejected: \t1\n"
     ]
    },
    {
     "name": "stderr",
     "output_type": "stream",
     "text": [
      "C:\\Users\\Anuja\\Anaconda3\\lib\\site-packages\\boruta\\boruta_py.py:418: RuntimeWarning:\n",
      "\n",
      "invalid value encountered in greater\n",
      "\n"
     ]
    },
    {
     "name": "stdout",
     "output_type": "stream",
     "text": [
      "Iteration: \t14 / 100\n",
      "Confirmed: \t20\n",
      "Tentative: \t4\n",
      "Rejected: \t1\n"
     ]
    },
    {
     "name": "stderr",
     "output_type": "stream",
     "text": [
      "C:\\Users\\Anuja\\Anaconda3\\lib\\site-packages\\boruta\\boruta_py.py:418: RuntimeWarning:\n",
      "\n",
      "invalid value encountered in greater\n",
      "\n"
     ]
    },
    {
     "name": "stdout",
     "output_type": "stream",
     "text": [
      "Iteration: \t15 / 100\n",
      "Confirmed: \t20\n",
      "Tentative: \t4\n",
      "Rejected: \t1\n"
     ]
    },
    {
     "name": "stderr",
     "output_type": "stream",
     "text": [
      "C:\\Users\\Anuja\\Anaconda3\\lib\\site-packages\\boruta\\boruta_py.py:418: RuntimeWarning:\n",
      "\n",
      "invalid value encountered in greater\n",
      "\n"
     ]
    },
    {
     "name": "stdout",
     "output_type": "stream",
     "text": [
      "Iteration: \t16 / 100\n",
      "Confirmed: \t20\n",
      "Tentative: \t4\n",
      "Rejected: \t1\n"
     ]
    },
    {
     "name": "stderr",
     "output_type": "stream",
     "text": [
      "C:\\Users\\Anuja\\Anaconda3\\lib\\site-packages\\boruta\\boruta_py.py:418: RuntimeWarning:\n",
      "\n",
      "invalid value encountered in greater\n",
      "\n"
     ]
    },
    {
     "name": "stdout",
     "output_type": "stream",
     "text": [
      "Iteration: \t17 / 100\n",
      "Confirmed: \t20\n",
      "Tentative: \t4\n",
      "Rejected: \t1\n"
     ]
    },
    {
     "name": "stderr",
     "output_type": "stream",
     "text": [
      "C:\\Users\\Anuja\\Anaconda3\\lib\\site-packages\\boruta\\boruta_py.py:418: RuntimeWarning:\n",
      "\n",
      "invalid value encountered in greater\n",
      "\n"
     ]
    },
    {
     "name": "stdout",
     "output_type": "stream",
     "text": [
      "Iteration: \t18 / 100\n",
      "Confirmed: \t20\n",
      "Tentative: \t4\n",
      "Rejected: \t1\n"
     ]
    },
    {
     "name": "stderr",
     "output_type": "stream",
     "text": [
      "C:\\Users\\Anuja\\Anaconda3\\lib\\site-packages\\boruta\\boruta_py.py:418: RuntimeWarning:\n",
      "\n",
      "invalid value encountered in greater\n",
      "\n"
     ]
    },
    {
     "name": "stdout",
     "output_type": "stream",
     "text": [
      "Iteration: \t19 / 100\n",
      "Confirmed: \t20\n",
      "Tentative: \t4\n",
      "Rejected: \t1\n"
     ]
    },
    {
     "name": "stderr",
     "output_type": "stream",
     "text": [
      "C:\\Users\\Anuja\\Anaconda3\\lib\\site-packages\\boruta\\boruta_py.py:418: RuntimeWarning:\n",
      "\n",
      "invalid value encountered in greater\n",
      "\n"
     ]
    },
    {
     "name": "stdout",
     "output_type": "stream",
     "text": [
      "Iteration: \t20 / 100\n",
      "Confirmed: \t20\n",
      "Tentative: \t4\n",
      "Rejected: \t1\n"
     ]
    },
    {
     "name": "stderr",
     "output_type": "stream",
     "text": [
      "C:\\Users\\Anuja\\Anaconda3\\lib\\site-packages\\boruta\\boruta_py.py:418: RuntimeWarning:\n",
      "\n",
      "invalid value encountered in greater\n",
      "\n"
     ]
    },
    {
     "name": "stdout",
     "output_type": "stream",
     "text": [
      "Iteration: \t21 / 100\n",
      "Confirmed: \t20\n",
      "Tentative: \t4\n",
      "Rejected: \t1\n"
     ]
    },
    {
     "name": "stderr",
     "output_type": "stream",
     "text": [
      "C:\\Users\\Anuja\\Anaconda3\\lib\\site-packages\\boruta\\boruta_py.py:418: RuntimeWarning:\n",
      "\n",
      "invalid value encountered in greater\n",
      "\n"
     ]
    },
    {
     "name": "stdout",
     "output_type": "stream",
     "text": [
      "Iteration: \t22 / 100\n",
      "Confirmed: \t20\n",
      "Tentative: \t4\n",
      "Rejected: \t1\n"
     ]
    },
    {
     "name": "stderr",
     "output_type": "stream",
     "text": [
      "C:\\Users\\Anuja\\Anaconda3\\lib\\site-packages\\boruta\\boruta_py.py:418: RuntimeWarning:\n",
      "\n",
      "invalid value encountered in greater\n",
      "\n"
     ]
    },
    {
     "name": "stdout",
     "output_type": "stream",
     "text": [
      "Iteration: \t23 / 100\n",
      "Confirmed: \t20\n",
      "Tentative: \t4\n",
      "Rejected: \t1\n"
     ]
    },
    {
     "name": "stderr",
     "output_type": "stream",
     "text": [
      "C:\\Users\\Anuja\\Anaconda3\\lib\\site-packages\\boruta\\boruta_py.py:418: RuntimeWarning:\n",
      "\n",
      "invalid value encountered in greater\n",
      "\n"
     ]
    },
    {
     "name": "stdout",
     "output_type": "stream",
     "text": [
      "Iteration: \t24 / 100\n",
      "Confirmed: \t20\n",
      "Tentative: \t4\n",
      "Rejected: \t1\n"
     ]
    },
    {
     "name": "stderr",
     "output_type": "stream",
     "text": [
      "C:\\Users\\Anuja\\Anaconda3\\lib\\site-packages\\boruta\\boruta_py.py:418: RuntimeWarning:\n",
      "\n",
      "invalid value encountered in greater\n",
      "\n"
     ]
    },
    {
     "name": "stdout",
     "output_type": "stream",
     "text": [
      "Iteration: \t25 / 100\n",
      "Confirmed: \t20\n",
      "Tentative: \t4\n",
      "Rejected: \t1\n"
     ]
    },
    {
     "name": "stderr",
     "output_type": "stream",
     "text": [
      "C:\\Users\\Anuja\\Anaconda3\\lib\\site-packages\\boruta\\boruta_py.py:418: RuntimeWarning:\n",
      "\n",
      "invalid value encountered in greater\n",
      "\n"
     ]
    },
    {
     "name": "stdout",
     "output_type": "stream",
     "text": [
      "Iteration: \t26 / 100\n",
      "Confirmed: \t20\n",
      "Tentative: \t4\n",
      "Rejected: \t1\n"
     ]
    },
    {
     "name": "stderr",
     "output_type": "stream",
     "text": [
      "C:\\Users\\Anuja\\Anaconda3\\lib\\site-packages\\boruta\\boruta_py.py:418: RuntimeWarning:\n",
      "\n",
      "invalid value encountered in greater\n",
      "\n"
     ]
    },
    {
     "name": "stdout",
     "output_type": "stream",
     "text": [
      "Iteration: \t27 / 100\n",
      "Confirmed: \t20\n",
      "Tentative: \t4\n",
      "Rejected: \t1\n"
     ]
    },
    {
     "name": "stderr",
     "output_type": "stream",
     "text": [
      "C:\\Users\\Anuja\\Anaconda3\\lib\\site-packages\\boruta\\boruta_py.py:418: RuntimeWarning:\n",
      "\n",
      "invalid value encountered in greater\n",
      "\n"
     ]
    },
    {
     "name": "stdout",
     "output_type": "stream",
     "text": [
      "Iteration: \t28 / 100\n",
      "Confirmed: \t20\n",
      "Tentative: \t4\n",
      "Rejected: \t1\n"
     ]
    },
    {
     "name": "stderr",
     "output_type": "stream",
     "text": [
      "C:\\Users\\Anuja\\Anaconda3\\lib\\site-packages\\boruta\\boruta_py.py:418: RuntimeWarning:\n",
      "\n",
      "invalid value encountered in greater\n",
      "\n"
     ]
    },
    {
     "name": "stdout",
     "output_type": "stream",
     "text": [
      "Iteration: \t29 / 100\n",
      "Confirmed: \t20\n",
      "Tentative: \t4\n",
      "Rejected: \t1\n"
     ]
    },
    {
     "name": "stderr",
     "output_type": "stream",
     "text": [
      "C:\\Users\\Anuja\\Anaconda3\\lib\\site-packages\\boruta\\boruta_py.py:418: RuntimeWarning:\n",
      "\n",
      "invalid value encountered in greater\n",
      "\n"
     ]
    },
    {
     "name": "stdout",
     "output_type": "stream",
     "text": [
      "Iteration: \t30 / 100\n",
      "Confirmed: \t20\n",
      "Tentative: \t4\n",
      "Rejected: \t1\n"
     ]
    },
    {
     "name": "stderr",
     "output_type": "stream",
     "text": [
      "C:\\Users\\Anuja\\Anaconda3\\lib\\site-packages\\boruta\\boruta_py.py:418: RuntimeWarning:\n",
      "\n",
      "invalid value encountered in greater\n",
      "\n"
     ]
    },
    {
     "name": "stdout",
     "output_type": "stream",
     "text": [
      "Iteration: \t31 / 100\n",
      "Confirmed: \t20\n",
      "Tentative: \t4\n",
      "Rejected: \t1\n"
     ]
    },
    {
     "name": "stderr",
     "output_type": "stream",
     "text": [
      "C:\\Users\\Anuja\\Anaconda3\\lib\\site-packages\\boruta\\boruta_py.py:418: RuntimeWarning:\n",
      "\n",
      "invalid value encountered in greater\n",
      "\n"
     ]
    },
    {
     "name": "stdout",
     "output_type": "stream",
     "text": [
      "Iteration: \t32 / 100\n",
      "Confirmed: \t20\n",
      "Tentative: \t3\n",
      "Rejected: \t2\n"
     ]
    },
    {
     "name": "stderr",
     "output_type": "stream",
     "text": [
      "C:\\Users\\Anuja\\Anaconda3\\lib\\site-packages\\boruta\\boruta_py.py:418: RuntimeWarning:\n",
      "\n",
      "invalid value encountered in greater\n",
      "\n"
     ]
    },
    {
     "name": "stdout",
     "output_type": "stream",
     "text": [
      "Iteration: \t33 / 100\n",
      "Confirmed: \t20\n",
      "Tentative: \t3\n",
      "Rejected: \t2\n"
     ]
    },
    {
     "name": "stderr",
     "output_type": "stream",
     "text": [
      "C:\\Users\\Anuja\\Anaconda3\\lib\\site-packages\\boruta\\boruta_py.py:418: RuntimeWarning:\n",
      "\n",
      "invalid value encountered in greater\n",
      "\n"
     ]
    },
    {
     "name": "stdout",
     "output_type": "stream",
     "text": [
      "Iteration: \t34 / 100\n",
      "Confirmed: \t20\n",
      "Tentative: \t3\n",
      "Rejected: \t2\n"
     ]
    },
    {
     "name": "stderr",
     "output_type": "stream",
     "text": [
      "C:\\Users\\Anuja\\Anaconda3\\lib\\site-packages\\boruta\\boruta_py.py:418: RuntimeWarning:\n",
      "\n",
      "invalid value encountered in greater\n",
      "\n"
     ]
    },
    {
     "name": "stdout",
     "output_type": "stream",
     "text": [
      "Iteration: \t35 / 100\n",
      "Confirmed: \t20\n",
      "Tentative: \t3\n",
      "Rejected: \t2\n"
     ]
    },
    {
     "name": "stderr",
     "output_type": "stream",
     "text": [
      "C:\\Users\\Anuja\\Anaconda3\\lib\\site-packages\\boruta\\boruta_py.py:418: RuntimeWarning:\n",
      "\n",
      "invalid value encountered in greater\n",
      "\n"
     ]
    },
    {
     "name": "stdout",
     "output_type": "stream",
     "text": [
      "Iteration: \t36 / 100\n",
      "Confirmed: \t20\n",
      "Tentative: \t3\n",
      "Rejected: \t2\n"
     ]
    },
    {
     "name": "stderr",
     "output_type": "stream",
     "text": [
      "C:\\Users\\Anuja\\Anaconda3\\lib\\site-packages\\boruta\\boruta_py.py:418: RuntimeWarning:\n",
      "\n",
      "invalid value encountered in greater\n",
      "\n"
     ]
    },
    {
     "name": "stdout",
     "output_type": "stream",
     "text": [
      "Iteration: \t37 / 100\n",
      "Confirmed: \t20\n",
      "Tentative: \t3\n",
      "Rejected: \t2\n"
     ]
    },
    {
     "name": "stderr",
     "output_type": "stream",
     "text": [
      "C:\\Users\\Anuja\\Anaconda3\\lib\\site-packages\\boruta\\boruta_py.py:418: RuntimeWarning:\n",
      "\n",
      "invalid value encountered in greater\n",
      "\n"
     ]
    },
    {
     "name": "stdout",
     "output_type": "stream",
     "text": [
      "Iteration: \t38 / 100\n",
      "Confirmed: \t20\n",
      "Tentative: \t3\n",
      "Rejected: \t2\n"
     ]
    },
    {
     "name": "stderr",
     "output_type": "stream",
     "text": [
      "C:\\Users\\Anuja\\Anaconda3\\lib\\site-packages\\boruta\\boruta_py.py:418: RuntimeWarning:\n",
      "\n",
      "invalid value encountered in greater\n",
      "\n"
     ]
    },
    {
     "name": "stdout",
     "output_type": "stream",
     "text": [
      "Iteration: \t39 / 100\n",
      "Confirmed: \t20\n",
      "Tentative: \t3\n",
      "Rejected: \t2\n"
     ]
    },
    {
     "name": "stderr",
     "output_type": "stream",
     "text": [
      "C:\\Users\\Anuja\\Anaconda3\\lib\\site-packages\\boruta\\boruta_py.py:418: RuntimeWarning:\n",
      "\n",
      "invalid value encountered in greater\n",
      "\n"
     ]
    },
    {
     "name": "stdout",
     "output_type": "stream",
     "text": [
      "Iteration: \t40 / 100\n",
      "Confirmed: \t20\n",
      "Tentative: \t3\n",
      "Rejected: \t2\n"
     ]
    },
    {
     "name": "stderr",
     "output_type": "stream",
     "text": [
      "C:\\Users\\Anuja\\Anaconda3\\lib\\site-packages\\boruta\\boruta_py.py:418: RuntimeWarning:\n",
      "\n",
      "invalid value encountered in greater\n",
      "\n"
     ]
    },
    {
     "name": "stdout",
     "output_type": "stream",
     "text": [
      "Iteration: \t41 / 100\n",
      "Confirmed: \t20\n",
      "Tentative: \t3\n",
      "Rejected: \t2\n"
     ]
    },
    {
     "name": "stderr",
     "output_type": "stream",
     "text": [
      "C:\\Users\\Anuja\\Anaconda3\\lib\\site-packages\\boruta\\boruta_py.py:418: RuntimeWarning:\n",
      "\n",
      "invalid value encountered in greater\n",
      "\n"
     ]
    },
    {
     "name": "stdout",
     "output_type": "stream",
     "text": [
      "Iteration: \t42 / 100\n",
      "Confirmed: \t20\n",
      "Tentative: \t3\n",
      "Rejected: \t2\n"
     ]
    },
    {
     "name": "stderr",
     "output_type": "stream",
     "text": [
      "C:\\Users\\Anuja\\Anaconda3\\lib\\site-packages\\boruta\\boruta_py.py:418: RuntimeWarning:\n",
      "\n",
      "invalid value encountered in greater\n",
      "\n"
     ]
    },
    {
     "name": "stdout",
     "output_type": "stream",
     "text": [
      "Iteration: \t43 / 100\n",
      "Confirmed: \t20\n",
      "Tentative: \t3\n",
      "Rejected: \t2\n"
     ]
    },
    {
     "name": "stderr",
     "output_type": "stream",
     "text": [
      "C:\\Users\\Anuja\\Anaconda3\\lib\\site-packages\\boruta\\boruta_py.py:418: RuntimeWarning:\n",
      "\n",
      "invalid value encountered in greater\n",
      "\n"
     ]
    },
    {
     "name": "stdout",
     "output_type": "stream",
     "text": [
      "Iteration: \t44 / 100\n",
      "Confirmed: \t20\n",
      "Tentative: \t3\n",
      "Rejected: \t2\n"
     ]
    },
    {
     "name": "stderr",
     "output_type": "stream",
     "text": [
      "C:\\Users\\Anuja\\Anaconda3\\lib\\site-packages\\boruta\\boruta_py.py:418: RuntimeWarning:\n",
      "\n",
      "invalid value encountered in greater\n",
      "\n"
     ]
    },
    {
     "name": "stdout",
     "output_type": "stream",
     "text": [
      "Iteration: \t45 / 100\n",
      "Confirmed: \t20\n",
      "Tentative: \t3\n",
      "Rejected: \t2\n"
     ]
    },
    {
     "name": "stderr",
     "output_type": "stream",
     "text": [
      "C:\\Users\\Anuja\\Anaconda3\\lib\\site-packages\\boruta\\boruta_py.py:418: RuntimeWarning:\n",
      "\n",
      "invalid value encountered in greater\n",
      "\n"
     ]
    },
    {
     "name": "stdout",
     "output_type": "stream",
     "text": [
      "Iteration: \t46 / 100\n",
      "Confirmed: \t20\n",
      "Tentative: \t3\n",
      "Rejected: \t2\n"
     ]
    },
    {
     "name": "stderr",
     "output_type": "stream",
     "text": [
      "C:\\Users\\Anuja\\Anaconda3\\lib\\site-packages\\boruta\\boruta_py.py:418: RuntimeWarning:\n",
      "\n",
      "invalid value encountered in greater\n",
      "\n"
     ]
    },
    {
     "name": "stdout",
     "output_type": "stream",
     "text": [
      "Iteration: \t47 / 100\n",
      "Confirmed: \t20\n",
      "Tentative: \t3\n",
      "Rejected: \t2\n"
     ]
    },
    {
     "name": "stderr",
     "output_type": "stream",
     "text": [
      "C:\\Users\\Anuja\\Anaconda3\\lib\\site-packages\\boruta\\boruta_py.py:418: RuntimeWarning:\n",
      "\n",
      "invalid value encountered in greater\n",
      "\n"
     ]
    },
    {
     "name": "stdout",
     "output_type": "stream",
     "text": [
      "Iteration: \t48 / 100\n",
      "Confirmed: \t20\n",
      "Tentative: \t3\n",
      "Rejected: \t2\n"
     ]
    },
    {
     "name": "stderr",
     "output_type": "stream",
     "text": [
      "C:\\Users\\Anuja\\Anaconda3\\lib\\site-packages\\boruta\\boruta_py.py:418: RuntimeWarning:\n",
      "\n",
      "invalid value encountered in greater\n",
      "\n"
     ]
    },
    {
     "name": "stdout",
     "output_type": "stream",
     "text": [
      "Iteration: \t49 / 100\n",
      "Confirmed: \t20\n",
      "Tentative: \t3\n",
      "Rejected: \t2\n"
     ]
    },
    {
     "name": "stderr",
     "output_type": "stream",
     "text": [
      "C:\\Users\\Anuja\\Anaconda3\\lib\\site-packages\\boruta\\boruta_py.py:418: RuntimeWarning:\n",
      "\n",
      "invalid value encountered in greater\n",
      "\n"
     ]
    },
    {
     "name": "stdout",
     "output_type": "stream",
     "text": [
      "Iteration: \t50 / 100\n",
      "Confirmed: \t20\n",
      "Tentative: \t3\n",
      "Rejected: \t2\n"
     ]
    },
    {
     "name": "stderr",
     "output_type": "stream",
     "text": [
      "C:\\Users\\Anuja\\Anaconda3\\lib\\site-packages\\boruta\\boruta_py.py:418: RuntimeWarning:\n",
      "\n",
      "invalid value encountered in greater\n",
      "\n"
     ]
    },
    {
     "name": "stdout",
     "output_type": "stream",
     "text": [
      "Iteration: \t51 / 100\n",
      "Confirmed: \t20\n",
      "Tentative: \t3\n",
      "Rejected: \t2\n"
     ]
    },
    {
     "name": "stderr",
     "output_type": "stream",
     "text": [
      "C:\\Users\\Anuja\\Anaconda3\\lib\\site-packages\\boruta\\boruta_py.py:418: RuntimeWarning:\n",
      "\n",
      "invalid value encountered in greater\n",
      "\n"
     ]
    },
    {
     "name": "stdout",
     "output_type": "stream",
     "text": [
      "Iteration: \t52 / 100\n",
      "Confirmed: \t20\n",
      "Tentative: \t3\n",
      "Rejected: \t2\n"
     ]
    },
    {
     "name": "stderr",
     "output_type": "stream",
     "text": [
      "C:\\Users\\Anuja\\Anaconda3\\lib\\site-packages\\boruta\\boruta_py.py:418: RuntimeWarning:\n",
      "\n",
      "invalid value encountered in greater\n",
      "\n"
     ]
    },
    {
     "name": "stdout",
     "output_type": "stream",
     "text": [
      "Iteration: \t53 / 100\n",
      "Confirmed: \t20\n",
      "Tentative: \t3\n",
      "Rejected: \t2\n"
     ]
    },
    {
     "name": "stderr",
     "output_type": "stream",
     "text": [
      "C:\\Users\\Anuja\\Anaconda3\\lib\\site-packages\\boruta\\boruta_py.py:418: RuntimeWarning:\n",
      "\n",
      "invalid value encountered in greater\n",
      "\n"
     ]
    },
    {
     "name": "stdout",
     "output_type": "stream",
     "text": [
      "Iteration: \t54 / 100\n",
      "Confirmed: \t20\n",
      "Tentative: \t3\n",
      "Rejected: \t2\n"
     ]
    },
    {
     "name": "stderr",
     "output_type": "stream",
     "text": [
      "C:\\Users\\Anuja\\Anaconda3\\lib\\site-packages\\boruta\\boruta_py.py:418: RuntimeWarning:\n",
      "\n",
      "invalid value encountered in greater\n",
      "\n"
     ]
    },
    {
     "name": "stdout",
     "output_type": "stream",
     "text": [
      "Iteration: \t55 / 100\n",
      "Confirmed: \t20\n",
      "Tentative: \t3\n",
      "Rejected: \t2\n"
     ]
    },
    {
     "name": "stderr",
     "output_type": "stream",
     "text": [
      "C:\\Users\\Anuja\\Anaconda3\\lib\\site-packages\\boruta\\boruta_py.py:418: RuntimeWarning:\n",
      "\n",
      "invalid value encountered in greater\n",
      "\n"
     ]
    },
    {
     "name": "stdout",
     "output_type": "stream",
     "text": [
      "Iteration: \t56 / 100\n",
      "Confirmed: \t20\n",
      "Tentative: \t3\n",
      "Rejected: \t2\n"
     ]
    },
    {
     "name": "stderr",
     "output_type": "stream",
     "text": [
      "C:\\Users\\Anuja\\Anaconda3\\lib\\site-packages\\boruta\\boruta_py.py:418: RuntimeWarning:\n",
      "\n",
      "invalid value encountered in greater\n",
      "\n"
     ]
    },
    {
     "name": "stdout",
     "output_type": "stream",
     "text": [
      "Iteration: \t57 / 100\n",
      "Confirmed: \t20\n",
      "Tentative: \t3\n",
      "Rejected: \t2\n"
     ]
    },
    {
     "name": "stderr",
     "output_type": "stream",
     "text": [
      "C:\\Users\\Anuja\\Anaconda3\\lib\\site-packages\\boruta\\boruta_py.py:418: RuntimeWarning:\n",
      "\n",
      "invalid value encountered in greater\n",
      "\n"
     ]
    },
    {
     "name": "stdout",
     "output_type": "stream",
     "text": [
      "Iteration: \t58 / 100\n",
      "Confirmed: \t20\n",
      "Tentative: \t3\n",
      "Rejected: \t2\n"
     ]
    },
    {
     "name": "stderr",
     "output_type": "stream",
     "text": [
      "C:\\Users\\Anuja\\Anaconda3\\lib\\site-packages\\boruta\\boruta_py.py:418: RuntimeWarning:\n",
      "\n",
      "invalid value encountered in greater\n",
      "\n"
     ]
    },
    {
     "name": "stdout",
     "output_type": "stream",
     "text": [
      "Iteration: \t59 / 100\n",
      "Confirmed: \t20\n",
      "Tentative: \t3\n",
      "Rejected: \t2\n"
     ]
    },
    {
     "name": "stderr",
     "output_type": "stream",
     "text": [
      "C:\\Users\\Anuja\\Anaconda3\\lib\\site-packages\\boruta\\boruta_py.py:418: RuntimeWarning:\n",
      "\n",
      "invalid value encountered in greater\n",
      "\n"
     ]
    },
    {
     "name": "stdout",
     "output_type": "stream",
     "text": [
      "Iteration: \t60 / 100\n",
      "Confirmed: \t20\n",
      "Tentative: \t3\n",
      "Rejected: \t2\n"
     ]
    },
    {
     "name": "stderr",
     "output_type": "stream",
     "text": [
      "C:\\Users\\Anuja\\Anaconda3\\lib\\site-packages\\boruta\\boruta_py.py:418: RuntimeWarning:\n",
      "\n",
      "invalid value encountered in greater\n",
      "\n"
     ]
    },
    {
     "name": "stdout",
     "output_type": "stream",
     "text": [
      "Iteration: \t61 / 100\n",
      "Confirmed: \t20\n",
      "Tentative: \t3\n",
      "Rejected: \t2\n"
     ]
    },
    {
     "name": "stderr",
     "output_type": "stream",
     "text": [
      "C:\\Users\\Anuja\\Anaconda3\\lib\\site-packages\\boruta\\boruta_py.py:418: RuntimeWarning:\n",
      "\n",
      "invalid value encountered in greater\n",
      "\n"
     ]
    },
    {
     "name": "stdout",
     "output_type": "stream",
     "text": [
      "Iteration: \t62 / 100\n",
      "Confirmed: \t20\n",
      "Tentative: \t3\n",
      "Rejected: \t2\n"
     ]
    },
    {
     "name": "stderr",
     "output_type": "stream",
     "text": [
      "C:\\Users\\Anuja\\Anaconda3\\lib\\site-packages\\boruta\\boruta_py.py:418: RuntimeWarning:\n",
      "\n",
      "invalid value encountered in greater\n",
      "\n"
     ]
    },
    {
     "name": "stdout",
     "output_type": "stream",
     "text": [
      "Iteration: \t63 / 100\n",
      "Confirmed: \t20\n",
      "Tentative: \t3\n",
      "Rejected: \t2\n"
     ]
    },
    {
     "name": "stderr",
     "output_type": "stream",
     "text": [
      "C:\\Users\\Anuja\\Anaconda3\\lib\\site-packages\\boruta\\boruta_py.py:418: RuntimeWarning:\n",
      "\n",
      "invalid value encountered in greater\n",
      "\n"
     ]
    },
    {
     "name": "stdout",
     "output_type": "stream",
     "text": [
      "Iteration: \t64 / 100\n",
      "Confirmed: \t20\n",
      "Tentative: \t3\n",
      "Rejected: \t2\n"
     ]
    },
    {
     "name": "stderr",
     "output_type": "stream",
     "text": [
      "C:\\Users\\Anuja\\Anaconda3\\lib\\site-packages\\boruta\\boruta_py.py:418: RuntimeWarning:\n",
      "\n",
      "invalid value encountered in greater\n",
      "\n"
     ]
    },
    {
     "name": "stdout",
     "output_type": "stream",
     "text": [
      "Iteration: \t65 / 100\n",
      "Confirmed: \t20\n",
      "Tentative: \t3\n",
      "Rejected: \t2\n"
     ]
    },
    {
     "name": "stderr",
     "output_type": "stream",
     "text": [
      "C:\\Users\\Anuja\\Anaconda3\\lib\\site-packages\\boruta\\boruta_py.py:418: RuntimeWarning:\n",
      "\n",
      "invalid value encountered in greater\n",
      "\n"
     ]
    },
    {
     "name": "stdout",
     "output_type": "stream",
     "text": [
      "Iteration: \t66 / 100\n",
      "Confirmed: \t20\n",
      "Tentative: \t3\n",
      "Rejected: \t2\n"
     ]
    },
    {
     "name": "stderr",
     "output_type": "stream",
     "text": [
      "C:\\Users\\Anuja\\Anaconda3\\lib\\site-packages\\boruta\\boruta_py.py:418: RuntimeWarning:\n",
      "\n",
      "invalid value encountered in greater\n",
      "\n"
     ]
    },
    {
     "name": "stdout",
     "output_type": "stream",
     "text": [
      "Iteration: \t67 / 100\n",
      "Confirmed: \t20\n",
      "Tentative: \t3\n",
      "Rejected: \t2\n"
     ]
    },
    {
     "name": "stderr",
     "output_type": "stream",
     "text": [
      "C:\\Users\\Anuja\\Anaconda3\\lib\\site-packages\\boruta\\boruta_py.py:418: RuntimeWarning:\n",
      "\n",
      "invalid value encountered in greater\n",
      "\n"
     ]
    },
    {
     "name": "stdout",
     "output_type": "stream",
     "text": [
      "Iteration: \t68 / 100\n",
      "Confirmed: \t20\n",
      "Tentative: \t3\n",
      "Rejected: \t2\n"
     ]
    },
    {
     "name": "stderr",
     "output_type": "stream",
     "text": [
      "C:\\Users\\Anuja\\Anaconda3\\lib\\site-packages\\boruta\\boruta_py.py:418: RuntimeWarning:\n",
      "\n",
      "invalid value encountered in greater\n",
      "\n"
     ]
    },
    {
     "name": "stdout",
     "output_type": "stream",
     "text": [
      "Iteration: \t69 / 100\n",
      "Confirmed: \t20\n",
      "Tentative: \t3\n",
      "Rejected: \t2\n"
     ]
    },
    {
     "name": "stderr",
     "output_type": "stream",
     "text": [
      "C:\\Users\\Anuja\\Anaconda3\\lib\\site-packages\\boruta\\boruta_py.py:418: RuntimeWarning:\n",
      "\n",
      "invalid value encountered in greater\n",
      "\n"
     ]
    },
    {
     "name": "stdout",
     "output_type": "stream",
     "text": [
      "Iteration: \t70 / 100\n",
      "Confirmed: \t20\n",
      "Tentative: \t3\n",
      "Rejected: \t2\n"
     ]
    },
    {
     "name": "stderr",
     "output_type": "stream",
     "text": [
      "C:\\Users\\Anuja\\Anaconda3\\lib\\site-packages\\boruta\\boruta_py.py:418: RuntimeWarning:\n",
      "\n",
      "invalid value encountered in greater\n",
      "\n"
     ]
    },
    {
     "name": "stdout",
     "output_type": "stream",
     "text": [
      "Iteration: \t71 / 100\n",
      "Confirmed: \t20\n",
      "Tentative: \t3\n",
      "Rejected: \t2\n"
     ]
    },
    {
     "name": "stderr",
     "output_type": "stream",
     "text": [
      "C:\\Users\\Anuja\\Anaconda3\\lib\\site-packages\\boruta\\boruta_py.py:418: RuntimeWarning:\n",
      "\n",
      "invalid value encountered in greater\n",
      "\n"
     ]
    },
    {
     "name": "stdout",
     "output_type": "stream",
     "text": [
      "Iteration: \t72 / 100\n",
      "Confirmed: \t20\n",
      "Tentative: \t3\n",
      "Rejected: \t2\n"
     ]
    },
    {
     "name": "stderr",
     "output_type": "stream",
     "text": [
      "C:\\Users\\Anuja\\Anaconda3\\lib\\site-packages\\boruta\\boruta_py.py:418: RuntimeWarning:\n",
      "\n",
      "invalid value encountered in greater\n",
      "\n"
     ]
    },
    {
     "name": "stdout",
     "output_type": "stream",
     "text": [
      "Iteration: \t73 / 100\n",
      "Confirmed: \t20\n",
      "Tentative: \t3\n",
      "Rejected: \t2\n"
     ]
    },
    {
     "name": "stderr",
     "output_type": "stream",
     "text": [
      "C:\\Users\\Anuja\\Anaconda3\\lib\\site-packages\\boruta\\boruta_py.py:418: RuntimeWarning:\n",
      "\n",
      "invalid value encountered in greater\n",
      "\n"
     ]
    },
    {
     "name": "stdout",
     "output_type": "stream",
     "text": [
      "Iteration: \t74 / 100\n",
      "Confirmed: \t20\n",
      "Tentative: \t3\n",
      "Rejected: \t2\n"
     ]
    },
    {
     "name": "stderr",
     "output_type": "stream",
     "text": [
      "C:\\Users\\Anuja\\Anaconda3\\lib\\site-packages\\boruta\\boruta_py.py:418: RuntimeWarning:\n",
      "\n",
      "invalid value encountered in greater\n",
      "\n"
     ]
    },
    {
     "name": "stdout",
     "output_type": "stream",
     "text": [
      "Iteration: \t75 / 100\n",
      "Confirmed: \t20\n",
      "Tentative: \t3\n",
      "Rejected: \t2\n"
     ]
    },
    {
     "name": "stderr",
     "output_type": "stream",
     "text": [
      "C:\\Users\\Anuja\\Anaconda3\\lib\\site-packages\\boruta\\boruta_py.py:418: RuntimeWarning:\n",
      "\n",
      "invalid value encountered in greater\n",
      "\n"
     ]
    },
    {
     "name": "stdout",
     "output_type": "stream",
     "text": [
      "Iteration: \t76 / 100\n",
      "Confirmed: \t20\n",
      "Tentative: \t3\n",
      "Rejected: \t2\n"
     ]
    },
    {
     "name": "stderr",
     "output_type": "stream",
     "text": [
      "C:\\Users\\Anuja\\Anaconda3\\lib\\site-packages\\boruta\\boruta_py.py:418: RuntimeWarning:\n",
      "\n",
      "invalid value encountered in greater\n",
      "\n"
     ]
    },
    {
     "name": "stdout",
     "output_type": "stream",
     "text": [
      "Iteration: \t77 / 100\n",
      "Confirmed: \t20\n",
      "Tentative: \t3\n",
      "Rejected: \t2\n"
     ]
    },
    {
     "name": "stderr",
     "output_type": "stream",
     "text": [
      "C:\\Users\\Anuja\\Anaconda3\\lib\\site-packages\\boruta\\boruta_py.py:418: RuntimeWarning:\n",
      "\n",
      "invalid value encountered in greater\n",
      "\n"
     ]
    },
    {
     "name": "stdout",
     "output_type": "stream",
     "text": [
      "Iteration: \t78 / 100\n",
      "Confirmed: \t20\n",
      "Tentative: \t3\n",
      "Rejected: \t2\n"
     ]
    },
    {
     "name": "stderr",
     "output_type": "stream",
     "text": [
      "C:\\Users\\Anuja\\Anaconda3\\lib\\site-packages\\boruta\\boruta_py.py:418: RuntimeWarning:\n",
      "\n",
      "invalid value encountered in greater\n",
      "\n"
     ]
    },
    {
     "name": "stdout",
     "output_type": "stream",
     "text": [
      "Iteration: \t79 / 100\n",
      "Confirmed: \t20\n",
      "Tentative: \t3\n",
      "Rejected: \t2\n"
     ]
    },
    {
     "name": "stderr",
     "output_type": "stream",
     "text": [
      "C:\\Users\\Anuja\\Anaconda3\\lib\\site-packages\\boruta\\boruta_py.py:418: RuntimeWarning:\n",
      "\n",
      "invalid value encountered in greater\n",
      "\n"
     ]
    },
    {
     "name": "stdout",
     "output_type": "stream",
     "text": [
      "Iteration: \t80 / 100\n",
      "Confirmed: \t20\n",
      "Tentative: \t3\n",
      "Rejected: \t2\n"
     ]
    },
    {
     "name": "stderr",
     "output_type": "stream",
     "text": [
      "C:\\Users\\Anuja\\Anaconda3\\lib\\site-packages\\boruta\\boruta_py.py:418: RuntimeWarning:\n",
      "\n",
      "invalid value encountered in greater\n",
      "\n"
     ]
    },
    {
     "name": "stdout",
     "output_type": "stream",
     "text": [
      "Iteration: \t81 / 100\n",
      "Confirmed: \t20\n",
      "Tentative: \t3\n",
      "Rejected: \t2\n"
     ]
    },
    {
     "name": "stderr",
     "output_type": "stream",
     "text": [
      "C:\\Users\\Anuja\\Anaconda3\\lib\\site-packages\\boruta\\boruta_py.py:418: RuntimeWarning:\n",
      "\n",
      "invalid value encountered in greater\n",
      "\n"
     ]
    },
    {
     "name": "stdout",
     "output_type": "stream",
     "text": [
      "Iteration: \t82 / 100\n",
      "Confirmed: \t20\n",
      "Tentative: \t3\n",
      "Rejected: \t2\n"
     ]
    },
    {
     "name": "stderr",
     "output_type": "stream",
     "text": [
      "C:\\Users\\Anuja\\Anaconda3\\lib\\site-packages\\boruta\\boruta_py.py:418: RuntimeWarning:\n",
      "\n",
      "invalid value encountered in greater\n",
      "\n"
     ]
    },
    {
     "name": "stdout",
     "output_type": "stream",
     "text": [
      "Iteration: \t83 / 100\n",
      "Confirmed: \t20\n",
      "Tentative: \t3\n",
      "Rejected: \t2\n"
     ]
    },
    {
     "name": "stderr",
     "output_type": "stream",
     "text": [
      "C:\\Users\\Anuja\\Anaconda3\\lib\\site-packages\\boruta\\boruta_py.py:418: RuntimeWarning:\n",
      "\n",
      "invalid value encountered in greater\n",
      "\n"
     ]
    },
    {
     "name": "stdout",
     "output_type": "stream",
     "text": [
      "Iteration: \t84 / 100\n",
      "Confirmed: \t20\n",
      "Tentative: \t3\n",
      "Rejected: \t2\n"
     ]
    },
    {
     "name": "stderr",
     "output_type": "stream",
     "text": [
      "C:\\Users\\Anuja\\Anaconda3\\lib\\site-packages\\boruta\\boruta_py.py:418: RuntimeWarning:\n",
      "\n",
      "invalid value encountered in greater\n",
      "\n"
     ]
    },
    {
     "name": "stdout",
     "output_type": "stream",
     "text": [
      "Iteration: \t85 / 100\n",
      "Confirmed: \t20\n",
      "Tentative: \t3\n",
      "Rejected: \t2\n"
     ]
    },
    {
     "name": "stderr",
     "output_type": "stream",
     "text": [
      "C:\\Users\\Anuja\\Anaconda3\\lib\\site-packages\\boruta\\boruta_py.py:418: RuntimeWarning:\n",
      "\n",
      "invalid value encountered in greater\n",
      "\n"
     ]
    },
    {
     "name": "stdout",
     "output_type": "stream",
     "text": [
      "Iteration: \t86 / 100\n",
      "Confirmed: \t20\n",
      "Tentative: \t3\n",
      "Rejected: \t2\n"
     ]
    },
    {
     "name": "stderr",
     "output_type": "stream",
     "text": [
      "C:\\Users\\Anuja\\Anaconda3\\lib\\site-packages\\boruta\\boruta_py.py:418: RuntimeWarning:\n",
      "\n",
      "invalid value encountered in greater\n",
      "\n"
     ]
    },
    {
     "name": "stdout",
     "output_type": "stream",
     "text": [
      "Iteration: \t87 / 100\n",
      "Confirmed: \t20\n",
      "Tentative: \t3\n",
      "Rejected: \t2\n"
     ]
    },
    {
     "name": "stderr",
     "output_type": "stream",
     "text": [
      "C:\\Users\\Anuja\\Anaconda3\\lib\\site-packages\\boruta\\boruta_py.py:418: RuntimeWarning:\n",
      "\n",
      "invalid value encountered in greater\n",
      "\n"
     ]
    },
    {
     "name": "stdout",
     "output_type": "stream",
     "text": [
      "Iteration: \t88 / 100\n",
      "Confirmed: \t20\n",
      "Tentative: \t3\n",
      "Rejected: \t2\n"
     ]
    },
    {
     "name": "stderr",
     "output_type": "stream",
     "text": [
      "C:\\Users\\Anuja\\Anaconda3\\lib\\site-packages\\boruta\\boruta_py.py:418: RuntimeWarning:\n",
      "\n",
      "invalid value encountered in greater\n",
      "\n"
     ]
    },
    {
     "name": "stdout",
     "output_type": "stream",
     "text": [
      "Iteration: \t89 / 100\n",
      "Confirmed: \t20\n",
      "Tentative: \t3\n",
      "Rejected: \t2\n"
     ]
    },
    {
     "name": "stderr",
     "output_type": "stream",
     "text": [
      "C:\\Users\\Anuja\\Anaconda3\\lib\\site-packages\\boruta\\boruta_py.py:418: RuntimeWarning:\n",
      "\n",
      "invalid value encountered in greater\n",
      "\n"
     ]
    },
    {
     "name": "stdout",
     "output_type": "stream",
     "text": [
      "Iteration: \t90 / 100\n",
      "Confirmed: \t20\n",
      "Tentative: \t3\n",
      "Rejected: \t2\n"
     ]
    },
    {
     "name": "stderr",
     "output_type": "stream",
     "text": [
      "C:\\Users\\Anuja\\Anaconda3\\lib\\site-packages\\boruta\\boruta_py.py:418: RuntimeWarning:\n",
      "\n",
      "invalid value encountered in greater\n",
      "\n"
     ]
    },
    {
     "name": "stdout",
     "output_type": "stream",
     "text": [
      "Iteration: \t91 / 100\n",
      "Confirmed: \t20\n",
      "Tentative: \t3\n",
      "Rejected: \t2\n"
     ]
    },
    {
     "name": "stderr",
     "output_type": "stream",
     "text": [
      "C:\\Users\\Anuja\\Anaconda3\\lib\\site-packages\\boruta\\boruta_py.py:418: RuntimeWarning:\n",
      "\n",
      "invalid value encountered in greater\n",
      "\n"
     ]
    },
    {
     "name": "stdout",
     "output_type": "stream",
     "text": [
      "Iteration: \t92 / 100\n",
      "Confirmed: \t20\n",
      "Tentative: \t3\n",
      "Rejected: \t2\n"
     ]
    },
    {
     "name": "stderr",
     "output_type": "stream",
     "text": [
      "C:\\Users\\Anuja\\Anaconda3\\lib\\site-packages\\boruta\\boruta_py.py:418: RuntimeWarning:\n",
      "\n",
      "invalid value encountered in greater\n",
      "\n"
     ]
    },
    {
     "name": "stdout",
     "output_type": "stream",
     "text": [
      "Iteration: \t93 / 100\n",
      "Confirmed: \t20\n",
      "Tentative: \t3\n",
      "Rejected: \t2\n"
     ]
    },
    {
     "name": "stderr",
     "output_type": "stream",
     "text": [
      "C:\\Users\\Anuja\\Anaconda3\\lib\\site-packages\\boruta\\boruta_py.py:418: RuntimeWarning:\n",
      "\n",
      "invalid value encountered in greater\n",
      "\n"
     ]
    },
    {
     "name": "stdout",
     "output_type": "stream",
     "text": [
      "Iteration: \t94 / 100\n",
      "Confirmed: \t20\n",
      "Tentative: \t3\n",
      "Rejected: \t2\n"
     ]
    },
    {
     "name": "stderr",
     "output_type": "stream",
     "text": [
      "C:\\Users\\Anuja\\Anaconda3\\lib\\site-packages\\boruta\\boruta_py.py:418: RuntimeWarning:\n",
      "\n",
      "invalid value encountered in greater\n",
      "\n"
     ]
    },
    {
     "name": "stdout",
     "output_type": "stream",
     "text": [
      "Iteration: \t95 / 100\n",
      "Confirmed: \t20\n",
      "Tentative: \t3\n",
      "Rejected: \t2\n"
     ]
    },
    {
     "name": "stderr",
     "output_type": "stream",
     "text": [
      "C:\\Users\\Anuja\\Anaconda3\\lib\\site-packages\\boruta\\boruta_py.py:418: RuntimeWarning:\n",
      "\n",
      "invalid value encountered in greater\n",
      "\n"
     ]
    },
    {
     "name": "stdout",
     "output_type": "stream",
     "text": [
      "Iteration: \t96 / 100\n",
      "Confirmed: \t20\n",
      "Tentative: \t3\n",
      "Rejected: \t2\n"
     ]
    },
    {
     "name": "stderr",
     "output_type": "stream",
     "text": [
      "C:\\Users\\Anuja\\Anaconda3\\lib\\site-packages\\boruta\\boruta_py.py:418: RuntimeWarning:\n",
      "\n",
      "invalid value encountered in greater\n",
      "\n"
     ]
    },
    {
     "name": "stdout",
     "output_type": "stream",
     "text": [
      "Iteration: \t97 / 100\n",
      "Confirmed: \t20\n",
      "Tentative: \t3\n",
      "Rejected: \t2\n"
     ]
    },
    {
     "name": "stderr",
     "output_type": "stream",
     "text": [
      "C:\\Users\\Anuja\\Anaconda3\\lib\\site-packages\\boruta\\boruta_py.py:418: RuntimeWarning:\n",
      "\n",
      "invalid value encountered in greater\n",
      "\n"
     ]
    },
    {
     "name": "stdout",
     "output_type": "stream",
     "text": [
      "Iteration: \t98 / 100\n",
      "Confirmed: \t20\n",
      "Tentative: \t3\n",
      "Rejected: \t2\n"
     ]
    },
    {
     "name": "stderr",
     "output_type": "stream",
     "text": [
      "C:\\Users\\Anuja\\Anaconda3\\lib\\site-packages\\boruta\\boruta_py.py:418: RuntimeWarning:\n",
      "\n",
      "invalid value encountered in greater\n",
      "\n"
     ]
    },
    {
     "name": "stdout",
     "output_type": "stream",
     "text": [
      "Iteration: \t99 / 100\n",
      "Confirmed: \t20\n",
      "Tentative: \t3\n",
      "Rejected: \t2\n",
      "\n",
      "\n",
      "BorutaPy finished running.\n",
      "\n",
      "Iteration: \t100 / 100\n",
      "Confirmed: \t20\n",
      "Tentative: \t1\n",
      "Rejected: \t2\n"
     ]
    },
    {
     "data": {
      "text/plain": [
       "BorutaPy(alpha=0.05,\n",
       "     estimator=RandomForestRegressor(bootstrap=True, criterion='mse', max_depth=5,\n",
       "           max_features='auto', max_leaf_nodes=None,\n",
       "           min_impurity_decrease=0.0, min_impurity_split=None,\n",
       "           min_samples_leaf=1, min_samples_split=2,\n",
       "           min_weight_fraction_leaf=0.0, n_estimators=135, n_jobs=-1,\n",
       "           oob_score=False,\n",
       "           random_state=<mtrand.RandomState object at 0x00000139C1FDE168>,\n",
       "           verbose=0, warm_start=False),\n",
       "     max_iter=100, n_estimators='auto', perc=100,\n",
       "     random_state=<mtrand.RandomState object at 0x00000139C1FDE168>,\n",
       "     two_step=True, verbose=2)"
      ]
     },
     "execution_count": 54,
     "metadata": {},
     "output_type": "execute_result"
    }
   ],
   "source": [
    "boruta_selector.fit(X,y)"
   ]
  },
  {
   "cell_type": "code",
   "execution_count": 55,
   "metadata": {},
   "outputs": [
    {
     "data": {
      "text/plain": [
       "array([ True,  True,  True,  True,  True,  True,  True,  True,  True,\n",
       "        True,  True, False,  True,  True,  True,  True,  True,  True,\n",
       "       False, False,  True,  True,  True, False, False], dtype=bool)"
      ]
     },
     "execution_count": 55,
     "metadata": {},
     "output_type": "execute_result"
    }
   ],
   "source": [
    "boruta_selector.support_"
   ]
  },
  {
   "cell_type": "code",
   "execution_count": 56,
   "metadata": {},
   "outputs": [
    {
     "data": {
      "text/plain": [
       "array([1, 1, 1, 1, 1, 1, 1, 1, 1, 1, 1, 4, 1, 1, 1, 1, 1, 1, 3, 2, 1, 1, 1,\n",
       "       6, 5])"
      ]
     },
     "execution_count": 56,
     "metadata": {},
     "output_type": "execute_result"
    }
   ],
   "source": [
    "boruta_selector.ranking_"
   ]
  },
  {
   "cell_type": "code",
   "execution_count": 59,
   "metadata": {},
   "outputs": [
    {
     "name": "stderr",
     "output_type": "stream",
     "text": [
      "C:\\Users\\Anuja\\Anaconda3\\lib\\importlib\\_bootstrap.py:219: ImportWarning:\n",
      "\n",
      "can't resolve package from __spec__ or __package__, falling back on __name__ and __path__\n",
      "\n"
     ]
    }
   ],
   "source": [
    "import featuretools as ft"
   ]
  },
  {
   "cell_type": "code",
   "execution_count": 118,
   "metadata": {
    "collapsed": true
   },
   "outputs": [],
   "source": [
    "df['date'] = pd.to_datetime(df['date'])"
   ]
  },
  {
   "cell_type": "code",
   "execution_count": 119,
   "metadata": {
    "collapsed": true
   },
   "outputs": [],
   "source": [
    "X_f = df.drop(['Appliances','rv1','rv2'],axis=1)\n",
    "y_f = df[['date','Appliances']]"
   ]
  },
  {
   "cell_type": "code",
   "execution_count": 120,
   "metadata": {
    "collapsed": true
   },
   "outputs": [],
   "source": [
    "EntitySet = {\"Appliances\": (y_f, \"date\"), \"rest\": (X_f, \"date\")}"
   ]
  },
  {
   "cell_type": "code",
   "execution_count": 121,
   "metadata": {},
   "outputs": [],
   "source": [
    "JoinedRelation = [(\"Appliances\",\"date\",\"rest\",\"date\")]"
   ]
  },
  {
   "cell_type": "code",
   "execution_count": 113,
   "metadata": {},
   "outputs": [],
   "source": [
    "df_featuretools = df.groupby(['date']).mean()\n",
    "df_featuretools = df_featuretools.reset_index()\n",
    "df_featuretools['date'] = pd.to_datetime(df_featuretools['date'])\n",
    "\n",
    "X_f = df_featuretools.drop(['Appliances','rv1','rv2'],axis=1)\n",
    "y_f = df_featuretools[['date','Appliances']]\n",
    "\n",
    "EntitySet = {\"appliances\": (y_f, \"date\"), \"other\": (X_f, \"date\")}\n",
    "JoinedRelation = [(\"appliances\",\"date\",\"other\",\"date\")]"
   ]
  },
  {
   "cell_type": "code",
   "execution_count": 130,
   "metadata": {},
   "outputs": [
    {
     "data": {
      "text/plain": [
       "{'Appliances': (                     date  Appliances\n",
       "  0     2016-01-11 17:00:00          60\n",
       "  1     2016-01-11 17:10:00          60\n",
       "  2     2016-01-11 17:20:00          50\n",
       "  3     2016-01-11 17:30:00          50\n",
       "  4     2016-01-11 17:40:00          60\n",
       "  5     2016-01-11 17:50:00          50\n",
       "  6     2016-01-11 18:00:00          60\n",
       "  7     2016-01-11 18:10:00          60\n",
       "  8     2016-01-11 18:20:00          60\n",
       "  9     2016-01-11 18:30:00          70\n",
       "  10    2016-01-11 18:40:00         230\n",
       "  11    2016-01-11 18:50:00         580\n",
       "  12    2016-01-11 19:00:00         430\n",
       "  13    2016-01-11 19:10:00         250\n",
       "  14    2016-01-11 19:20:00         100\n",
       "  15    2016-01-11 19:30:00         100\n",
       "  16    2016-01-11 19:40:00          90\n",
       "  17    2016-01-11 19:50:00          70\n",
       "  18    2016-01-11 20:00:00          80\n",
       "  19    2016-01-11 20:10:00         140\n",
       "  20    2016-01-11 20:20:00         120\n",
       "  21    2016-01-11 20:30:00         190\n",
       "  22    2016-01-11 20:40:00         110\n",
       "  23    2016-01-11 20:50:00         110\n",
       "  24    2016-01-11 21:00:00         110\n",
       "  25    2016-01-11 21:10:00         110\n",
       "  26    2016-01-11 21:20:00         100\n",
       "  27    2016-01-11 21:30:00         100\n",
       "  28    2016-01-11 21:40:00         100\n",
       "  29    2016-01-11 21:50:00         100\n",
       "  ...                   ...         ...\n",
       "  19705 2016-05-27 13:10:00         280\n",
       "  19706 2016-05-27 13:20:00         240\n",
       "  19707 2016-05-27 13:30:00         250\n",
       "  19708 2016-05-27 13:40:00         220\n",
       "  19709 2016-05-27 13:50:00         230\n",
       "  19710 2016-05-27 14:00:00         190\n",
       "  19711 2016-05-27 14:10:00         160\n",
       "  19712 2016-05-27 14:20:00          80\n",
       "  19713 2016-05-27 14:30:00          60\n",
       "  19714 2016-05-27 14:40:00          60\n",
       "  19715 2016-05-27 14:50:00          60\n",
       "  19716 2016-05-27 15:00:00          60\n",
       "  19717 2016-05-27 15:10:00          70\n",
       "  19718 2016-05-27 15:20:00          80\n",
       "  19719 2016-05-27 15:30:00          80\n",
       "  19720 2016-05-27 15:40:00          70\n",
       "  19721 2016-05-27 15:50:00         100\n",
       "  19722 2016-05-27 16:00:00         100\n",
       "  19723 2016-05-27 16:10:00          90\n",
       "  19724 2016-05-27 16:20:00         100\n",
       "  19725 2016-05-27 16:30:00         220\n",
       "  19726 2016-05-27 16:40:00         180\n",
       "  19727 2016-05-27 16:50:00         120\n",
       "  19728 2016-05-27 17:00:00         110\n",
       "  19729 2016-05-27 17:10:00          90\n",
       "  19730 2016-05-27 17:20:00         100\n",
       "  19731 2016-05-27 17:30:00          90\n",
       "  19732 2016-05-27 17:40:00         270\n",
       "  19733 2016-05-27 17:50:00         420\n",
       "  19734 2016-05-27 18:00:00         430\n",
       "  \n",
       "  [19735 rows x 2 columns], 'date'),\n",
       " 'rest': (                     date  lights         T1       RH_1         T2       RH_2  \\\n",
       "  0     2016-01-11 17:00:00      30  19.890000  47.596667  19.200000  44.790000   \n",
       "  1     2016-01-11 17:10:00      30  19.890000  46.693333  19.200000  44.722500   \n",
       "  2     2016-01-11 17:20:00      30  19.890000  46.300000  19.200000  44.626667   \n",
       "  3     2016-01-11 17:30:00      40  19.890000  46.066667  19.200000  44.590000   \n",
       "  4     2016-01-11 17:40:00      40  19.890000  46.333333  19.200000  44.530000   \n",
       "  5     2016-01-11 17:50:00      40  19.890000  46.026667  19.200000  44.500000   \n",
       "  6     2016-01-11 18:00:00      50  19.890000  45.766667  19.200000  44.500000   \n",
       "  7     2016-01-11 18:10:00      50  19.856667  45.560000  19.200000  44.500000   \n",
       "  8     2016-01-11 18:20:00      40  19.790000  45.597500  19.200000  44.433333   \n",
       "  9     2016-01-11 18:30:00      40  19.856667  46.090000  19.230000  44.400000   \n",
       "  10    2016-01-11 18:40:00      70  19.926667  45.863333  19.356667  44.400000   \n",
       "  11    2016-01-11 18:50:00      60  20.066667  46.396667  19.426667  44.400000   \n",
       "  12    2016-01-11 19:00:00      50  20.133333  48.000000  19.566667  44.400000   \n",
       "  13    2016-01-11 19:10:00      40  20.260000  52.726667  19.730000  45.100000   \n",
       "  14    2016-01-11 19:20:00      10  20.426667  55.893333  19.856667  45.833333   \n",
       "  15    2016-01-11 19:30:00      10  20.566667  53.893333  20.033333  46.756667   \n",
       "  16    2016-01-11 19:40:00      10  20.730000  52.660000  20.166667  47.223333   \n",
       "  17    2016-01-11 19:50:00      30  20.856667  53.660000  20.200000  47.056667   \n",
       "  18    2016-01-11 20:00:00      30  20.890000  51.193333  20.200000  46.330000   \n",
       "  19    2016-01-11 20:10:00      40  20.890000  49.800000  20.200000  46.026667   \n",
       "  20    2016-01-11 20:20:00      20  20.890000  48.433333  20.200000  45.722500   \n",
       "  21    2016-01-11 20:30:00      40  20.963333  47.633333  20.260000  45.530000   \n",
       "  22    2016-01-11 20:40:00      40  21.033333  47.063333  20.290000  45.223333   \n",
       "  23    2016-01-11 20:50:00      40  21.100000  46.596667  20.356667  44.963333   \n",
       "  24    2016-01-11 21:00:00      30  21.133333  46.060000  20.426667  44.760000   \n",
       "  25    2016-01-11 21:10:00      20  21.200000  45.800000  20.500000  44.760000   \n",
       "  26    2016-01-11 21:20:00      30  21.290000  45.900000  20.533333  45.090000   \n",
       "  27    2016-01-11 21:30:00      20  21.356667  45.826667  20.666667  45.163333   \n",
       "  28    2016-01-11 21:40:00      20  21.390000  45.690000  20.700000  45.060000   \n",
       "  29    2016-01-11 21:50:00      20  21.500000  45.333333  20.700000  44.933333   \n",
       "  ...                   ...     ...        ...        ...        ...        ...   \n",
       "  19705 2016-05-27 13:10:00       0  25.033333  48.363333  26.528571  40.595714   \n",
       "  19706 2016-05-27 13:20:00       0  25.166667  48.156667  26.600000  40.940000   \n",
       "  19707 2016-05-27 13:30:00       0  25.323333  47.930000  26.600000  41.012857   \n",
       "  19708 2016-05-27 13:40:00       0  25.390000  47.656667  26.600000  41.036000   \n",
       "  19709 2016-05-27 13:50:00       0  25.500000  47.133333  26.600000  41.000000   \n",
       "  19710 2016-05-27 14:00:00      10  25.500000  47.060000  26.540000  41.000000   \n",
       "  19711 2016-05-27 14:10:00       0  25.600000  46.990000  26.512500  41.203750   \n",
       "  19712 2016-05-27 14:20:00       0  25.600000  46.730000  26.437143  41.384286   \n",
       "  19713 2016-05-27 14:30:00       0  25.566667  46.633333  26.370000  41.378000   \n",
       "  19714 2016-05-27 14:40:00       0  25.500000  46.360000  26.318571  41.264286   \n",
       "  19715 2016-05-27 14:50:00       0  25.500000  46.060000  26.350000  41.000000   \n",
       "  19716 2016-05-27 15:00:00       0  25.500000  45.933333  26.277143  41.000000   \n",
       "  19717 2016-05-27 15:10:00       0  25.500000  45.760000  26.200000  41.000000   \n",
       "  19718 2016-05-27 15:20:00       0  25.500000  45.626667  26.171429  41.000000   \n",
       "  19719 2016-05-27 15:30:00       0  25.500000  45.590000  26.100000  41.000000   \n",
       "  19720 2016-05-27 15:40:00       0  25.500000  45.522500  26.100000  41.051429   \n",
       "  19721 2016-05-27 15:50:00       0  25.500000  45.633333  26.080000  41.196000   \n",
       "  19722 2016-05-27 16:00:00       0  25.500000  45.730000  26.000000  41.428571   \n",
       "  19723 2016-05-27 16:10:00       0  25.500000  45.790000  26.000000  41.590000   \n",
       "  19724 2016-05-27 16:20:00       0  25.500000  45.933333  26.000000  41.652857   \n",
       "  19725 2016-05-27 16:30:00       0  25.426667  46.060000  26.000000  41.700000   \n",
       "  19726 2016-05-27 16:40:00       0  25.500000  46.530000  26.000000  41.725714   \n",
       "  19727 2016-05-27 16:50:00       0  25.500000  47.456667  26.000000  42.320000   \n",
       "  19728 2016-05-27 17:00:00       0  25.600000  47.193333  25.968571  42.528571   \n",
       "  19729 2016-05-27 17:10:00       0  25.533333  46.860000  25.978000  42.534000   \n",
       "  19730 2016-05-27 17:20:00       0  25.566667  46.560000  25.890000  42.025714   \n",
       "  19731 2016-05-27 17:30:00       0  25.500000  46.500000  25.754000  42.080000   \n",
       "  19732 2016-05-27 17:40:00      10  25.500000  46.596667  25.628571  42.768571   \n",
       "  19733 2016-05-27 17:50:00      10  25.500000  46.990000  25.414000  43.036000   \n",
       "  19734 2016-05-27 18:00:00      10  25.500000  46.600000  25.264286  42.971429   \n",
       "  \n",
       "                T3       RH_3         T4       RH_4    ...             T8  \\\n",
       "  0      19.790000  44.730000  19.000000  45.566667    ...      18.200000   \n",
       "  1      19.790000  44.790000  19.000000  45.992500    ...      18.200000   \n",
       "  2      19.790000  44.933333  18.926667  45.890000    ...      18.200000   \n",
       "  3      19.790000  45.000000  18.890000  45.723333    ...      18.100000   \n",
       "  4      19.790000  45.000000  18.890000  45.530000    ...      18.100000   \n",
       "  5      19.790000  44.933333  18.890000  45.730000    ...      18.100000   \n",
       "  6      19.790000  44.900000  18.890000  45.790000    ...      18.100000   \n",
       "  7      19.730000  44.900000  18.890000  45.863333    ...      18.100000   \n",
       "  8      19.730000  44.790000  18.890000  45.790000    ...      18.100000   \n",
       "  9      19.790000  44.863333  18.890000  46.096667    ...      18.100000   \n",
       "  10     19.790000  44.900000  18.890000  46.430000    ...      18.100000   \n",
       "  11     19.790000  44.826667  19.000000  46.430000    ...      18.066667   \n",
       "  12     19.890000  44.900000  19.000000  46.363333    ...      18.066667   \n",
       "  13     19.890000  45.493333  19.000000  47.223333    ...      18.033333   \n",
       "  14     20.033333  47.526667  19.000000  48.696667    ...      18.100000   \n",
       "  15     20.100000  48.466667  19.000000  48.490000    ...      18.150000   \n",
       "  16     20.200000  48.530000  18.926667  48.156667    ...      18.230000   \n",
       "  17     20.200000  48.447500  18.890000  47.963333    ...      18.356667   \n",
       "  18     20.200000  48.193333  18.963333  48.630000    ...      18.533333   \n",
       "  19     20.166667  47.633333  19.033333  49.500000    ...      18.666667   \n",
       "  20     20.166667  47.300000  19.175000  49.947500    ...      18.730000   \n",
       "  21     20.200000  47.026667  19.260000  49.696667    ...      18.856667   \n",
       "  22     20.260000  46.826667  19.323333  49.166667    ...      18.890000   \n",
       "  23     20.290000  46.633333  19.390000  48.426667    ...      18.963333   \n",
       "  24     20.290000  46.433333  19.390000  48.193333    ...      19.000000   \n",
       "  25     20.390000  46.223333  19.390000  47.800000    ...      19.066667   \n",
       "  26     20.390000  46.090000  19.390000  47.560000    ...      19.133333   \n",
       "  27     20.390000  46.090000  19.390000  47.500000    ...      19.200000   \n",
       "  28     20.390000  46.090000  19.426667  47.993333    ...      19.230000   \n",
       "  29     20.390000  46.060000  19.566667  48.466667    ...      19.290000   \n",
       "  ...          ...        ...        ...        ...    ...            ...   \n",
       "  19705  28.496667  41.900000  24.500000  45.066667    ...      23.790000   \n",
       "  19706  28.290000  41.966667  24.500000  45.333333    ...      23.790000   \n",
       "  19707  28.200000  42.090000  24.533333  45.566667    ...      23.890000   \n",
       "  19708  28.200000  42.030000  24.600000  45.760000    ...      23.823333   \n",
       "  19709  28.200000  41.796667  24.600000  45.790000    ...      23.823333   \n",
       "  19710  28.200000  41.530000  24.600000  45.863333    ...      23.823333   \n",
       "  19711  28.200000  41.590000  24.633333  46.030000    ...      23.840000   \n",
       "  19712  28.426667  41.430000  24.700000  46.090000    ...      23.823333   \n",
       "  19713  28.566667  41.156667  24.700000  45.966667    ...      23.823333   \n",
       "  19714  28.566667  40.663333  24.700000  45.826667    ...      23.890000   \n",
       "  19715  28.426667  40.590000  24.666667  45.526667    ...      23.890000   \n",
       "  19716  28.356667  40.560000  24.666667  45.400000    ...      23.963333   \n",
       "  19717  28.290000  40.433333  24.700000  45.363333    ...      23.890000   \n",
       "  19718  28.260000  40.260000  24.700000  45.230000    ...      23.926667   \n",
       "  19719  28.200000  40.126667  24.700000  45.163333    ...      24.000000   \n",
       "  19720  28.200000  40.200000  24.700000  45.163333    ...      23.890000   \n",
       "  19721  28.133333  40.260000  24.700000  45.300000    ...      23.890000   \n",
       "  19722  28.100000  40.433333  24.700000  45.433333    ...      24.000000   \n",
       "  19723  28.100000  40.560000  24.700000  45.500000    ...      24.080000   \n",
       "  19724  28.000000  40.700000  24.700000  45.466667    ...      24.218000   \n",
       "  19725  28.000000  40.760000  24.700000  45.400000    ...      24.356667   \n",
       "  19726  27.856667  40.500000  24.700000  45.500000    ...      24.434000   \n",
       "  19727  27.663333  40.693333  24.700000  45.560000    ...      24.540000   \n",
       "  19728  27.390000  41.030000  24.700000  45.626667    ...      24.600000   \n",
       "  19729  27.323333  41.090000  24.700000  45.626667    ...      24.666667   \n",
       "  19730  27.200000  41.163333  24.700000  45.590000    ...      24.700000   \n",
       "  19731  27.133333  41.223333  24.700000  45.590000    ...      24.700000   \n",
       "  19732  27.050000  41.690000  24.700000  45.730000    ...      24.700000   \n",
       "  19733  26.890000  41.290000  24.700000  45.790000    ...      24.662500   \n",
       "  19734  26.823333  41.156667  24.700000  45.963333    ...      24.736000   \n",
       "  \n",
       "              RH_8         T9       RH_9      T_out  Press_mm_hg     RH_out  \\\n",
       "  0      48.900000  17.033333  45.530000   6.600000   733.500000  92.000000   \n",
       "  1      48.863333  17.066667  45.560000   6.483333   733.600000  92.000000   \n",
       "  2      48.730000  17.000000  45.500000   6.366667   733.700000  92.000000   \n",
       "  3      48.590000  17.000000  45.400000   6.250000   733.800000  92.000000   \n",
       "  4      48.590000  17.000000  45.400000   6.133333   733.900000  92.000000   \n",
       "  5      48.590000  17.000000  45.290000   6.016667   734.000000  92.000000   \n",
       "  6      48.590000  17.000000  45.290000   5.900000   734.100000  92.000000   \n",
       "  7      48.590000  17.000000  45.290000   5.916667   734.166667  91.833333   \n",
       "  8      48.590000  17.000000  45.290000   5.933333   734.233333  91.666667   \n",
       "  9      48.590000  17.000000  45.290000   5.950000   734.300000  91.500000   \n",
       "  10     48.590000  17.000000  45.290000   5.966667   734.366667  91.333333   \n",
       "  11     48.633333  16.890000  45.290000   5.983333   734.433333  91.166667   \n",
       "  12     48.560000  16.963333  45.290000   6.000000   734.500000  91.000000   \n",
       "  13     48.666667  16.890000  45.326667   6.000000   734.616667  90.500000   \n",
       "  14     49.193333  16.890000  45.345000   6.000000   734.733333  90.000000   \n",
       "  15     49.200000  16.890000  45.326667   6.000000   734.850000  89.500000   \n",
       "  16     49.633333  16.890000  45.290000   6.000000   734.966667  89.000000   \n",
       "  17     50.026667  16.890000  45.290000   6.000000   735.083333  88.500000   \n",
       "  18     50.200000  16.890000  45.200000   6.000000   735.200000  88.000000   \n",
       "  19     50.260000  16.890000  45.200000   6.000000   735.233333  87.833333   \n",
       "  20     50.230000  16.890000  45.126667   6.000000   735.266667  87.666667   \n",
       "  21     50.290000  16.890000  45.126667   6.000000   735.300000  87.500000   \n",
       "  22     50.163333  16.890000  45.060000   6.000000   735.333333  87.333333   \n",
       "  23     50.030000  16.890000  45.000000   6.000000   735.366667  87.166667   \n",
       "  24     49.760000  16.890000  44.966667   6.000000   735.400000  87.000000   \n",
       "  25     49.700000  16.890000  44.900000   5.933333   735.466667  87.166667   \n",
       "  26     49.633333  16.890000  44.790000   5.866667   735.533333  87.333333   \n",
       "  27     49.433333  16.890000  44.790000   5.800000   735.600000  87.500000   \n",
       "  28     49.400000  16.890000  44.700000   5.733333   735.666667  87.666667   \n",
       "  29     49.326667  16.890000  44.700000   5.666667   735.733333  87.833333   \n",
       "  ...          ...        ...        ...        ...          ...        ...   \n",
       "  19705  49.090000  23.100000  46.500000  21.250000   756.050000  59.833333   \n",
       "  19706  49.163333  23.100000  46.500000  21.400000   756.000000  59.666667   \n",
       "  19707  49.290000  23.100000  46.522500  21.550000   755.950000  59.500000   \n",
       "  19708  49.290000  23.100000  46.530000  21.700000   755.900000  59.333333   \n",
       "  19709  49.326667  23.100000  46.530000  21.850000   755.850000  59.166667   \n",
       "  19710  49.326667  23.100000  46.530000  22.000000   755.800000  59.000000   \n",
       "  19711  49.345000  23.100000  46.530000  21.966667   755.800000  59.000000   \n",
       "  19712  49.326667  23.100000  46.590000  21.933333   755.800000  59.000000   \n",
       "  19713  49.326667  23.100000  46.626667  21.900000   755.800000  59.000000   \n",
       "  19714  49.163333  23.100000  46.700000  21.866667   755.800000  59.000000   \n",
       "  19715  49.030000  23.100000  46.590000  21.833333   755.800000  59.000000   \n",
       "  19716  49.000000  23.100000  46.590000  21.800000   755.800000  59.000000   \n",
       "  19717  49.000000  23.133333  46.590000  21.966667   755.750000  58.333333   \n",
       "  19718  48.790000  23.133333  46.590000  22.133333   755.700000  57.666667   \n",
       "  19719  48.790000  23.166667  46.590000  22.300000   755.650000  57.000000   \n",
       "  19720  48.790000  23.100000  46.590000  22.466667   755.600000  56.333333   \n",
       "  19721  48.930000  23.200000  46.590000  22.633333   755.550000  55.666667   \n",
       "  19722  49.456667  23.200000  46.590000  22.800000   755.500000  55.000000   \n",
       "  19723  50.076000  23.160000  46.590000  22.833333   755.450000  55.000000   \n",
       "  19724  50.716000  23.200000  46.621429  22.866667   755.400000  55.000000   \n",
       "  19725  51.333333  23.200000  46.700000  22.900000   755.350000  55.000000   \n",
       "  19726  51.632000  23.200000  46.652857  22.933333   755.300000  55.000000   \n",
       "  19727  51.500000  23.200000  46.718000  22.966667   755.250000  55.000000   \n",
       "  19728  50.863333  23.200000  46.751429  23.000000   755.200000  55.000000   \n",
       "  19729  50.445000  23.200000  46.745000  22.866667   755.200000  55.333333   \n",
       "  19730  50.074000  23.200000  46.790000  22.733333   755.200000  55.666667   \n",
       "  19731  49.790000  23.200000  46.790000  22.600000   755.200000  56.000000   \n",
       "  19732  49.660000  23.200000  46.790000  22.466667   755.200000  56.333333   \n",
       "  19733  49.518750  23.200000  46.817500  22.333333   755.200000  56.666667   \n",
       "  19734  49.736000  23.200000  46.845000  22.200000   755.200000  57.000000   \n",
       "  \n",
       "         Windspeed  Visibility  Tdewpoint  \n",
       "  0       7.000000   63.000000   5.300000  \n",
       "  1       6.666667   59.166667   5.200000  \n",
       "  2       6.333333   55.333333   5.100000  \n",
       "  3       6.000000   51.500000   5.000000  \n",
       "  4       5.666667   47.666667   4.900000  \n",
       "  5       5.333333   43.833333   4.800000  \n",
       "  6       5.000000   40.000000   4.700000  \n",
       "  7       5.166667   40.000000   4.683333  \n",
       "  8       5.333333   40.000000   4.666667  \n",
       "  9       5.500000   40.000000   4.650000  \n",
       "  10      5.666667   40.000000   4.633333  \n",
       "  11      5.833333   40.000000   4.616667  \n",
       "  12      6.000000   40.000000   4.600000  \n",
       "  13      6.000000   40.000000   4.516667  \n",
       "  14      6.000000   40.000000   4.433333  \n",
       "  15      6.000000   40.000000   4.350000  \n",
       "  16      6.000000   40.000000   4.266667  \n",
       "  17      6.000000   40.000000   4.183333  \n",
       "  18      6.000000   40.000000   4.100000  \n",
       "  19      6.000000   40.000000   4.066667  \n",
       "  20      6.000000   40.000000   4.033333  \n",
       "  21      6.000000   40.000000   4.000000  \n",
       "  22      6.000000   40.000000   3.966667  \n",
       "  23      6.000000   40.000000   3.933333  \n",
       "  24      6.000000   40.000000   3.900000  \n",
       "  25      6.000000   40.000000   3.866667  \n",
       "  26      6.000000   40.000000   3.833333  \n",
       "  27      6.000000   40.000000   3.800000  \n",
       "  28      6.000000   40.000000   3.766667  \n",
       "  29      6.000000   40.000000   3.733333  \n",
       "  ...          ...         ...        ...  \n",
       "  19705   1.166667   23.666667  13.100000  \n",
       "  19706   1.333333   23.333333  13.200000  \n",
       "  19707   1.500000   23.000000  13.300000  \n",
       "  19708   1.666667   22.666667  13.400000  \n",
       "  19709   1.833333   22.333333  13.500000  \n",
       "  19710   2.000000   22.000000  13.600000  \n",
       "  19711   2.000000   21.833333  13.550000  \n",
       "  19712   2.000000   21.666667  13.500000  \n",
       "  19713   2.000000   21.500000  13.450000  \n",
       "  19714   2.000000   21.333333  13.400000  \n",
       "  19715   2.000000   21.166667  13.350000  \n",
       "  19716   2.000000   21.000000  13.300000  \n",
       "  19717   2.000000   21.333333  13.283333  \n",
       "  19718   2.000000   21.666667  13.266667  \n",
       "  19719   2.000000   22.000000  13.250000  \n",
       "  19720   2.000000   22.333333  13.233333  \n",
       "  19721   2.000000   22.666667  13.216667  \n",
       "  19722   2.000000   23.000000  13.200000  \n",
       "  19723   2.166667   22.833333  13.233333  \n",
       "  19724   2.333333   22.666667  13.266667  \n",
       "  19725   2.500000   22.500000  13.300000  \n",
       "  19726   2.666667   22.333333  13.333333  \n",
       "  19727   2.833333   22.166667  13.366667  \n",
       "  19728   3.000000   22.000000  13.400000  \n",
       "  19729   3.166667   22.833333  13.366667  \n",
       "  19730   3.333333   23.666667  13.333333  \n",
       "  19731   3.500000   24.500000  13.300000  \n",
       "  19732   3.666667   25.333333  13.266667  \n",
       "  19733   3.833333   26.166667  13.233333  \n",
       "  19734   4.000000   27.000000  13.200000  \n",
       "  \n",
       "  [19735 rows x 26 columns],\n",
       "  'date')}"
      ]
     },
     "execution_count": 130,
     "metadata": {},
     "output_type": "execute_result"
    }
   ],
   "source": [
    "EntitySet"
   ]
  },
  {
   "cell_type": "code",
   "execution_count": null,
   "metadata": {
    "collapsed": true
   },
   "outputs": [],
   "source": [
    "y_featuretools = phase_featuretools[['date','Appliances']]\n",
    "X_featuretools = phase_featuretools.drop(['Appliances'],axis=1)\n",
    "entities ={\"appliances\" :(y_featuretools,\"date\"),\n",
    "          \"rest\" :(X_featuretools,\"date\")}\n",
    "relationships = [(\"appliances\",\"date\",\"rest\",\"date\")]"
   ]
  },
  {
   "cell_type": "code",
   "execution_count": 122,
   "metadata": {},
   "outputs": [
    {
     "ename": "KeyError",
     "evalue": "'Entity appliances does not exist in dfs'",
     "output_type": "error",
     "traceback": [
      "\u001b[1;31m---------------------------------------------------------------------------\u001b[0m",
      "\u001b[1;31mKeyError\u001b[0m                                  Traceback (most recent call last)",
      "\u001b[1;32m<ipython-input-122-9612e2bc6b2e>\u001b[0m in \u001b[0;36m<module>\u001b[1;34m()\u001b[0m\n\u001b[1;32m----> 1\u001b[1;33m \u001b[0mfeatures_matrix_app\u001b[0m \u001b[1;33m,\u001b[0m \u001b[0mfeature_names\u001b[0m \u001b[1;33m=\u001b[0m \u001b[0mft\u001b[0m\u001b[1;33m.\u001b[0m\u001b[0mdfs\u001b[0m\u001b[1;33m(\u001b[0m\u001b[0mentities\u001b[0m \u001b[1;33m=\u001b[0m \u001b[0mEntitySet\u001b[0m\u001b[1;33m,\u001b[0m \u001b[0mrelationships\u001b[0m\u001b[1;33m=\u001b[0m \u001b[0mJoinedRelation\u001b[0m\u001b[1;33m,\u001b[0m \u001b[0mtarget_entity\u001b[0m\u001b[1;33m=\u001b[0m \u001b[1;34m\"appliances\"\u001b[0m\u001b[1;33m)\u001b[0m\u001b[1;33m\u001b[0m\u001b[0m\n\u001b[0m",
      "\u001b[1;32m~\\Anaconda3\\lib\\site-packages\\featuretools\\synthesis\\dfs.py\u001b[0m in \u001b[0;36mdfs\u001b[1;34m(entities, relationships, entityset, target_entity, cutoff_time, instance_ids, agg_primitives, trans_primitives, allowed_paths, max_depth, ignore_entities, ignore_variables, seed_features, drop_contains, drop_exact, where_primitives, max_features, cutoff_time_in_index, save_progress, features_only, training_window, approximate, chunk_size, n_jobs, dask_kwargs, verbose)\u001b[0m\n\u001b[0;32m    182\u001b[0m                                       seed_features=seed_features)\n\u001b[0;32m    183\u001b[0m \u001b[1;33m\u001b[0m\u001b[0m\n\u001b[1;32m--> 184\u001b[1;33m     \u001b[0mfeatures\u001b[0m \u001b[1;33m=\u001b[0m \u001b[0mdfs_object\u001b[0m\u001b[1;33m.\u001b[0m\u001b[0mbuild_features\u001b[0m\u001b[1;33m(\u001b[0m\u001b[0mverbose\u001b[0m\u001b[1;33m=\u001b[0m\u001b[0mverbose\u001b[0m\u001b[1;33m)\u001b[0m\u001b[1;33m\u001b[0m\u001b[0m\n\u001b[0m\u001b[0;32m    185\u001b[0m \u001b[1;33m\u001b[0m\u001b[0m\n\u001b[0;32m    186\u001b[0m     \u001b[1;32mif\u001b[0m \u001b[0mfeatures_only\u001b[0m\u001b[1;33m:\u001b[0m\u001b[1;33m\u001b[0m\u001b[0m\n",
      "\u001b[1;32m~\\Anaconda3\\lib\\site-packages\\featuretools\\synthesis\\deep_feature_synthesis.py\u001b[0m in \u001b[0;36mbuild_features\u001b[1;34m(self, variable_types, verbose)\u001b[0m\n\u001b[0;32m    215\u001b[0m \u001b[1;33m\u001b[0m\u001b[0m\n\u001b[0;32m    216\u001b[0m         \u001b[0mself\u001b[0m\u001b[1;33m.\u001b[0m\u001b[0mwhere_clauses\u001b[0m \u001b[1;33m=\u001b[0m \u001b[0mdefaultdict\u001b[0m\u001b[1;33m(\u001b[0m\u001b[0mset\u001b[0m\u001b[1;33m)\u001b[0m\u001b[1;33m\u001b[0m\u001b[0m\n\u001b[1;32m--> 217\u001b[1;33m         self._run_dfs(self.es[self.target_entity_id], [],\n\u001b[0m\u001b[0;32m    218\u001b[0m                       all_features, max_depth=self.max_depth)\n\u001b[0;32m    219\u001b[0m \u001b[1;33m\u001b[0m\u001b[0m\n",
      "\u001b[1;32m~\\Anaconda3\\lib\\site-packages\\featuretools\\entityset\\entityset.py\u001b[0m in \u001b[0;36m__getitem__\u001b[1;34m(self, entity_id)\u001b[0m\n\u001b[0;32m    165\u001b[0m         \u001b[1;32mif\u001b[0m \u001b[0mentity_id\u001b[0m \u001b[1;32min\u001b[0m \u001b[0mself\u001b[0m\u001b[1;33m.\u001b[0m\u001b[0mentity_dict\u001b[0m\u001b[1;33m:\u001b[0m\u001b[1;33m\u001b[0m\u001b[0m\n\u001b[0;32m    166\u001b[0m             \u001b[1;32mreturn\u001b[0m \u001b[0mself\u001b[0m\u001b[1;33m.\u001b[0m\u001b[0mentity_dict\u001b[0m\u001b[1;33m[\u001b[0m\u001b[0mentity_id\u001b[0m\u001b[1;33m]\u001b[0m\u001b[1;33m\u001b[0m\u001b[0m\n\u001b[1;32m--> 167\u001b[1;33m         \u001b[1;32mraise\u001b[0m \u001b[0mKeyError\u001b[0m\u001b[1;33m(\u001b[0m\u001b[1;34m'Entity %s does not exist in %s'\u001b[0m \u001b[1;33m%\u001b[0m \u001b[1;33m(\u001b[0m\u001b[0mentity_id\u001b[0m\u001b[1;33m,\u001b[0m \u001b[0mself\u001b[0m\u001b[1;33m.\u001b[0m\u001b[0mid\u001b[0m\u001b[1;33m)\u001b[0m\u001b[1;33m)\u001b[0m\u001b[1;33m\u001b[0m\u001b[0m\n\u001b[0m\u001b[0;32m    168\u001b[0m \u001b[1;33m\u001b[0m\u001b[0m\n\u001b[0;32m    169\u001b[0m     \u001b[1;33m@\u001b[0m\u001b[0mproperty\u001b[0m\u001b[1;33m\u001b[0m\u001b[0m\n",
      "\u001b[1;31mKeyError\u001b[0m: 'Entity appliances does not exist in dfs'"
     ]
    }
   ],
   "source": [
    "features_matrix_app , feature_names = ft.dfs(entities = EntitySet, relationships= JoinedRelation, target_entity= \"appliances\")"
   ]
  },
  {
   "cell_type": "code",
   "execution_count": 64,
   "metadata": {
    "collapsed": true
   },
   "outputs": [],
   "source": [
    "es = ft.EntitySet(id = 'date')"
   ]
  },
  {
   "cell_type": "code",
   "execution_count": 66,
   "metadata": {},
   "outputs": [],
   "source": [
    "es = es.entity_from_dataframe(entity_id = 'date', dataframe = df, \n",
    "                              index = 'date')"
   ]
  },
  {
   "cell_type": "code",
   "execution_count": 74,
   "metadata": {},
   "outputs": [],
   "source": [
    "newY = y.tolist"
   ]
  },
  {
   "cell_type": "code",
   "execution_count": 80,
   "metadata": {},
   "outputs": [],
   "source": [
    "NewYdf = pd.DataFrame(np.array(newY).reshape(1,1), columns = list(\"a\"))"
   ]
  },
  {
   "cell_type": "code",
   "execution_count": 81,
   "metadata": {},
   "outputs": [
    {
     "ename": "TypeError",
     "evalue": "'DataFrame' objects are mutable, thus they cannot be hashed",
     "output_type": "error",
     "traceback": [
      "\u001b[1;31m---------------------------------------------------------------------------\u001b[0m",
      "\u001b[1;31mTypeError\u001b[0m                                 Traceback (most recent call last)",
      "\u001b[1;32m<ipython-input-81-5a9884b08e79>\u001b[0m in \u001b[0;36m<module>\u001b[1;34m()\u001b[0m\n\u001b[0;32m      1\u001b[0m features, feature_names = ft.dfs(entityset = es, target_entity= NewYdf, \n\u001b[1;32m----> 2\u001b[1;33m                                  max_depth = 2)\n\u001b[0m",
      "\u001b[1;32m~\\Anaconda3\\lib\\site-packages\\featuretools\\synthesis\\dfs.py\u001b[0m in \u001b[0;36mdfs\u001b[1;34m(entities, relationships, entityset, target_entity, cutoff_time, instance_ids, agg_primitives, trans_primitives, allowed_paths, max_depth, ignore_entities, ignore_variables, seed_features, drop_contains, drop_exact, where_primitives, max_features, cutoff_time_in_index, save_progress, features_only, training_window, approximate, chunk_size, n_jobs, dask_kwargs, verbose)\u001b[0m\n\u001b[0;32m    182\u001b[0m                                       seed_features=seed_features)\n\u001b[0;32m    183\u001b[0m \u001b[1;33m\u001b[0m\u001b[0m\n\u001b[1;32m--> 184\u001b[1;33m     \u001b[0mfeatures\u001b[0m \u001b[1;33m=\u001b[0m \u001b[0mdfs_object\u001b[0m\u001b[1;33m.\u001b[0m\u001b[0mbuild_features\u001b[0m\u001b[1;33m(\u001b[0m\u001b[0mverbose\u001b[0m\u001b[1;33m=\u001b[0m\u001b[0mverbose\u001b[0m\u001b[1;33m)\u001b[0m\u001b[1;33m\u001b[0m\u001b[0m\n\u001b[0m\u001b[0;32m    185\u001b[0m \u001b[1;33m\u001b[0m\u001b[0m\n\u001b[0;32m    186\u001b[0m     \u001b[1;32mif\u001b[0m \u001b[0mfeatures_only\u001b[0m\u001b[1;33m:\u001b[0m\u001b[1;33m\u001b[0m\u001b[0m\n",
      "\u001b[1;32m~\\Anaconda3\\lib\\site-packages\\featuretools\\synthesis\\deep_feature_synthesis.py\u001b[0m in \u001b[0;36mbuild_features\u001b[1;34m(self, variable_types, verbose)\u001b[0m\n\u001b[0;32m    215\u001b[0m \u001b[1;33m\u001b[0m\u001b[0m\n\u001b[0;32m    216\u001b[0m         \u001b[0mself\u001b[0m\u001b[1;33m.\u001b[0m\u001b[0mwhere_clauses\u001b[0m \u001b[1;33m=\u001b[0m \u001b[0mdefaultdict\u001b[0m\u001b[1;33m(\u001b[0m\u001b[0mset\u001b[0m\u001b[1;33m)\u001b[0m\u001b[1;33m\u001b[0m\u001b[0m\n\u001b[1;32m--> 217\u001b[1;33m         self._run_dfs(self.es[self.target_entity_id], [],\n\u001b[0m\u001b[0;32m    218\u001b[0m                       all_features, max_depth=self.max_depth)\n\u001b[0;32m    219\u001b[0m \u001b[1;33m\u001b[0m\u001b[0m\n",
      "\u001b[1;32m~\\Anaconda3\\lib\\site-packages\\featuretools\\entityset\\entityset.py\u001b[0m in \u001b[0;36m__getitem__\u001b[1;34m(self, entity_id)\u001b[0m\n\u001b[0;32m    163\u001b[0m             \u001b[1;33m<\u001b[0m\u001b[0mEntity\u001b[0m\u001b[1;33m:\u001b[0m \u001b[0mid\u001b[0m\u001b[1;33m>\u001b[0m\u001b[1;33m\u001b[0m\u001b[0m\n\u001b[0;32m    164\u001b[0m         \"\"\"\n\u001b[1;32m--> 165\u001b[1;33m         \u001b[1;32mif\u001b[0m \u001b[0mentity_id\u001b[0m \u001b[1;32min\u001b[0m \u001b[0mself\u001b[0m\u001b[1;33m.\u001b[0m\u001b[0mentity_dict\u001b[0m\u001b[1;33m:\u001b[0m\u001b[1;33m\u001b[0m\u001b[0m\n\u001b[0m\u001b[0;32m    166\u001b[0m             \u001b[1;32mreturn\u001b[0m \u001b[0mself\u001b[0m\u001b[1;33m.\u001b[0m\u001b[0mentity_dict\u001b[0m\u001b[1;33m[\u001b[0m\u001b[0mentity_id\u001b[0m\u001b[1;33m]\u001b[0m\u001b[1;33m\u001b[0m\u001b[0m\n\u001b[0;32m    167\u001b[0m         \u001b[1;32mraise\u001b[0m \u001b[0mKeyError\u001b[0m\u001b[1;33m(\u001b[0m\u001b[1;34m'Entity %s does not exist in %s'\u001b[0m \u001b[1;33m%\u001b[0m \u001b[1;33m(\u001b[0m\u001b[0mentity_id\u001b[0m\u001b[1;33m,\u001b[0m \u001b[0mself\u001b[0m\u001b[1;33m.\u001b[0m\u001b[0mid\u001b[0m\u001b[1;33m)\u001b[0m\u001b[1;33m)\u001b[0m\u001b[1;33m\u001b[0m\u001b[0m\n",
      "\u001b[1;32m~\\Anaconda3\\lib\\site-packages\\pandas\\core\\generic.py\u001b[0m in \u001b[0;36m__hash__\u001b[1;34m(self)\u001b[0m\n\u001b[0;32m    877\u001b[0m         \u001b[1;36m5\u001b[0m    \u001b[1;36m3\u001b[0m\u001b[1;33m\u001b[0m\u001b[0m\n\u001b[0;32m    878\u001b[0m         \u001b[0mdtype\u001b[0m\u001b[1;33m:\u001b[0m \u001b[0mint64\u001b[0m\u001b[1;33m\u001b[0m\u001b[0m\n\u001b[1;32m--> 879\u001b[1;33m \u001b[1;33m\u001b[0m\u001b[0m\n\u001b[0m\u001b[0;32m    880\u001b[0m         \u001b[0mSince\u001b[0m\u001b[0;31m \u001b[0m\u001b[0;31m`\u001b[0m\u001b[0;31m`\u001b[0m\u001b[0mDataFrame\u001b[0m\u001b[0;31m`\u001b[0m\u001b[0;31m`\u001b[0m \u001b[0mdoesn\u001b[0m\u001b[0;31m'\u001b[0m\u001b[0mt\u001b[0m \u001b[0mhave\u001b[0m \u001b[0ma\u001b[0m\u001b[0;31m \u001b[0m\u001b[0;31m`\u001b[0m\u001b[0;31m`\u001b[0m\u001b[1;33m.\u001b[0m\u001b[0mname\u001b[0m\u001b[0;31m`\u001b[0m\u001b[0;31m`\u001b[0m \u001b[0mattribute\u001b[0m\u001b[1;33m,\u001b[0m\u001b[1;33m\u001b[0m\u001b[0m\n\u001b[0;32m    881\u001b[0m         \u001b[0monly\u001b[0m \u001b[0mmapping\u001b[0m\u001b[1;33m-\u001b[0m\u001b[0mtype\u001b[0m \u001b[0marguments\u001b[0m \u001b[0mare\u001b[0m \u001b[0mallowed\u001b[0m\u001b[1;33m.\u001b[0m\u001b[1;33m\u001b[0m\u001b[0m\n",
      "\u001b[1;31mTypeError\u001b[0m: 'DataFrame' objects are mutable, thus they cannot be hashed"
     ]
    }
   ],
   "source": [
    "features, feature_names = ft.dfs(entityset = es, target_entity= NewYdf, \n",
    "                                 max_depth = 2)"
   ]
  },
  {
   "cell_type": "code",
   "execution_count": null,
   "metadata": {
    "collapsed": true
   },
   "outputs": [],
   "source": [
    "features.head()"
   ]
  },
  {
   "cell_type": "code",
   "execution_count": 123,
   "metadata": {},
   "outputs": [
    {
     "name": "stderr",
     "output_type": "stream",
     "text": [
      "C:\\Users\\Anuja\\Anaconda3\\lib\\importlib\\_bootstrap_external.py:426: ImportWarning:\n",
      "\n",
      "Not importing directory c:\\users\\anuja\\anaconda3\\lib\\site-packages\\mpl_toolkits: missing __init__\n",
      "\n",
      "C:\\Users\\Anuja\\Anaconda3\\lib\\importlib\\_bootstrap.py:219: ImportWarning:\n",
      "\n",
      "can't resolve package from __spec__ or __package__, falling back on __name__ and __path__\n",
      "\n",
      "C:\\Users\\Anuja\\Anaconda3\\lib\\site-packages\\statsmodels\\compat\\pandas.py:56: FutureWarning:\n",
      "\n",
      "The pandas.core.datetools module is deprecated and will be removed in a future version. Please use the pandas.tseries module instead.\n",
      "\n"
     ]
    }
   ],
   "source": [
    "from tsfresh import extract_features"
   ]
  },
  {
   "cell_type": "code",
   "execution_count": 125,
   "metadata": {
    "collapsed": true
   },
   "outputs": [],
   "source": [
    "from tsfresh import select_features\n",
    "from tsfresh.utilities.dataframe_functions import impute"
   ]
  },
  {
   "cell_type": "code",
   "execution_count": 126,
   "metadata": {
    "collapsed": true
   },
   "outputs": [],
   "source": [
    "X_tsfresh = df.drop('Appliances',axis=1)"
   ]
  },
  {
   "cell_type": "code",
   "execution_count": 127,
   "metadata": {},
   "outputs": [
    {
     "name": "stderr",
     "output_type": "stream",
     "text": [
      "Feature Extraction: 100%|██████████████████████████████████████████████████████████████| 10/10 [02:01<00:00, 11.00s/it]\n"
     ]
    }
   ],
   "source": [
    "from tsfresh.feature_extraction import MinimalFCParameters\n",
    "extracted_features = extract_features(X_tsfresh, column_id=\"date\",show_warnings=False,\n",
    "                                      default_fc_parameters=MinimalFCParameters())"
   ]
  },
  {
   "cell_type": "code",
   "execution_count": 129,
   "metadata": {},
   "outputs": [
    {
     "name": "stderr",
     "output_type": "stream",
     "text": [
      "WARNING:tsfresh.feature_selection.relevance:Infered classification as machine learning task\n"
     ]
    }
   ],
   "source": [
    "impute(extracted_features)\n",
    "features_filtered = select_features(extracted_features, y)"
   ]
  },
  {
   "cell_type": "code",
   "execution_count": null,
   "metadata": {
    "collapsed": true
   },
   "outputs": [],
   "source": []
  },
  {
   "cell_type": "code",
   "execution_count": null,
   "metadata": {
    "collapsed": true
   },
   "outputs": [],
   "source": []
  },
  {
   "cell_type": "code",
   "execution_count": null,
   "metadata": {
    "collapsed": true
   },
   "outputs": [],
   "source": []
  },
  {
   "cell_type": "code",
   "execution_count": null,
   "metadata": {
    "collapsed": true
   },
   "outputs": [],
   "source": [
    "\n",
    "from sklearn.linear_model import Ridge\n",
    "clf = Ridge(alpha=1.0)\n",
    "clf.fit(X_train, y_train)"
   ]
  },
  {
   "cell_type": "code",
   "execution_count": null,
   "metadata": {
    "collapsed": true
   },
   "outputs": [],
   "source": [
    "clf.predict(X_train)"
   ]
  },
  {
   "cell_type": "code",
   "execution_count": null,
   "metadata": {
    "collapsed": true
   },
   "outputs": [],
   "source": [
    "clf.score(X_train, y_train)"
   ]
  },
  {
   "cell_type": "code",
   "execution_count": null,
   "metadata": {
    "collapsed": true
   },
   "outputs": [],
   "source": [
    "from sklearn.linear_model import ElasticNetCV\n",
    "\n",
    "regr = ElasticNetCV(cv=5, random_state=0)\n",
    "regr.fit(X_train, y_train)"
   ]
  },
  {
   "cell_type": "code",
   "execution_count": null,
   "metadata": {
    "collapsed": true
   },
   "outputs": [],
   "source": [
    "regr.predict(X_train)"
   ]
  },
  {
   "cell_type": "code",
   "execution_count": null,
   "metadata": {
    "collapsed": true
   },
   "outputs": [],
   "source": [
    "regr.score(X_train, y_train)"
   ]
  }
 ],
 "metadata": {
  "kernelspec": {
   "display_name": "Python 3",
   "language": "python",
   "name": "python3"
  },
  "language_info": {
   "codemirror_mode": {
    "name": "ipython",
    "version": 3
   },
   "file_extension": ".py",
   "mimetype": "text/x-python",
   "name": "python",
   "nbconvert_exporter": "python",
   "pygments_lexer": "ipython3",
   "version": "3.6.3"
  }
 },
 "nbformat": 4,
 "nbformat_minor": 2
}
