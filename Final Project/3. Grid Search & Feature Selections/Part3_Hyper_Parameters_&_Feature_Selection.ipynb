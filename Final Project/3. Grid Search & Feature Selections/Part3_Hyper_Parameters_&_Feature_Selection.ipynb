{
  "nbformat": 4,
  "nbformat_minor": 0,
  "metadata": {
    "colab": {
      "name": "Part2 - Hyper Parameters & Feature Selection.ipynb",
      "version": "0.3.2",
      "provenance": []
    },
    "kernelspec": {
      "name": "python3",
      "display_name": "Python 3"
    },
    "accelerator": "GPU"
  },
  "cells": [
    {
      "metadata": {
        "id": "SFO5vDhTuaq6",
        "colab_type": "code",
        "colab": {}
      },
      "cell_type": "code",
      "source": [
        "import pandas as pd\n",
        "import numpy as np\n",
        "import matplotlib.pyplot as plt\n",
        "import seaborn as sns\n",
        "import calendar\n",
        "import warnings\n",
        "import os\n",
        "\n",
        "from datetime import datetime as dt\n",
        "from sklearn.metrics import r2_score,mean_squared_log_error\n",
        "from sklearn.ensemble import RandomForestRegressor\n",
        "from sklearn.model_selection import GridSearchCV, train_test_split\n",
        "from sklearn.preprocessing import MinMaxScaler\n",
        "global scaler\n",
        "scaler = MinMaxScaler()\n",
        "\n",
        "from IPython.core.display import HTML\n",
        "pd.options.mode.chained_assignment = None\n",
        "warnings.filterwarnings('ignore')"
      ],
      "execution_count": 0,
      "outputs": []
    },
    {
      "metadata": {
        "id": "QR2eaafavAzW",
        "colab_type": "code",
        "colab": {}
      },
      "cell_type": "code",
      "source": [
        "def get_data():\n",
        "    train = pd.read_csv('https://s3.us-east-2.amazonaws.com/final-project-dataset/train.csv')\n",
        "    test = pd.read_csv('https://s3.us-east-2.amazonaws.com/final-project-dataset/test.csv')\n",
        "    return train, test"
      ],
      "execution_count": 0,
      "outputs": []
    },
    {
      "metadata": {
        "id": "JIvFR3-yvNER",
        "colab_type": "code",
        "colab": {}
      },
      "cell_type": "code",
      "source": [
        "def preprocessing_data(train,test):\n",
        "    global categoricalFeatureNames,numericalFeatureNames\n",
        "    \n",
        "    #Combining Test and Train Frames\n",
        "    data = train.append(test)\n",
        "    data.reset_index(inplace=True)\n",
        "    data.drop('index',inplace=True,axis=1)\n",
        "    \n",
        "    #Deriving Time Series Columns from datetime field\n",
        "    data[\"date\"] = data.datetime.apply(lambda x : x.split()[0])\n",
        "    data[\"hour\"] = data.datetime.apply(lambda x : x.split()[1].split(\":\")[0]).astype(\"int\")\n",
        "    data[\"year\"] = data.datetime.apply(lambda x : x.split()[0].split(\"-\")[0])\n",
        "    data[\"weekday\"] = data.date.apply(lambda dateString : dt.strptime(dateString,\"%Y-%m-%d\").weekday())\n",
        "    data[\"month\"] = data.date.apply(lambda dateString : dt.strptime(dateString,\"%Y-%m-%d\").month)\n",
        "    \n",
        "    #Predicting Missing Wind Values using RF Regressor\n",
        "    dataWind0 = data[data[\"windspeed\"]==0]\n",
        "    dataWindNot0 = data[data[\"windspeed\"]!=0]\n",
        "    rfModel_wind = RandomForestRegressor()\n",
        "    windColumns = [\"season\",\"weather\",\"humidity\",\"month\",\"temp\",\"year\",\"atemp\"]\n",
        "    rfModel_wind.fit(dataWindNot0[windColumns], dataWindNot0[\"windspeed\"])\n",
        "    wind0Values = rfModel_wind.predict(X= dataWind0[windColumns])\n",
        "    dataWind0[\"windspeed\"] = wind0Values\n",
        "    data = dataWindNot0.append(dataWind0)\n",
        "    data.reset_index(inplace=True)\n",
        "    data.drop('index',inplace=True,axis=1)\n",
        "    \n",
        "    #Designating Categorical Features from numeric columns\n",
        "    categoricalFeatureNames = [\"season\",\"holiday\",\"workingday\",\"weather\",\"weekday\",\"month\",\"year\",\"hour\"]\n",
        "    numericalFeatureNames = [\"atemp\",\"humidity\",\"windspeed\"]\n",
        "    dropFeatures = [\"casual\",\"datetime\",\"date\",\"registered\",\"temp\"]\n",
        "    \n",
        "    for var in categoricalFeatureNames:\n",
        "        data[var] = data[var].astype(\"category\")\n",
        "    \n",
        "    dataTrain = data[pd.notnull(data['count'])].sort_values(by=[\"datetime\"])\n",
        "    dataTest = data[~pd.notnull(data['count'])].sort_values(by=[\"datetime\"])\n",
        "    \n",
        "    dataTrain  = dataTrain.drop(dropFeatures,axis=1)\n",
        "    dataTest  = dataTest.drop(dropFeatures,axis=1)\n",
        "    dataTest = dataTest.drop('count',axis=1)\n",
        "    \n",
        "    return dataTrain,dataTest"
      ],
      "execution_count": 0,
      "outputs": []
    },
    {
      "metadata": {
        "id": "SSos09Qh1Mty",
        "colab_type": "code",
        "colab": {}
      },
      "cell_type": "code",
      "source": [
        "error_metric = pd.DataFrame({'Training RMSLE': [],\n",
        "                             'Training R^2': [],\n",
        "                             'Testing RMSLE':[],\n",
        "                             'Testing R^2' : []})\n",
        "\n",
        "def model_stats(model, model_name, X_train, Y_train, X_test, Y_test):\n",
        "    global error_metric\n",
        "    train_data_predictions = model.predict(X_train)\n",
        "    test_data_predictions = model.predict(X_test)\n",
        "\n",
        "    # RMSLE\n",
        "    model_rmsle_train = np.sqrt(mean_squared_log_error(Y_train, train_data_predictions))\n",
        "    model_rmsle_test = np.sqrt(mean_squared_log_error(Y_test, test_data_predictions))\n",
        "\n",
        "    # R-Squared\n",
        "    model_r2_train = r2_score(Y_train, train_data_predictions)\n",
        "    model_r2_test = r2_score(Y_test, test_data_predictions)\n",
        "\n",
        "    df_local = pd.DataFrame({'Model': [model_name],\n",
        "                             'Training RMSLE': [model_rmsle_train],\n",
        "                             'Training R^2': [model_r2_train],\n",
        "                             'Testing RMSLE':[model_rmsle_test],\n",
        "                             'Testing R^2' : [model_r2_test]})\n",
        "\n",
        "    error_metric = pd.concat([error_metric, df_local])"
      ],
      "execution_count": 0,
      "outputs": []
    },
    {
      "metadata": {
        "id": "pa1xXgW6vZ2k",
        "colab_type": "code",
        "colab": {}
      },
      "cell_type": "code",
      "source": [
        "df_train, df_test = get_data()\n",
        "processed_train, processed_test = preprocessing_data(df_train, df_test)\n",
        "\n",
        "X = processed_train.drop('count', axis=1)\n",
        "Y = processed_train['count']\n",
        "\n",
        "X_train, X_test, Y_train, Y_test = train_test_split(X, Y, test_size=0.30, shuffle=False)"
      ],
      "execution_count": 0,
      "outputs": []
    },
    {
      "metadata": {
        "id": "VEV-ABex_Gqj",
        "colab_type": "text"
      },
      "cell_type": "markdown",
      "source": [
        "# GRID SEARCH CV FOR TUNING :"
      ]
    },
    {
      "metadata": {
        "id": "pSYttGiovnbB",
        "colab_type": "code",
        "colab": {}
      },
      "cell_type": "code",
      "source": [
        "param_grid_rf = {'n_estimators':[5,20,100], 'max_depth':[5,10,50], 'oob_score':[True,False]}\n",
        "\n",
        "grid_rf = GridSearchCV(RandomForestRegressor(), param_grid = param_grid_rf, n_jobs=-1, cv=3, refit=True, verbose=4)"
      ],
      "execution_count": 0,
      "outputs": []
    },
    {
      "metadata": {
        "id": "4XOoT8faziDj",
        "colab_type": "code",
        "colab": {
          "base_uri": "https://localhost:8080/",
          "height": 2066
        },
        "outputId": "ca15036b-5906-44fc-c867-bd88490b1e59"
      },
      "cell_type": "code",
      "source": [
        "grid_rf.fit(X_train,Y_train)"
      ],
      "execution_count": 7,
      "outputs": [
        {
          "output_type": "stream",
          "text": [
            "Fitting 3 folds for each of 18 candidates, totalling 54 fits\n",
            "[CV] max_depth=5, n_estimators=5, oob_score=True .....................\n",
            "[CV] max_depth=5, n_estimators=5, oob_score=True .....................\n",
            "[CV]  max_depth=5, n_estimators=5, oob_score=True, score=0.24724311200925475, total=   0.1s\n",
            "[CV]  max_depth=5, n_estimators=5, oob_score=True, score=0.5878555093430993, total=   0.1s\n",
            "[CV] max_depth=5, n_estimators=5, oob_score=True .....................\n",
            "[CV] max_depth=5, n_estimators=5, oob_score=False ....................\n",
            "[CV]  max_depth=5, n_estimators=5, oob_score=True, score=0.2679574412277258, total=   0.1s\n",
            "[CV] max_depth=5, n_estimators=5, oob_score=False ....................\n",
            "[CV]  max_depth=5, n_estimators=5, oob_score=False, score=0.24582685041398622, total=   0.1s\n",
            "[CV] max_depth=5, n_estimators=20, oob_score=True ....................\n",
            "[CV]  max_depth=5, n_estimators=5, oob_score=False, score=0.5688209502500443, total=   0.1s\n",
            "[CV] max_depth=5, n_estimators=5, oob_score=False ....................\n",
            "[CV]  max_depth=5, n_estimators=5, oob_score=False, score=0.2535996492577568, total=   0.1s\n",
            "[CV] max_depth=5, n_estimators=20, oob_score=True ....................\n",
            "[CV]  max_depth=5, n_estimators=20, oob_score=True, score=0.2763818391607702, total=   0.2s\n",
            "[CV] max_depth=5, n_estimators=20, oob_score=True ....................\n",
            "[CV]  max_depth=5, n_estimators=20, oob_score=True, score=0.2759015083415848, total=   0.2s\n",
            "[CV] max_depth=5, n_estimators=20, oob_score=False ...................\n",
            "[CV]  max_depth=5, n_estimators=20, oob_score=True, score=0.5941890978738716, total=   0.2s\n",
            "[CV] max_depth=5, n_estimators=20, oob_score=False ...................\n",
            "[CV]  max_depth=5, n_estimators=20, oob_score=False, score=0.24302553560868823, total=   0.2s\n",
            "[CV] max_depth=5, n_estimators=100, oob_score=True ...................\n",
            "[CV]  max_depth=5, n_estimators=20, oob_score=False, score=0.6005031030226167, total=   0.2s\n",
            "[CV] max_depth=5, n_estimators=20, oob_score=False ...................\n",
            "[CV]  max_depth=5, n_estimators=20, oob_score=False, score=0.2658564781671857, total=   0.2s\n",
            "[CV] max_depth=5, n_estimators=100, oob_score=True ...................\n",
            "[CV]  max_depth=5, n_estimators=100, oob_score=True, score=0.2746425016641365, total=   1.0s\n",
            "[CV] max_depth=5, n_estimators=100, oob_score=True ...................\n",
            "[CV]  max_depth=5, n_estimators=100, oob_score=True, score=0.2685694129503652, total=   0.9s\n",
            "[CV] max_depth=5, n_estimators=100, oob_score=False ..................\n",
            "[CV]  max_depth=5, n_estimators=100, oob_score=True, score=0.595378861994772, total=   0.9s\n",
            "[CV] max_depth=5, n_estimators=100, oob_score=False ..................\n",
            "[CV]  max_depth=5, n_estimators=100, oob_score=False, score=0.27669608139503954, total=   0.9s\n",
            "[CV] max_depth=10, n_estimators=5, oob_score=True ....................\n",
            "[CV]  max_depth=10, n_estimators=5, oob_score=True, score=0.36031279270270167, total=   0.1s\n",
            "[CV] max_depth=10, n_estimators=5, oob_score=True ....................\n",
            "[CV]  max_depth=10, n_estimators=5, oob_score=True, score=0.8370595919254205, total=   0.1s\n",
            "[CV] max_depth=10, n_estimators=5, oob_score=True ....................\n",
            "[CV]  max_depth=10, n_estimators=5, oob_score=True, score=0.4829377438574354, total=   0.1s\n",
            "[CV] max_depth=10, n_estimators=5, oob_score=False ...................\n",
            "[CV]  max_depth=10, n_estimators=5, oob_score=False, score=0.32311415736058424, total=   0.1s\n",
            "[CV] max_depth=10, n_estimators=5, oob_score=False ...................\n",
            "[CV]  max_depth=10, n_estimators=5, oob_score=False, score=0.8553252523387915, total=   0.1s\n",
            "[CV] max_depth=10, n_estimators=5, oob_score=False ...................\n",
            "[CV]  max_depth=5, n_estimators=100, oob_score=False, score=0.5923325498937233, total=   0.9s\n",
            "[CV] max_depth=5, n_estimators=100, oob_score=False ..................\n",
            "[CV]  max_depth=10, n_estimators=5, oob_score=False, score=0.5050031866100613, total=   0.1s\n",
            "[CV] max_depth=10, n_estimators=20, oob_score=True ...................\n",
            "[CV]  max_depth=10, n_estimators=20, oob_score=True, score=0.3477454440938481, total=   0.3s\n",
            "[CV] max_depth=10, n_estimators=20, oob_score=True ...................\n",
            "[CV]  max_depth=10, n_estimators=20, oob_score=True, score=0.8604320247740355, total=   0.3s\n",
            "[CV] max_depth=10, n_estimators=20, oob_score=True ...................\n",
            "[CV]  max_depth=5, n_estimators=100, oob_score=False, score=0.27010092007623254, total=   0.8s\n",
            "[CV] max_depth=10, n_estimators=20, oob_score=False ..................\n",
            "[CV]  max_depth=10, n_estimators=20, oob_score=True, score=0.4867218732723577, total=   0.3s\n",
            "[CV] max_depth=10, n_estimators=20, oob_score=False ..................\n",
            "[CV]  max_depth=10, n_estimators=20, oob_score=False, score=0.8608780071756895, total=   0.3s\n",
            "[CV] max_depth=10, n_estimators=20, oob_score=False ..................\n",
            "[CV]  max_depth=10, n_estimators=20, oob_score=False, score=0.4957823850841598, total=   0.3s\n",
            "[CV]  max_depth=10, n_estimators=20, oob_score=False, score=0.34785842358442376, total=   0.3s\n",
            "[CV] max_depth=10, n_estimators=100, oob_score=True ..................\n",
            "[CV] max_depth=10, n_estimators=100, oob_score=True ..................\n",
            "[CV]  max_depth=10, n_estimators=100, oob_score=True, score=0.49662098395841003, total=   1.6s\n",
            "[CV] max_depth=10, n_estimators=100, oob_score=False .................\n",
            "[CV]  max_depth=10, n_estimators=100, oob_score=True, score=0.35416754075590207, total=   1.7s\n",
            "[CV] max_depth=10, n_estimators=100, oob_score=True ..................\n",
            "[CV]  max_depth=10, n_estimators=100, oob_score=False, score=0.35416754075590207, total=   1.6s\n",
            "[CV] max_depth=10, n_estimators=100, oob_score=False .................\n",
            "[CV]  max_depth=10, n_estimators=100, oob_score=True, score=0.8628236328276702, total=   1.6s\n",
            "[CV] max_depth=50, n_estimators=5, oob_score=True ....................\n",
            "[CV]  max_depth=50, n_estimators=5, oob_score=True, score=0.34833076178667033, total=   0.1s\n",
            "[CV] max_depth=50, n_estimators=5, oob_score=True ....................\n",
            "[CV]  max_depth=50, n_estimators=5, oob_score=True, score=0.864521212248687, total=   0.1s\n",
            "[CV] max_depth=50, n_estimators=5, oob_score=True ....................\n",
            "[CV]  max_depth=50, n_estimators=5, oob_score=True, score=0.5091562940021584, total=   0.1s\n",
            "[CV] max_depth=50, n_estimators=5, oob_score=False ...................\n",
            "[CV]  max_depth=50, n_estimators=5, oob_score=False, score=0.36767315975969217, total=   0.1s\n",
            "[CV] max_depth=50, n_estimators=5, oob_score=False ...................\n"
          ],
          "name": "stdout"
        },
        {
          "output_type": "stream",
          "text": [
            "[Parallel(n_jobs=-1)]: Done  37 tasks      | elapsed:    9.2s\n"
          ],
          "name": "stderr"
        },
        {
          "output_type": "stream",
          "text": [
            "[CV]  max_depth=50, n_estimators=5, oob_score=False, score=0.8568197066759603, total=   0.1s\n",
            "[CV] max_depth=50, n_estimators=5, oob_score=False ...................\n",
            "[CV]  max_depth=50, n_estimators=5, oob_score=False, score=0.497526284846954, total=   0.1s\n",
            "[CV] max_depth=50, n_estimators=20, oob_score=True ...................\n",
            "[CV]  max_depth=10, n_estimators=100, oob_score=False, score=0.8628236328276702, total=   1.6s\n",
            "[CV] max_depth=10, n_estimators=100, oob_score=False .................\n",
            "[CV]  max_depth=50, n_estimators=20, oob_score=True, score=0.3485366947229911, total=   0.5s\n",
            "[CV] max_depth=50, n_estimators=20, oob_score=True ...................\n",
            "[CV]  max_depth=50, n_estimators=20, oob_score=True, score=0.8781274015096346, total=   0.5s\n",
            "[CV] max_depth=50, n_estimators=20, oob_score=True ...................\n",
            "[CV]  max_depth=50, n_estimators=20, oob_score=True, score=0.5242327368860931, total=   0.5s\n",
            "[CV] max_depth=50, n_estimators=20, oob_score=False ..................\n",
            "[CV]  max_depth=10, n_estimators=100, oob_score=False, score=0.4968832393184413, total=   1.6s\n",
            "[CV] max_depth=50, n_estimators=20, oob_score=False ..................\n",
            "[CV]  max_depth=50, n_estimators=20, oob_score=False, score=0.38961279090952106, total=   0.5s\n",
            "[CV] max_depth=50, n_estimators=20, oob_score=False ..................\n",
            "[CV]  max_depth=50, n_estimators=20, oob_score=False, score=0.8713680614356245, total=   0.5s\n",
            "[CV] max_depth=50, n_estimators=100, oob_score=True ..................\n",
            "[CV]  max_depth=50, n_estimators=20, oob_score=False, score=0.5243106973022476, total=   0.5s\n",
            "[CV] max_depth=50, n_estimators=100, oob_score=True ..................\n",
            "[CV]  max_depth=50, n_estimators=100, oob_score=True, score=0.8808141309097182, total=   2.4s\n",
            "[CV] max_depth=50, n_estimators=100, oob_score=True ..................\n",
            "[CV]  max_depth=50, n_estimators=100, oob_score=True, score=0.3519752227440437, total=   2.6s\n",
            "[CV] max_depth=50, n_estimators=100, oob_score=False .................\n",
            "[CV]  max_depth=50, n_estimators=100, oob_score=True, score=0.5242957750383048, total=   2.5s\n",
            "[CV] max_depth=50, n_estimators=100, oob_score=False .................\n",
            "[CV]  max_depth=50, n_estimators=100, oob_score=False, score=0.37449826367643313, total=   2.6s\n",
            "[CV] max_depth=50, n_estimators=100, oob_score=False .................\n",
            "[CV]  max_depth=50, n_estimators=100, oob_score=False, score=0.8834882634675775, total=   2.4s\n",
            "[CV]  max_depth=50, n_estimators=100, oob_score=False, score=0.5231677233680789, total=   2.4s\n"
          ],
          "name": "stdout"
        },
        {
          "output_type": "stream",
          "text": [
            "[Parallel(n_jobs=-1)]: Done  54 out of  54 | elapsed:   20.4s finished\n"
          ],
          "name": "stderr"
        },
        {
          "output_type": "execute_result",
          "data": {
            "text/plain": [
              "GridSearchCV(cv=3, error_score='raise',\n",
              "       estimator=RandomForestRegressor(bootstrap=True, criterion='mse', max_depth=None,\n",
              "           max_features='auto', max_leaf_nodes=None,\n",
              "           min_impurity_decrease=0.0, min_impurity_split=None,\n",
              "           min_samples_leaf=1, min_samples_split=2,\n",
              "           min_weight_fraction_leaf=0.0, n_estimators=10, n_jobs=1,\n",
              "           oob_score=False, random_state=None, verbose=0, warm_start=False),\n",
              "       fit_params=None, iid=True, n_jobs=-1,\n",
              "       param_grid={'n_estimators': [5, 20, 100], 'max_depth': [5, 10, 50], 'oob_score': [True, False]},\n",
              "       pre_dispatch='2*n_jobs', refit=True, return_train_score='warn',\n",
              "       scoring=None, verbose=4)"
            ]
          },
          "metadata": {
            "tags": []
          },
          "execution_count": 7
        }
      ]
    },
    {
      "metadata": {
        "id": "C0-Fbslqz0ZK",
        "colab_type": "code",
        "colab": {
          "base_uri": "https://localhost:8080/",
          "height": 34
        },
        "outputId": "0c60d03e-a2ed-4102-9d1a-c81c4ea6ed1f"
      },
      "cell_type": "code",
      "source": [
        "grid_rf.best_params_"
      ],
      "execution_count": 8,
      "outputs": [
        {
          "output_type": "execute_result",
          "data": {
            "text/plain": [
              "{'max_depth': 50, 'n_estimators': 20, 'oob_score': False}"
            ]
          },
          "metadata": {
            "tags": []
          },
          "execution_count": 8
        }
      ]
    },
    {
      "metadata": {
        "id": "-QFcOMCA3zO7",
        "colab_type": "code",
        "colab": {}
      },
      "cell_type": "code",
      "source": [
        "model_stats(grid_rf,'Tuned RF Model', X_train, Y_train, X_test, Y_test)"
      ],
      "execution_count": 0,
      "outputs": []
    },
    {
      "metadata": {
        "id": "04FkYlT79pWF",
        "colab_type": "code",
        "colab": {
          "base_uri": "https://localhost:8080/",
          "height": 77
        },
        "outputId": "c17d2d2a-1f6d-4f4d-eeda-bf46625e3d21"
      },
      "cell_type": "code",
      "source": [
        "error_metric"
      ],
      "execution_count": 10,
      "outputs": [
        {
          "output_type": "execute_result",
          "data": {
            "text/html": [
              "<div>\n",
              "<style scoped>\n",
              "    .dataframe tbody tr th:only-of-type {\n",
              "        vertical-align: middle;\n",
              "    }\n",
              "\n",
              "    .dataframe tbody tr th {\n",
              "        vertical-align: top;\n",
              "    }\n",
              "\n",
              "    .dataframe thead th {\n",
              "        text-align: right;\n",
              "    }\n",
              "</style>\n",
              "<table border=\"1\" class=\"dataframe\">\n",
              "  <thead>\n",
              "    <tr style=\"text-align: right;\">\n",
              "      <th></th>\n",
              "      <th>Model</th>\n",
              "      <th>Testing RMSLE</th>\n",
              "      <th>Testing R^2</th>\n",
              "      <th>Training RMSLE</th>\n",
              "      <th>Training R^2</th>\n",
              "    </tr>\n",
              "  </thead>\n",
              "  <tbody>\n",
              "    <tr>\n",
              "      <th>0</th>\n",
              "      <td>Tuned RF Model</td>\n",
              "      <td>0.361795</td>\n",
              "      <td>0.862357</td>\n",
              "      <td>0.164994</td>\n",
              "      <td>0.990561</td>\n",
              "    </tr>\n",
              "  </tbody>\n",
              "</table>\n",
              "</div>"
            ],
            "text/plain": [
              "            Model  Testing RMSLE  Testing R^2  Training RMSLE  Training R^2\n",
              "0  Tuned RF Model       0.361795     0.862357        0.164994      0.990561"
            ]
          },
          "metadata": {
            "tags": []
          },
          "execution_count": 10
        }
      ]
    },
    {
      "metadata": {
        "id": "yMhoLliXiCM0",
        "colab_type": "code",
        "colab": {}
      },
      "cell_type": "code",
      "source": [
        "#Scaling the data and checking with Tuned Model\n",
        "yte = np.array(Y_test).reshape(len(Y_test),1)\n",
        "ytr = np.array(Y_train).reshape(len(Y_train),1)\n",
        "\n",
        "X_test_scaled = scaler.fit_transform(X_test)\n",
        "X_train_scaled = scaler.fit_transform(X_train)\n",
        "\n",
        "Y_train_scaled = scaler.fit_transform(ytr).ravel()\n",
        "Y_test_scaled = scaler.fit_transform(yte).ravel()"
      ],
      "execution_count": 0,
      "outputs": []
    },
    {
      "metadata": {
        "id": "d3wimw61jUXD",
        "colab_type": "code",
        "colab": {}
      },
      "cell_type": "code",
      "source": [
        "tuned_rf = RandomForestRegressor(n_estimators = 100, max_depth = 50, oob_score = False, n_jobs = -1)\n",
        "tuned_rf.fit(X_train_scaled,Y_train_scaled)\n",
        "model_stats(tuned_rf,'Scaled & Tuned RF', X_train_scaled, Y_train_scaled, X_test_scaled, Y_test_scaled)"
      ],
      "execution_count": 0,
      "outputs": []
    },
    {
      "metadata": {
        "id": "N53q0YLTkng7",
        "colab_type": "code",
        "colab": {
          "base_uri": "https://localhost:8080/",
          "height": 106
        },
        "outputId": "ae983078-2a18-4fdb-a97c-5a044c8b1f7c"
      },
      "cell_type": "code",
      "source": [
        "error_metric"
      ],
      "execution_count": 13,
      "outputs": [
        {
          "output_type": "execute_result",
          "data": {
            "text/html": [
              "<div>\n",
              "<style scoped>\n",
              "    .dataframe tbody tr th:only-of-type {\n",
              "        vertical-align: middle;\n",
              "    }\n",
              "\n",
              "    .dataframe tbody tr th {\n",
              "        vertical-align: top;\n",
              "    }\n",
              "\n",
              "    .dataframe thead th {\n",
              "        text-align: right;\n",
              "    }\n",
              "</style>\n",
              "<table border=\"1\" class=\"dataframe\">\n",
              "  <thead>\n",
              "    <tr style=\"text-align: right;\">\n",
              "      <th></th>\n",
              "      <th>Model</th>\n",
              "      <th>Testing RMSLE</th>\n",
              "      <th>Testing R^2</th>\n",
              "      <th>Training RMSLE</th>\n",
              "      <th>Training R^2</th>\n",
              "    </tr>\n",
              "  </thead>\n",
              "  <tbody>\n",
              "    <tr>\n",
              "      <th>0</th>\n",
              "      <td>Tuned RF Model</td>\n",
              "      <td>0.361795</td>\n",
              "      <td>0.862357</td>\n",
              "      <td>0.164994</td>\n",
              "      <td>0.990561</td>\n",
              "    </tr>\n",
              "    <tr>\n",
              "      <th>0</th>\n",
              "      <td>Scaled &amp; Tuned RF</td>\n",
              "      <td>0.100787</td>\n",
              "      <td>0.591306</td>\n",
              "      <td>0.011758</td>\n",
              "      <td>0.992381</td>\n",
              "    </tr>\n",
              "  </tbody>\n",
              "</table>\n",
              "</div>"
            ],
            "text/plain": [
              "               Model  Testing RMSLE  Testing R^2  Training RMSLE  Training R^2\n",
              "0     Tuned RF Model       0.361795     0.862357        0.164994      0.990561\n",
              "0  Scaled & Tuned RF       0.100787     0.591306        0.011758      0.992381"
            ]
          },
          "metadata": {
            "tags": []
          },
          "execution_count": 13
        }
      ]
    },
    {
      "metadata": {
        "id": "8k-V2PmfA0kW",
        "colab_type": "text"
      },
      "cell_type": "markdown",
      "source": [
        "# FEATURE SELECTION"
      ]
    },
    {
      "metadata": {
        "id": "Xsp796zyn-FI",
        "colab_type": "text"
      },
      "cell_type": "markdown",
      "source": [
        "## BORUTA"
      ]
    },
    {
      "metadata": {
        "id": "md_2EbBeBA17",
        "colab_type": "code",
        "colab": {
          "base_uri": "https://localhost:8080/",
          "height": 84
        },
        "outputId": "a0e02e2c-39c1-49db-bfa0-71de792094b8"
      },
      "cell_type": "code",
      "source": [
        "!pip install Boruta"
      ],
      "execution_count": 14,
      "outputs": [
        {
          "output_type": "stream",
          "text": [
            "Requirement already satisfied: Boruta in /usr/local/lib/python3.6/dist-packages (0.1.5)\n",
            "Requirement already satisfied: scikit-learn>=0.17.1 in /usr/local/lib/python3.6/dist-packages (from Boruta) (0.19.2)\n",
            "Requirement already satisfied: scipy>=0.17.0 in /usr/local/lib/python3.6/dist-packages (from Boruta) (1.1.0)\n",
            "Requirement already satisfied: numpy>=1.10.4 in /usr/local/lib/python3.6/dist-packages (from Boruta) (1.14.6)\n"
          ],
          "name": "stdout"
        }
      ]
    },
    {
      "metadata": {
        "id": "BLhbPLjDA9ju",
        "colab_type": "code",
        "colab": {}
      },
      "cell_type": "code",
      "source": [
        "from boruta import BorutaPy"
      ],
      "execution_count": 0,
      "outputs": []
    },
    {
      "metadata": {
        "id": "w-mcFug1BftK",
        "colab_type": "code",
        "colab": {
          "base_uri": "https://localhost:8080/",
          "height": 3461
        },
        "outputId": "bc72fc0f-8a89-48fd-ccc6-b768c4aa6279"
      },
      "cell_type": "code",
      "source": [
        "X_Boruta = X_train.values\n",
        "Y_Boruta = Y_train.values\n",
        "Y_Boruta = Y_Boruta.ravel()\n",
        "\n",
        "tuned_model_boruta = RandomForestRegressor(n_estimators = 100, max_depth = 50, oob_score = False, n_jobs = -1)\n",
        "\n",
        "# define Boruta feature selection method\n",
        "feat_selector = BorutaPy(tuned_model_boruta, n_estimators='auto', verbose=5, random_state=1, max_iter=50)\n",
        "\n",
        "# find all relevant features\n",
        "feat_selector.fit(X_Boruta, Y_Boruta)\n",
        "\n",
        "# check selected features\n",
        "feat_selector.support_\n",
        "\n",
        "# check ranking of features\n",
        "feat_selector.ranking_"
      ],
      "execution_count": 16,
      "outputs": [
        {
          "output_type": "stream",
          "text": [
            "Iteration: \t1 / 50\n",
            "Confirmed: \t0\n",
            "Tentative: \t11\n",
            "Rejected: \t0\n",
            "Iteration: \t2 / 50\n",
            "Confirmed: \t0\n",
            "Tentative: \t11\n",
            "Rejected: \t0\n",
            "Iteration: \t3 / 50\n",
            "Confirmed: \t0\n",
            "Tentative: \t11\n",
            "Rejected: \t0\n",
            "Iteration: \t4 / 50\n",
            "Confirmed: \t0\n",
            "Tentative: \t11\n",
            "Rejected: \t0\n",
            "Iteration: \t5 / 50\n",
            "Confirmed: \t0\n",
            "Tentative: \t11\n",
            "Rejected: \t0\n",
            "Iteration: \t6 / 50\n",
            "Confirmed: \t0\n",
            "Tentative: \t11\n",
            "Rejected: \t0\n",
            "Iteration: \t7 / 50\n",
            "Confirmed: \t0\n",
            "Tentative: \t11\n",
            "Rejected: \t0\n",
            "Iteration: \t8 / 50\n",
            "Confirmed: \t8\n",
            "Tentative: \t2\n",
            "Rejected: \t1\n",
            "Iteration: \t9 / 50\n",
            "Confirmed: \t8\n",
            "Tentative: \t2\n",
            "Rejected: \t1\n",
            "Iteration: \t10 / 50\n",
            "Confirmed: \t8\n",
            "Tentative: \t2\n",
            "Rejected: \t1\n",
            "Iteration: \t11 / 50\n",
            "Confirmed: \t8\n",
            "Tentative: \t2\n",
            "Rejected: \t1\n",
            "Iteration: \t12 / 50\n",
            "Confirmed: \t8\n",
            "Tentative: \t2\n",
            "Rejected: \t1\n",
            "Iteration: \t13 / 50\n",
            "Confirmed: \t8\n",
            "Tentative: \t2\n",
            "Rejected: \t1\n",
            "Iteration: \t14 / 50\n",
            "Confirmed: \t8\n",
            "Tentative: \t2\n",
            "Rejected: \t1\n",
            "Iteration: \t15 / 50\n",
            "Confirmed: \t8\n",
            "Tentative: \t2\n",
            "Rejected: \t1\n",
            "Iteration: \t16 / 50\n",
            "Confirmed: \t8\n",
            "Tentative: \t2\n",
            "Rejected: \t1\n",
            "Iteration: \t17 / 50\n",
            "Confirmed: \t8\n",
            "Tentative: \t2\n",
            "Rejected: \t1\n",
            "Iteration: \t18 / 50\n",
            "Confirmed: \t8\n",
            "Tentative: \t2\n",
            "Rejected: \t1\n",
            "Iteration: \t19 / 50\n",
            "Confirmed: \t8\n",
            "Tentative: \t2\n",
            "Rejected: \t1\n",
            "Iteration: \t20 / 50\n",
            "Confirmed: \t8\n",
            "Tentative: \t2\n",
            "Rejected: \t1\n",
            "Iteration: \t21 / 50\n",
            "Confirmed: \t8\n",
            "Tentative: \t2\n",
            "Rejected: \t1\n",
            "Iteration: \t22 / 50\n",
            "Confirmed: \t8\n",
            "Tentative: \t2\n",
            "Rejected: \t1\n",
            "Iteration: \t23 / 50\n",
            "Confirmed: \t8\n",
            "Tentative: \t2\n",
            "Rejected: \t1\n",
            "Iteration: \t24 / 50\n",
            "Confirmed: \t8\n",
            "Tentative: \t2\n",
            "Rejected: \t1\n",
            "Iteration: \t25 / 50\n",
            "Confirmed: \t8\n",
            "Tentative: \t2\n",
            "Rejected: \t1\n",
            "Iteration: \t26 / 50\n",
            "Confirmed: \t8\n",
            "Tentative: \t2\n",
            "Rejected: \t1\n",
            "Iteration: \t27 / 50\n",
            "Confirmed: \t8\n",
            "Tentative: \t2\n",
            "Rejected: \t1\n",
            "Iteration: \t28 / 50\n",
            "Confirmed: \t8\n",
            "Tentative: \t2\n",
            "Rejected: \t1\n",
            "Iteration: \t29 / 50\n",
            "Confirmed: \t8\n",
            "Tentative: \t2\n",
            "Rejected: \t1\n",
            "Iteration: \t30 / 50\n",
            "Confirmed: \t8\n",
            "Tentative: \t2\n",
            "Rejected: \t1\n",
            "Iteration: \t31 / 50\n",
            "Confirmed: \t8\n",
            "Tentative: \t2\n",
            "Rejected: \t1\n",
            "Iteration: \t32 / 50\n",
            "Confirmed: \t8\n",
            "Tentative: \t2\n",
            "Rejected: \t1\n",
            "Iteration: \t33 / 50\n",
            "Confirmed: \t8\n",
            "Tentative: \t2\n",
            "Rejected: \t1\n",
            "Iteration: \t34 / 50\n",
            "Confirmed: \t8\n",
            "Tentative: \t2\n",
            "Rejected: \t1\n",
            "Iteration: \t35 / 50\n",
            "Confirmed: \t8\n",
            "Tentative: \t2\n",
            "Rejected: \t1\n",
            "Iteration: \t36 / 50\n",
            "Confirmed: \t8\n",
            "Tentative: \t2\n",
            "Rejected: \t1\n",
            "Iteration: \t37 / 50\n",
            "Confirmed: \t8\n",
            "Tentative: \t2\n",
            "Rejected: \t1\n",
            "Iteration: \t38 / 50\n",
            "Confirmed: \t8\n",
            "Tentative: \t2\n",
            "Rejected: \t1\n",
            "Iteration: \t39 / 50\n",
            "Confirmed: \t8\n",
            "Tentative: \t2\n",
            "Rejected: \t1\n",
            "Iteration: \t40 / 50\n",
            "Confirmed: \t8\n",
            "Tentative: \t2\n",
            "Rejected: \t1\n",
            "Iteration: \t41 / 50\n",
            "Confirmed: \t8\n",
            "Tentative: \t2\n",
            "Rejected: \t1\n",
            "Iteration: \t42 / 50\n",
            "Confirmed: \t8\n",
            "Tentative: \t2\n",
            "Rejected: \t1\n",
            "Iteration: \t43 / 50\n",
            "Confirmed: \t8\n",
            "Tentative: \t2\n",
            "Rejected: \t1\n",
            "Iteration: \t44 / 50\n",
            "Confirmed: \t8\n",
            "Tentative: \t2\n",
            "Rejected: \t1\n",
            "Iteration: \t45 / 50\n",
            "Confirmed: \t8\n",
            "Tentative: \t2\n",
            "Rejected: \t1\n",
            "Iteration: \t46 / 50\n",
            "Confirmed: \t8\n",
            "Tentative: \t2\n",
            "Rejected: \t1\n",
            "Iteration: \t47 / 50\n",
            "Confirmed: \t8\n",
            "Tentative: \t2\n",
            "Rejected: \t1\n",
            "Iteration: \t48 / 50\n",
            "Confirmed: \t8\n",
            "Tentative: \t2\n",
            "Rejected: \t1\n",
            "Iteration: \t49 / 50\n",
            "Confirmed: \t8\n",
            "Tentative: \t2\n",
            "Rejected: \t1\n",
            "\n",
            "\n",
            "BorutaPy finished running.\n",
            "\n",
            "Iteration: \t50 / 50\n",
            "Confirmed: \t8\n",
            "Tentative: \t1\n",
            "Rejected: \t1\n"
          ],
          "name": "stdout"
        },
        {
          "output_type": "execute_result",
          "data": {
            "text/plain": [
              "array([1, 4, 1, 3, 1, 2, 1, 1, 1, 1, 1])"
            ]
          },
          "metadata": {
            "tags": []
          },
          "execution_count": 16
        }
      ]
    },
    {
      "metadata": {
        "id": "Y3_A6kMTDBKw",
        "colab_type": "code",
        "colab": {
          "base_uri": "https://localhost:8080/",
          "height": 34
        },
        "outputId": "4a76680a-cebf-4352-c6f4-f30f247c696f"
      },
      "cell_type": "code",
      "source": [
        "boruta_feature_ranking = zip(list(X_train.columns),list(feat_selector.ranking_))\n",
        "boruta_feature_ranking = set(boruta_feature_ranking)\n",
        "print(boruta_feature_ranking)"
      ],
      "execution_count": 17,
      "outputs": [
        {
          "output_type": "stream",
          "text": [
            "{('hour', 1), ('weather', 1), ('year', 1), ('month', 1), ('weekday', 1), ('holiday', 4), ('season', 3), ('windspeed', 2), ('workingday', 1), ('atemp', 1), ('humidity', 1)}\n"
          ],
          "name": "stdout"
        }
      ]
    },
    {
      "metadata": {
        "id": "BxRWhQBBDguv",
        "colab_type": "code",
        "colab": {}
      },
      "cell_type": "code",
      "source": [
        "boruta_features = ['weather','humidity','year','hour','month','workingday','season','atemp','weekday']\n",
        "\n",
        "X_train_Boruta = X_train[boruta_features]\n",
        "X_test_Boruta = X_test[boruta_features]"
      ],
      "execution_count": 0,
      "outputs": []
    },
    {
      "metadata": {
        "id": "iPfR5GGgGnGz",
        "colab_type": "code",
        "colab": {}
      },
      "cell_type": "code",
      "source": [
        "tuned_model = RandomForestRegressor(n_estimators = 100, max_depth = 50, oob_score = False, n_jobs = -1)\n",
        "tuned_model.fit(X_train_Boruta,Y_train)\n",
        "model_stats(tuned_model,'Boruta Features RF', X_train_Boruta, Y_train, X_test_Boruta, Y_test)"
      ],
      "execution_count": 0,
      "outputs": []
    },
    {
      "metadata": {
        "id": "bhXjEsAmPoqT",
        "colab_type": "code",
        "colab": {
          "base_uri": "https://localhost:8080/",
          "height": 136
        },
        "outputId": "c8468023-8da9-4896-c71c-29052b675b58"
      },
      "cell_type": "code",
      "source": [
        "error_metric"
      ],
      "execution_count": 20,
      "outputs": [
        {
          "output_type": "execute_result",
          "data": {
            "text/html": [
              "<div>\n",
              "<style scoped>\n",
              "    .dataframe tbody tr th:only-of-type {\n",
              "        vertical-align: middle;\n",
              "    }\n",
              "\n",
              "    .dataframe tbody tr th {\n",
              "        vertical-align: top;\n",
              "    }\n",
              "\n",
              "    .dataframe thead th {\n",
              "        text-align: right;\n",
              "    }\n",
              "</style>\n",
              "<table border=\"1\" class=\"dataframe\">\n",
              "  <thead>\n",
              "    <tr style=\"text-align: right;\">\n",
              "      <th></th>\n",
              "      <th>Model</th>\n",
              "      <th>Testing RMSLE</th>\n",
              "      <th>Testing R^2</th>\n",
              "      <th>Training RMSLE</th>\n",
              "      <th>Training R^2</th>\n",
              "    </tr>\n",
              "  </thead>\n",
              "  <tbody>\n",
              "    <tr>\n",
              "      <th>0</th>\n",
              "      <td>Tuned RF Model</td>\n",
              "      <td>0.361795</td>\n",
              "      <td>0.862357</td>\n",
              "      <td>0.164994</td>\n",
              "      <td>0.990561</td>\n",
              "    </tr>\n",
              "    <tr>\n",
              "      <th>0</th>\n",
              "      <td>Scaled &amp; Tuned RF</td>\n",
              "      <td>0.100787</td>\n",
              "      <td>0.591306</td>\n",
              "      <td>0.011758</td>\n",
              "      <td>0.992381</td>\n",
              "    </tr>\n",
              "    <tr>\n",
              "      <th>0</th>\n",
              "      <td>Boruta Features RF</td>\n",
              "      <td>0.343886</td>\n",
              "      <td>0.879993</td>\n",
              "      <td>0.153231</td>\n",
              "      <td>0.992460</td>\n",
              "    </tr>\n",
              "  </tbody>\n",
              "</table>\n",
              "</div>"
            ],
            "text/plain": [
              "                Model  Testing RMSLE  Testing R^2  Training RMSLE  \\\n",
              "0      Tuned RF Model       0.361795     0.862357        0.164994   \n",
              "0   Scaled & Tuned RF       0.100787     0.591306        0.011758   \n",
              "0  Boruta Features RF       0.343886     0.879993        0.153231   \n",
              "\n",
              "   Training R^2  \n",
              "0      0.990561  \n",
              "0      0.992381  \n",
              "0      0.992460  "
            ]
          },
          "metadata": {
            "tags": []
          },
          "execution_count": 20
        }
      ]
    },
    {
      "metadata": {
        "id": "Ld4b-34zoCCB",
        "colab_type": "text"
      },
      "cell_type": "markdown",
      "source": [
        "## Forward Feature Selection"
      ]
    },
    {
      "metadata": {
        "id": "5kVJDhSPmc17",
        "colab_type": "code",
        "colab": {
          "base_uri": "https://localhost:8080/",
          "height": 218
        },
        "outputId": "d68f2373-2048-4bfc-e825-fe74b77225a1"
      },
      "cell_type": "code",
      "source": [
        "!pip install mlxtend"
      ],
      "execution_count": 21,
      "outputs": [
        {
          "output_type": "stream",
          "text": [
            "Requirement already satisfied: mlxtend in /usr/local/lib/python3.6/dist-packages (0.14.0)\n",
            "Requirement already satisfied: pandas>=0.17.1 in /usr/local/lib/python3.6/dist-packages (from mlxtend) (0.22.0)\n",
            "Requirement already satisfied: scikit-learn>=0.18 in /usr/local/lib/python3.6/dist-packages (from mlxtend) (0.19.2)\n",
            "Requirement already satisfied: scipy>=0.17 in /usr/local/lib/python3.6/dist-packages (from mlxtend) (1.1.0)\n",
            "Requirement already satisfied: setuptools in /usr/local/lib/python3.6/dist-packages (from mlxtend) (40.6.2)\n",
            "Requirement already satisfied: matplotlib>=1.5.1 in /usr/local/lib/python3.6/dist-packages (from mlxtend) (2.1.2)\n",
            "Requirement already satisfied: numpy>=1.10.4 in /usr/local/lib/python3.6/dist-packages (from mlxtend) (1.14.6)\n",
            "Requirement already satisfied: pytz>=2011k in /usr/local/lib/python3.6/dist-packages (from pandas>=0.17.1->mlxtend) (2018.7)\n",
            "Requirement already satisfied: python-dateutil>=2 in /usr/local/lib/python3.6/dist-packages (from pandas>=0.17.1->mlxtend) (2.5.3)\n",
            "Requirement already satisfied: pyparsing!=2.0.4,!=2.1.2,!=2.1.6,>=2.0.1 in /usr/local/lib/python3.6/dist-packages (from matplotlib>=1.5.1->mlxtend) (2.3.0)\n",
            "Requirement already satisfied: six>=1.10 in /usr/local/lib/python3.6/dist-packages (from matplotlib>=1.5.1->mlxtend) (1.11.0)\n",
            "Requirement already satisfied: cycler>=0.10 in /usr/local/lib/python3.6/dist-packages (from matplotlib>=1.5.1->mlxtend) (0.10.0)\n"
          ],
          "name": "stdout"
        }
      ]
    },
    {
      "metadata": {
        "id": "y7qI8FbsqZff",
        "colab_type": "code",
        "colab": {}
      },
      "cell_type": "code",
      "source": [
        "from mlxtend.feature_selection import SequentialFeatureSelector\n",
        "from mlxtend.plotting import plot_sequential_feature_selection as plot_sfs"
      ],
      "execution_count": 0,
      "outputs": []
    },
    {
      "metadata": {
        "id": "WRpv4aERrEXw",
        "colab_type": "code",
        "colab": {
          "base_uri": "https://localhost:8080/",
          "height": 134
        },
        "outputId": "34e12ad8-6f09-4f8b-e957-722b0954f6db"
      },
      "cell_type": "code",
      "source": [
        "rf_sfs = RandomForestRegressor(n_estimators = 100, max_depth = 50, oob_score = False, n_jobs = -1)\n",
        "SFS = SequentialFeatureSelector(rf_sfs,k_features=6, scoring='mean_squared_error', verbose=1, n_jobs=-1)\n",
        "SFS = SFS.fit(X_train,Y_train)"
      ],
      "execution_count": 23,
      "outputs": [
        {
          "output_type": "stream",
          "text": [
            "[Parallel(n_jobs=-1)]: Done  11 out of  11 | elapsed:   11.2s finished\n",
            "Features: 1/6[Parallel(n_jobs=-1)]: Done  10 out of  10 | elapsed:   15.8s finished\n",
            "Features: 2/6[Parallel(n_jobs=-1)]: Done   9 out of   9 | elapsed:   16.4s finished\n",
            "Features: 3/6[Parallel(n_jobs=-1)]: Done   8 out of   8 | elapsed:   25.4s finished\n",
            "Features: 4/6[Parallel(n_jobs=-1)]: Done   7 out of   7 | elapsed:   25.1s finished\n",
            "Features: 5/6[Parallel(n_jobs=-1)]: Done   6 out of   6 | elapsed:   25.6s finished\n",
            "Features: 6/6"
          ],
          "name": "stderr"
        }
      ]
    },
    {
      "metadata": {
        "id": "9gOZYcJRpWav",
        "colab_type": "code",
        "colab": {
          "base_uri": "https://localhost:8080/",
          "height": 393
        },
        "outputId": "64c40acd-c6c4-4143-9de8-299e09a3e602"
      },
      "cell_type": "code",
      "source": [
        "fig = plot_sfs(SFS.get_metric_dict(), kind='std_err')\n",
        "\n",
        "plt.title('Sequential Forward Selection (w. StdErr)')\n",
        "plt.grid()\n",
        "plt.show()\n",
        "\n",
        "print(SFS.k_feature_names_)"
      ],
      "execution_count": 24,
      "outputs": [
        {
          "output_type": "display_data",
          "data": {
            "image/png": "[encoded data removed]",
            "text/plain": [
              "<matplotlib.figure.Figure at 0x7fcd651bbda0>"
            ]
          },
          "metadata": {
            "tags": []
          }
        },
        {
          "output_type": "stream",
          "text": [
            "('atemp', 'weather', 'workingday', 'hour', 'year', 'month')\n"
          ],
          "name": "stdout"
        }
      ]
    },
    {
      "metadata": {
        "id": "2bahOwExp29u",
        "colab_type": "code",
        "colab": {
          "base_uri": "https://localhost:8080/",
          "height": 118
        },
        "outputId": "89fa6c88-bdcb-413d-c3f3-1c2cbaf4c311"
      },
      "cell_type": "code",
      "source": [
        "rf_sfs = RandomForestRegressor(n_estimators = 100, max_depth = 50, oob_score = False, n_jobs = -1)\n",
        "SFS_b = SequentialFeatureSelector(rf_sfs, forward=False, k_features=6, scoring='mean_squared_error', verbose=1, n_jobs=-1)\n",
        "SFS_b = SFS_b.fit(X_train.values,Y_train.values)"
      ],
      "execution_count": 25,
      "outputs": [
        {
          "output_type": "stream",
          "text": [
            "[Parallel(n_jobs=-1)]: Done  11 out of  11 | elapsed:  1.3min finished\n",
            "Features: 10/6[Parallel(n_jobs=-1)]: Done  10 out of  10 | elapsed:  1.1min finished\n",
            "Features: 9/6[Parallel(n_jobs=-1)]: Done   9 out of   9 | elapsed:   54.0s finished\n",
            "Features: 8/6[Parallel(n_jobs=-1)]: Done   8 out of   8 | elapsed:   39.6s finished\n",
            "Features: 7/6[Parallel(n_jobs=-1)]: Done   7 out of   7 | elapsed:   34.3s finished\n",
            "Features: 6/6"
          ],
          "name": "stderr"
        }
      ]
    },
    {
      "metadata": {
        "id": "pDkOKcIjrMzE",
        "colab_type": "code",
        "colab": {
          "base_uri": "https://localhost:8080/",
          "height": 426
        },
        "outputId": "52e0aec9-060e-4a50-f2c9-f00a91c29263"
      },
      "cell_type": "code",
      "source": [
        "fig = plot_sfs(SFS_b.get_metric_dict(), kind='std_err')\n",
        "\n",
        "plt.title('Sequential Backward Selection (w. StdErr)')\n",
        "plt.grid()\n",
        "plt.show()\n",
        "\n",
        "print('\\n')\n",
        "indxs = list(SFS_b.k_feature_names_)\n",
        "str_cols = X_train.columns\n",
        "features = set(zip(indxs,str_cols))\n",
        "print(features)"
      ],
      "execution_count": 26,
      "outputs": [
        {
          "output_type": "display_data",
          "data": {
            "image/png": "[encoded data removed]",
            "text/plain": [
              "<matplotlib.figure.Figure at 0x7fcd650388d0>"
            ]
          },
          "metadata": {
            "tags": []
          }
        },
        {
          "output_type": "stream",
          "text": [
            "\n",
            "\n",
            "{('0', 'atemp'), ('8', 'weather'), ('7', 'season'), ('2', 'holiday'), ('6', 'humidity'), ('10', 'windspeed')}\n"
          ],
          "name": "stdout"
        }
      ]
    },
    {
      "metadata": {
        "id": "gITcTF07Etxj",
        "colab_type": "code",
        "colab": {}
      },
      "cell_type": "code",
      "source": [
        "rf_fil = RandomForestRegressor(n_estimators = 100, max_depth = 50, oob_score = False, n_jobs = -1)\n",
        "common_features = ['humidity','weather','season','atemp','workingday','hour','year','month']\n",
        "X_train_filtered = X_train[common_features]\n",
        "X_test_filtered = X_test[common_features]\n",
        "\n",
        "# X_train_fil_scaled = scaler.fit_transform(X_train_filtered)\n",
        "# X_test_fil_scaled = scaler.fit_transform(X_test_filtered)"
      ],
      "execution_count": 0,
      "outputs": []
    },
    {
      "metadata": {
        "id": "R9AEKhmVMh6U",
        "colab_type": "code",
        "colab": {}
      },
      "cell_type": "code",
      "source": [
        "rf_fil.fit(X_train_filtered,Y_train)\n",
        "model_stats(rf_fil,'Filtered & Scaled Features RF', X_train_filtered, Y_train, X_test_filtered, Y_test)"
      ],
      "execution_count": 0,
      "outputs": []
    },
    {
      "metadata": {
        "id": "11_lGQ6bNdtC",
        "colab_type": "code",
        "colab": {
          "base_uri": "https://localhost:8080/",
          "height": 166
        },
        "outputId": "0a7ff685-4f5c-4a11-a7ce-dbddfcf32532"
      },
      "cell_type": "code",
      "source": [
        "error_metric"
      ],
      "execution_count": 29,
      "outputs": [
        {
          "output_type": "execute_result",
          "data": {
            "text/html": [
              "<div>\n",
              "<style scoped>\n",
              "    .dataframe tbody tr th:only-of-type {\n",
              "        vertical-align: middle;\n",
              "    }\n",
              "\n",
              "    .dataframe tbody tr th {\n",
              "        vertical-align: top;\n",
              "    }\n",
              "\n",
              "    .dataframe thead th {\n",
              "        text-align: right;\n",
              "    }\n",
              "</style>\n",
              "<table border=\"1\" class=\"dataframe\">\n",
              "  <thead>\n",
              "    <tr style=\"text-align: right;\">\n",
              "      <th></th>\n",
              "      <th>Model</th>\n",
              "      <th>Testing RMSLE</th>\n",
              "      <th>Testing R^2</th>\n",
              "      <th>Training RMSLE</th>\n",
              "      <th>Training R^2</th>\n",
              "    </tr>\n",
              "  </thead>\n",
              "  <tbody>\n",
              "    <tr>\n",
              "      <th>0</th>\n",
              "      <td>Tuned RF Model</td>\n",
              "      <td>0.361795</td>\n",
              "      <td>0.862357</td>\n",
              "      <td>0.164994</td>\n",
              "      <td>0.990561</td>\n",
              "    </tr>\n",
              "    <tr>\n",
              "      <th>0</th>\n",
              "      <td>Scaled &amp; Tuned RF</td>\n",
              "      <td>0.100787</td>\n",
              "      <td>0.591306</td>\n",
              "      <td>0.011758</td>\n",
              "      <td>0.992381</td>\n",
              "    </tr>\n",
              "    <tr>\n",
              "      <th>0</th>\n",
              "      <td>Boruta Features RF</td>\n",
              "      <td>0.343886</td>\n",
              "      <td>0.879993</td>\n",
              "      <td>0.153231</td>\n",
              "      <td>0.992460</td>\n",
              "    </tr>\n",
              "    <tr>\n",
              "      <th>0</th>\n",
              "      <td>Filtered &amp; Scaled Features RF</td>\n",
              "      <td>0.370061</td>\n",
              "      <td>0.868669</td>\n",
              "      <td>0.168637</td>\n",
              "      <td>0.990460</td>\n",
              "    </tr>\n",
              "  </tbody>\n",
              "</table>\n",
              "</div>"
            ],
            "text/plain": [
              "                           Model  Testing RMSLE  Testing R^2  Training RMSLE  \\\n",
              "0                 Tuned RF Model       0.361795     0.862357        0.164994   \n",
              "0              Scaled & Tuned RF       0.100787     0.591306        0.011758   \n",
              "0             Boruta Features RF       0.343886     0.879993        0.153231   \n",
              "0  Filtered & Scaled Features RF       0.370061     0.868669        0.168637   \n",
              "\n",
              "   Training R^2  \n",
              "0      0.990561  \n",
              "0      0.992381  \n",
              "0      0.992460  \n",
              "0      0.990460  "
            ]
          },
          "metadata": {
            "tags": []
          },
          "execution_count": 29
        }
      ]
    }
  ]
}