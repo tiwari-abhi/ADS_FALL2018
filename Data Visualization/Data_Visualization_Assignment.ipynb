{
 "cells": [
  {
   "cell_type": "markdown",
   "metadata": {},
   "source": [
    "## **INFO 7390 - Data Visualization Assignment**"
   ]
  },
  {
   "cell_type": "markdown",
   "metadata": {},
   "source": [
    "**We import all necessary libraries that will be used in our evaluations :**"
   ]
  },
  {
   "cell_type": "code",
   "execution_count": 48,
   "metadata": {
    "scrolled": true
   },
   "outputs": [
    {
     "data": {
      "text/html": [
       "<script>requirejs.config({paths: { 'plotly': ['https://cdn.plot.ly/plotly-latest.min']},});if(!window.Plotly) {{require(['plotly'],function(plotly) {window.Plotly=plotly;});}}</script>"
      ],
      "text/vnd.plotly.v1+html": [
       "<script>requirejs.config({paths: { 'plotly': ['https://cdn.plot.ly/plotly-latest.min']},});if(!window.Plotly) {{require(['plotly'],function(plotly) {window.Plotly=plotly;});}}</script>"
      ]
     },
     "metadata": {},
     "output_type": "display_data"
    },
    {
     "name": "stderr",
     "output_type": "stream",
     "text": [
      "IOPub data rate exceeded.\n",
      "The notebook server will temporarily stop sending output\n",
      "to the client in order to avoid crashing it.\n",
      "To change this limit, set the config variable\n",
      "`--NotebookApp.iopub_data_rate_limit`.\n"
     ]
    }
   ],
   "source": [
    "import numpy as np\n",
    "import pandas as pd\n",
    "\n",
    "import seaborn as sn\n",
    "import matplotlib.pyplot as plt\n",
    "import cufflinks as cf\n",
    "import plotly.graph_objs as go\n",
    "\n",
    "from dateutil.parser import parser as par\n",
    "from datetime import datetime as dt\n",
    "from plotly.offline import download_plotlyjs, init_notebook_mode, plot, iplot\n",
    "\n",
    "#Warning for setting with copies/views\n",
    "pd.options.mode.chained_assignment = None\n",
    "\n",
    "init_notebook_mode(connected=True)\n",
    "cf.go_offline()\n",
    "%matplotlib inline"
   ]
  },
  {
   "cell_type": "code",
   "execution_count": null,
   "metadata": {
    "collapsed": true
   },
   "outputs": [],
   "source": [
    "#install cufflinks in collab\n",
    "!pip install cufflinks"
   ]
  },
  {
   "cell_type": "markdown",
   "metadata": {},
   "source": [
    "**Importing the data from the CSV File**"
   ]
  },
  {
   "cell_type": "code",
   "execution_count": 49,
   "metadata": {
    "collapsed": true
   },
   "outputs": [],
   "source": [
    "gun = pd.read_csv('https://s3.us-east-2.amazonaws.com/ads-demo1/gun-violence-data_01-2013_03-2018.csv')"
   ]
  },
  {
   "cell_type": "markdown",
   "metadata": {},
   "source": [
    "**Describing the columns from the dataframe**"
   ]
  },
  {
   "cell_type": "code",
   "execution_count": 50,
   "metadata": {},
   "outputs": [
    {
     "name": "stdout",
     "output_type": "stream",
     "text": [
      "<class 'pandas.core.frame.DataFrame'>\n",
      "RangeIndex: 239677 entries, 0 to 239676\n",
      "Data columns (total 29 columns):\n",
      "incident_id                    239677 non-null int64\n",
      "date                           239677 non-null object\n",
      "state                          239677 non-null object\n",
      "city_or_county                 239677 non-null object\n",
      "address                        223180 non-null object\n",
      "n_killed                       239677 non-null int64\n",
      "n_injured                      239677 non-null int64\n",
      "incident_url                   239677 non-null object\n",
      "source_url                     239209 non-null object\n",
      "incident_url_fields_missing    239677 non-null bool\n",
      "congressional_district         227733 non-null float64\n",
      "gun_stolen                     140179 non-null object\n",
      "gun_type                       140226 non-null object\n",
      "incident_characteristics       239351 non-null object\n",
      "latitude                       231754 non-null float64\n",
      "location_description           42089 non-null object\n",
      "longitude                      231754 non-null float64\n",
      "n_guns_involved                140226 non-null float64\n",
      "notes                          158660 non-null object\n",
      "participant_age                147379 non-null object\n",
      "participant_age_group          197558 non-null object\n",
      "participant_gender             203315 non-null object\n",
      "participant_name               117424 non-null object\n",
      "participant_relationship       15774 non-null object\n",
      "participant_status             212051 non-null object\n",
      "participant_type               214814 non-null object\n",
      "sources                        239068 non-null object\n",
      "state_house_district           200905 non-null float64\n",
      "state_senate_district          207342 non-null float64\n",
      "dtypes: bool(1), float64(6), int64(3), object(19)\n",
      "memory usage: 51.4+ MB\n"
     ]
    }
   ],
   "source": [
    "gun.info()"
   ]
  },
  {
   "cell_type": "markdown",
   "metadata": {},
   "source": [
    "**Summary Statistics**"
   ]
  },
  {
   "cell_type": "code",
   "execution_count": 51,
   "metadata": {
    "scrolled": true
   },
   "outputs": [
    {
     "data": {
      "text/html": [
       "<div>\n",
       "<style>\n",
       "    .dataframe thead tr:only-child th {\n",
       "        text-align: right;\n",
       "    }\n",
       "\n",
       "    .dataframe thead th {\n",
       "        text-align: left;\n",
       "    }\n",
       "\n",
       "    .dataframe tbody tr th {\n",
       "        vertical-align: top;\n",
       "    }\n",
       "</style>\n",
       "<table border=\"1\" class=\"dataframe\">\n",
       "  <thead>\n",
       "    <tr style=\"text-align: right;\">\n",
       "      <th></th>\n",
       "      <th>incident_id</th>\n",
       "      <th>n_killed</th>\n",
       "      <th>n_injured</th>\n",
       "      <th>congressional_district</th>\n",
       "      <th>latitude</th>\n",
       "      <th>longitude</th>\n",
       "      <th>n_guns_involved</th>\n",
       "      <th>state_house_district</th>\n",
       "      <th>state_senate_district</th>\n",
       "    </tr>\n",
       "  </thead>\n",
       "  <tbody>\n",
       "    <tr>\n",
       "      <th>count</th>\n",
       "      <td>2.396770e+05</td>\n",
       "      <td>239677.000000</td>\n",
       "      <td>239677.000000</td>\n",
       "      <td>227733.000000</td>\n",
       "      <td>231754.000000</td>\n",
       "      <td>231754.000000</td>\n",
       "      <td>140226.000000</td>\n",
       "      <td>200905.000000</td>\n",
       "      <td>207342.00000</td>\n",
       "    </tr>\n",
       "    <tr>\n",
       "      <th>mean</th>\n",
       "      <td>5.593343e+05</td>\n",
       "      <td>0.252290</td>\n",
       "      <td>0.494007</td>\n",
       "      <td>8.001265</td>\n",
       "      <td>37.546598</td>\n",
       "      <td>-89.338348</td>\n",
       "      <td>1.372442</td>\n",
       "      <td>55.447132</td>\n",
       "      <td>20.47711</td>\n",
       "    </tr>\n",
       "    <tr>\n",
       "      <th>std</th>\n",
       "      <td>2.931287e+05</td>\n",
       "      <td>0.521779</td>\n",
       "      <td>0.729952</td>\n",
       "      <td>8.480835</td>\n",
       "      <td>5.130763</td>\n",
       "      <td>14.359546</td>\n",
       "      <td>4.678202</td>\n",
       "      <td>42.048117</td>\n",
       "      <td>14.20456</td>\n",
       "    </tr>\n",
       "    <tr>\n",
       "      <th>min</th>\n",
       "      <td>9.211400e+04</td>\n",
       "      <td>0.000000</td>\n",
       "      <td>0.000000</td>\n",
       "      <td>0.000000</td>\n",
       "      <td>19.111400</td>\n",
       "      <td>-171.429000</td>\n",
       "      <td>1.000000</td>\n",
       "      <td>1.000000</td>\n",
       "      <td>1.00000</td>\n",
       "    </tr>\n",
       "    <tr>\n",
       "      <th>25%</th>\n",
       "      <td>3.085450e+05</td>\n",
       "      <td>0.000000</td>\n",
       "      <td>0.000000</td>\n",
       "      <td>2.000000</td>\n",
       "      <td>33.903400</td>\n",
       "      <td>-94.158725</td>\n",
       "      <td>1.000000</td>\n",
       "      <td>21.000000</td>\n",
       "      <td>9.00000</td>\n",
       "    </tr>\n",
       "    <tr>\n",
       "      <th>50%</th>\n",
       "      <td>5.435870e+05</td>\n",
       "      <td>0.000000</td>\n",
       "      <td>0.000000</td>\n",
       "      <td>5.000000</td>\n",
       "      <td>38.570600</td>\n",
       "      <td>-86.249600</td>\n",
       "      <td>1.000000</td>\n",
       "      <td>47.000000</td>\n",
       "      <td>19.00000</td>\n",
       "    </tr>\n",
       "    <tr>\n",
       "      <th>75%</th>\n",
       "      <td>8.172280e+05</td>\n",
       "      <td>0.000000</td>\n",
       "      <td>1.000000</td>\n",
       "      <td>10.000000</td>\n",
       "      <td>41.437375</td>\n",
       "      <td>-80.048625</td>\n",
       "      <td>1.000000</td>\n",
       "      <td>84.000000</td>\n",
       "      <td>30.00000</td>\n",
       "    </tr>\n",
       "    <tr>\n",
       "      <th>max</th>\n",
       "      <td>1.083472e+06</td>\n",
       "      <td>50.000000</td>\n",
       "      <td>53.000000</td>\n",
       "      <td>53.000000</td>\n",
       "      <td>71.336800</td>\n",
       "      <td>97.433100</td>\n",
       "      <td>400.000000</td>\n",
       "      <td>901.000000</td>\n",
       "      <td>94.00000</td>\n",
       "    </tr>\n",
       "  </tbody>\n",
       "</table>\n",
       "</div>"
      ],
      "text/plain": [
       "        incident_id       n_killed      n_injured  congressional_district  \\\n",
       "count  2.396770e+05  239677.000000  239677.000000           227733.000000   \n",
       "mean   5.593343e+05       0.252290       0.494007                8.001265   \n",
       "std    2.931287e+05       0.521779       0.729952                8.480835   \n",
       "min    9.211400e+04       0.000000       0.000000                0.000000   \n",
       "25%    3.085450e+05       0.000000       0.000000                2.000000   \n",
       "50%    5.435870e+05       0.000000       0.000000                5.000000   \n",
       "75%    8.172280e+05       0.000000       1.000000               10.000000   \n",
       "max    1.083472e+06      50.000000      53.000000               53.000000   \n",
       "\n",
       "            latitude      longitude  n_guns_involved  state_house_district  \\\n",
       "count  231754.000000  231754.000000    140226.000000         200905.000000   \n",
       "mean       37.546598     -89.338348         1.372442             55.447132   \n",
       "std         5.130763      14.359546         4.678202             42.048117   \n",
       "min        19.111400    -171.429000         1.000000              1.000000   \n",
       "25%        33.903400     -94.158725         1.000000             21.000000   \n",
       "50%        38.570600     -86.249600         1.000000             47.000000   \n",
       "75%        41.437375     -80.048625         1.000000             84.000000   \n",
       "max        71.336800      97.433100       400.000000            901.000000   \n",
       "\n",
       "       state_senate_district  \n",
       "count           207342.00000  \n",
       "mean                20.47711  \n",
       "std                 14.20456  \n",
       "min                  1.00000  \n",
       "25%                  9.00000  \n",
       "50%                 19.00000  \n",
       "75%                 30.00000  \n",
       "max                 94.00000  "
      ]
     },
     "execution_count": 51,
     "metadata": {},
     "output_type": "execute_result"
    }
   ],
   "source": [
    "gun.describe()"
   ]
  },
  {
   "cell_type": "markdown",
   "metadata": {},
   "source": [
    "**Top 20 States with most number of incidents**  \n",
    "Here we find out the states that have the most number of incidents by incident id"
   ]
  },
  {
   "cell_type": "code",
   "execution_count": 52,
   "metadata": {
    "scrolled": false
   },
   "outputs": [
    {
     "data": {
      "application/vnd.plotly.v1+json": {
       "data": [
        {
         "marker": {
          "color": "rgba(219, 64, 82, 0.6)",
          "line": {
           "color": "rgba(219, 64, 82, 1.0)",
           "width": 1
          }
         },
         "name": "state",
         "orientation": "v",
         "text": "",
         "type": "bar",
         "uid": "78f9fe12-c913-11e8-9cb5-acb57d762223",
         "x": [
          "Illinois",
          "California",
          "Florida",
          "Texas",
          "Ohio",
          "New York",
          "Pennsylvania",
          "Georgia",
          "North Carolina",
          "Louisiana",
          "Tennessee",
          "South Carolina",
          "Missouri",
          "Michigan",
          "Massachusetts",
          "Virginia",
          "Indiana",
          "Maryland",
          "Alabama",
          "New Jersey"
         ],
         "y": [
          17556,
          16306,
          15029,
          13577,
          10244,
          9712,
          8929,
          8925,
          8739,
          8103,
          7626,
          6939,
          6631,
          6136,
          5981,
          5949,
          5852,
          5798,
          5471,
          5387
         ]
        }
       ],
       "layout": {
        "legend": {
         "bgcolor": "#F5F6F9",
         "font": {
          "color": "#4D5663"
         }
        },
        "paper_bgcolor": "#F5F6F9",
        "plot_bgcolor": "#F5F6F9",
        "title": "Top 20 States by Most Number of Incidents",
        "titlefont": {
         "color": "#4D5663"
        },
        "xaxis": {
         "gridcolor": "#E1E5ED",
         "showgrid": true,
         "tickfont": {
          "color": "#4D5663"
         },
         "title": "States",
         "titlefont": {
          "color": "#4D5663"
         },
         "zerolinecolor": "#E1E5ED"
        },
        "yaxis": {
         "gridcolor": "#E1E5ED",
         "showgrid": true,
         "tickfont": {
          "color": "#4D5663"
         },
         "title": "No of Incidents",
         "titlefont": {
          "color": "#4D5663"
         },
         "zerolinecolor": "#E1E5ED"
        }
       }
      },
      "text/html": [
       "<div id=\"ac589186-9683-46fd-971d-a9b0feb72cbf\" style=\"height: 525px; width: 100%;\" class=\"plotly-graph-div\"></div><script type=\"text/javascript\">require([\"plotly\"], function(Plotly) { window.PLOTLYENV=window.PLOTLYENV || {};window.PLOTLYENV.BASE_URL=\"https://plot.ly\";Plotly.newPlot(\"ac589186-9683-46fd-971d-a9b0feb72cbf\", [{\"marker\": {\"color\": \"rgba(219, 64, 82, 0.6)\", \"line\": {\"color\": \"rgba(219, 64, 82, 1.0)\", \"width\": 1}}, \"name\": \"state\", \"orientation\": \"v\", \"text\": \"\", \"x\": [\"Illinois\", \"California\", \"Florida\", \"Texas\", \"Ohio\", \"New York\", \"Pennsylvania\", \"Georgia\", \"North Carolina\", \"Louisiana\", \"Tennessee\", \"South Carolina\", \"Missouri\", \"Michigan\", \"Massachusetts\", \"Virginia\", \"Indiana\", \"Maryland\", \"Alabama\", \"New Jersey\"], \"y\": [17556, 16306, 15029, 13577, 10244, 9712, 8929, 8925, 8739, 8103, 7626, 6939, 6631, 6136, 5981, 5949, 5852, 5798, 5471, 5387], \"type\": \"bar\", \"uid\": \"79014ad8-c913-11e8-ac91-acb57d762223\"}], {\"legend\": {\"bgcolor\": \"#F5F6F9\", \"font\": {\"color\": \"#4D5663\"}}, \"paper_bgcolor\": \"#F5F6F9\", \"plot_bgcolor\": \"#F5F6F9\", \"title\": \"Top 20 States by Most Number of Incidents\", \"titlefont\": {\"color\": \"#4D5663\"}, \"xaxis\": {\"gridcolor\": \"#E1E5ED\", \"showgrid\": true, \"tickfont\": {\"color\": \"#4D5663\"}, \"title\": \"States\", \"titlefont\": {\"color\": \"#4D5663\"}, \"zerolinecolor\": \"#E1E5ED\"}, \"yaxis\": {\"gridcolor\": \"#E1E5ED\", \"showgrid\": true, \"tickfont\": {\"color\": \"#4D5663\"}, \"title\": \"No of Incidents\", \"titlefont\": {\"color\": \"#4D5663\"}, \"zerolinecolor\": \"#E1E5ED\"}}, {\"showLink\": true, \"linkText\": \"Export to plot.ly\"})});</script>"
      ],
      "text/vnd.plotly.v1+html": [
       "<div id=\"ac589186-9683-46fd-971d-a9b0feb72cbf\" style=\"height: 525px; width: 100%;\" class=\"plotly-graph-div\"></div><script type=\"text/javascript\">require([\"plotly\"], function(Plotly) { window.PLOTLYENV=window.PLOTLYENV || {};window.PLOTLYENV.BASE_URL=\"https://plot.ly\";Plotly.newPlot(\"ac589186-9683-46fd-971d-a9b0feb72cbf\", [{\"marker\": {\"color\": \"rgba(219, 64, 82, 0.6)\", \"line\": {\"color\": \"rgba(219, 64, 82, 1.0)\", \"width\": 1}}, \"name\": \"state\", \"orientation\": \"v\", \"text\": \"\", \"x\": [\"Illinois\", \"California\", \"Florida\", \"Texas\", \"Ohio\", \"New York\", \"Pennsylvania\", \"Georgia\", \"North Carolina\", \"Louisiana\", \"Tennessee\", \"South Carolina\", \"Missouri\", \"Michigan\", \"Massachusetts\", \"Virginia\", \"Indiana\", \"Maryland\", \"Alabama\", \"New Jersey\"], \"y\": [17556, 16306, 15029, 13577, 10244, 9712, 8929, 8925, 8739, 8103, 7626, 6939, 6631, 6136, 5981, 5949, 5852, 5798, 5471, 5387], \"type\": \"bar\", \"uid\": \"79014ad8-c913-11e8-ac91-acb57d762223\"}], {\"legend\": {\"bgcolor\": \"#F5F6F9\", \"font\": {\"color\": \"#4D5663\"}}, \"paper_bgcolor\": \"#F5F6F9\", \"plot_bgcolor\": \"#F5F6F9\", \"title\": \"Top 20 States by Most Number of Incidents\", \"titlefont\": {\"color\": \"#4D5663\"}, \"xaxis\": {\"gridcolor\": \"#E1E5ED\", \"showgrid\": true, \"tickfont\": {\"color\": \"#4D5663\"}, \"title\": \"States\", \"titlefont\": {\"color\": \"#4D5663\"}, \"zerolinecolor\": \"#E1E5ED\"}, \"yaxis\": {\"gridcolor\": \"#E1E5ED\", \"showgrid\": true, \"tickfont\": {\"color\": \"#4D5663\"}, \"title\": \"No of Incidents\", \"titlefont\": {\"color\": \"#4D5663\"}, \"zerolinecolor\": \"#E1E5ED\"}}, {\"showLink\": true, \"linkText\": \"Export to plot.ly\"})});</script>"
      ]
     },
     "metadata": {},
     "output_type": "display_data"
    }
   ],
   "source": [
    "state_bar = gun['state'].value_counts().head(20)\n",
    "state_bar.iplot(kind='bar',colors='red',title='Top 20 States by Most Number of Incidents',xTitle='States',yTitle='No of Incidents')"
   ]
  },
  {
   "cell_type": "markdown",
   "metadata": {},
   "source": [
    "**Top 20 cities with most number of incidents**  \n",
    "We further drill down to find out the top 20 cities by most number of incidents"
   ]
  },
  {
   "cell_type": "code",
   "execution_count": 53,
   "metadata": {},
   "outputs": [
    {
     "data": {
      "application/vnd.plotly.v1+json": {
       "data": [
        {
         "marker": {
          "color": "rgba(55, 128, 191, 0.6)",
          "line": {
           "color": "rgba(55, 128, 191, 1.0)",
           "width": 1
          }
         },
         "name": "city_or_county",
         "orientation": "v",
         "text": "",
         "type": "bar",
         "uid": "7da72b8a-c913-11e8-a0c3-acb57d762223",
         "x": [
          "Chicago",
          "Baltimore",
          "Washington",
          "New Orleans",
          "Philadelphia",
          "Saint Louis",
          "Houston",
          "Milwaukee",
          "Jacksonville",
          "Memphis",
          "Columbus",
          "Indianapolis",
          "Detroit",
          "Cleveland",
          "Springfield",
          "Boston",
          "San Antonio",
          "Oakland",
          "Louisville",
          "Brooklyn"
         ],
         "y": [
          10814,
          3943,
          3279,
          3071,
          2963,
          2501,
          2501,
          2487,
          2448,
          2386,
          2252,
          1920,
          1834,
          1784,
          1755,
          1737,
          1628,
          1501,
          1425,
          1418
         ]
        }
       ],
       "layout": {
        "legend": {
         "bgcolor": "#F5F6F9",
         "font": {
          "color": "#4D5663"
         }
        },
        "paper_bgcolor": "#F5F6F9",
        "plot_bgcolor": "#F5F6F9",
        "title": "Top 20 cities with most number of incidents",
        "titlefont": {
         "color": "#4D5663"
        },
        "xaxis": {
         "gridcolor": "#E1E5ED",
         "showgrid": true,
         "tickfont": {
          "color": "#4D5663"
         },
         "title": "Cities",
         "titlefont": {
          "color": "#4D5663"
         },
         "zerolinecolor": "#E1E5ED"
        },
        "yaxis": {
         "gridcolor": "#E1E5ED",
         "showgrid": true,
         "tickfont": {
          "color": "#4D5663"
         },
         "title": "No of Incidents",
         "titlefont": {
          "color": "#4D5663"
         },
         "zerolinecolor": "#E1E5ED"
        }
       }
      },
      "text/html": [
       "<div id=\"1679cb34-319d-41de-b123-46803d473b10\" style=\"height: 525px; width: 100%;\" class=\"plotly-graph-div\"></div><script type=\"text/javascript\">require([\"plotly\"], function(Plotly) { window.PLOTLYENV=window.PLOTLYENV || {};window.PLOTLYENV.BASE_URL=\"https://plot.ly\";Plotly.newPlot(\"1679cb34-319d-41de-b123-46803d473b10\", [{\"marker\": {\"color\": \"rgba(55, 128, 191, 0.6)\", \"line\": {\"color\": \"rgba(55, 128, 191, 1.0)\", \"width\": 1}}, \"name\": \"city_or_county\", \"orientation\": \"v\", \"text\": \"\", \"x\": [\"Chicago\", \"Baltimore\", \"Washington\", \"New Orleans\", \"Philadelphia\", \"Saint Louis\", \"Houston\", \"Milwaukee\", \"Jacksonville\", \"Memphis\", \"Columbus\", \"Indianapolis\", \"Detroit\", \"Cleveland\", \"Springfield\", \"Boston\", \"San Antonio\", \"Oakland\", \"Louisville\", \"Brooklyn\"], \"y\": [10814, 3943, 3279, 3071, 2963, 2501, 2501, 2487, 2448, 2386, 2252, 1920, 1834, 1784, 1755, 1737, 1628, 1501, 1425, 1418], \"type\": \"bar\", \"uid\": \"7dab0b18-c913-11e8-be66-acb57d762223\"}], {\"legend\": {\"bgcolor\": \"#F5F6F9\", \"font\": {\"color\": \"#4D5663\"}}, \"paper_bgcolor\": \"#F5F6F9\", \"plot_bgcolor\": \"#F5F6F9\", \"title\": \"Top 20 cities with most number of incidents\", \"titlefont\": {\"color\": \"#4D5663\"}, \"xaxis\": {\"gridcolor\": \"#E1E5ED\", \"showgrid\": true, \"tickfont\": {\"color\": \"#4D5663\"}, \"title\": \"Cities\", \"titlefont\": {\"color\": \"#4D5663\"}, \"zerolinecolor\": \"#E1E5ED\"}, \"yaxis\": {\"gridcolor\": \"#E1E5ED\", \"showgrid\": true, \"tickfont\": {\"color\": \"#4D5663\"}, \"title\": \"No of Incidents\", \"titlefont\": {\"color\": \"#4D5663\"}, \"zerolinecolor\": \"#E1E5ED\"}}, {\"showLink\": true, \"linkText\": \"Export to plot.ly\"})});</script>"
      ],
      "text/vnd.plotly.v1+html": [
       "<div id=\"1679cb34-319d-41de-b123-46803d473b10\" style=\"height: 525px; width: 100%;\" class=\"plotly-graph-div\"></div><script type=\"text/javascript\">require([\"plotly\"], function(Plotly) { window.PLOTLYENV=window.PLOTLYENV || {};window.PLOTLYENV.BASE_URL=\"https://plot.ly\";Plotly.newPlot(\"1679cb34-319d-41de-b123-46803d473b10\", [{\"marker\": {\"color\": \"rgba(55, 128, 191, 0.6)\", \"line\": {\"color\": \"rgba(55, 128, 191, 1.0)\", \"width\": 1}}, \"name\": \"city_or_county\", \"orientation\": \"v\", \"text\": \"\", \"x\": [\"Chicago\", \"Baltimore\", \"Washington\", \"New Orleans\", \"Philadelphia\", \"Saint Louis\", \"Houston\", \"Milwaukee\", \"Jacksonville\", \"Memphis\", \"Columbus\", \"Indianapolis\", \"Detroit\", \"Cleveland\", \"Springfield\", \"Boston\", \"San Antonio\", \"Oakland\", \"Louisville\", \"Brooklyn\"], \"y\": [10814, 3943, 3279, 3071, 2963, 2501, 2501, 2487, 2448, 2386, 2252, 1920, 1834, 1784, 1755, 1737, 1628, 1501, 1425, 1418], \"type\": \"bar\", \"uid\": \"7dab0b18-c913-11e8-be66-acb57d762223\"}], {\"legend\": {\"bgcolor\": \"#F5F6F9\", \"font\": {\"color\": \"#4D5663\"}}, \"paper_bgcolor\": \"#F5F6F9\", \"plot_bgcolor\": \"#F5F6F9\", \"title\": \"Top 20 cities with most number of incidents\", \"titlefont\": {\"color\": \"#4D5663\"}, \"xaxis\": {\"gridcolor\": \"#E1E5ED\", \"showgrid\": true, \"tickfont\": {\"color\": \"#4D5663\"}, \"title\": \"Cities\", \"titlefont\": {\"color\": \"#4D5663\"}, \"zerolinecolor\": \"#E1E5ED\"}, \"yaxis\": {\"gridcolor\": \"#E1E5ED\", \"showgrid\": true, \"tickfont\": {\"color\": \"#4D5663\"}, \"title\": \"No of Incidents\", \"titlefont\": {\"color\": \"#4D5663\"}, \"zerolinecolor\": \"#E1E5ED\"}}, {\"showLink\": true, \"linkText\": \"Export to plot.ly\"})});</script>"
      ]
     },
     "metadata": {},
     "output_type": "display_data"
    }
   ],
   "source": [
    "city_bar = gun['city_or_county'].value_counts().head(20)\n",
    "city_bar.iplot(kind='bar',colors='blue',title='Top 20 cities with most number of incidents',xTitle='Cities',yTitle='No of Incidents')"
   ]
  },
  {
   "cell_type": "markdown",
   "metadata": {},
   "source": [
    "**Top States by Number of People Affected**  \n",
    "Here plot the states that have the most number of people that were affected by the sum of all incidents in that states"
   ]
  },
  {
   "cell_type": "code",
   "execution_count": 54,
   "metadata": {
    "collapsed": true
   },
   "outputs": [],
   "source": [
    "gun['Total'] = gun['n_killed'] + gun['n_injured']"
   ]
  },
  {
   "cell_type": "code",
   "execution_count": 55,
   "metadata": {},
   "outputs": [
    {
     "data": {
      "application/vnd.plotly.v1+json": {
       "data": [
        {
         "marker": {
          "color": "rgba(0, 128, 0, 0.6)",
          "line": {
           "color": "rgba(0, 128, 0, 1.0)",
           "width": 1
          }
         },
         "name": "Total",
         "orientation": "v",
         "text": "",
         "type": "bar",
         "uid": "8109522c-c913-11e8-93be-acb57d762223",
         "x": [
          "Illinois",
          "California",
          "Texas",
          "Florida",
          "Ohio",
          "Pennsylvania",
          "North Carolina",
          "New York",
          "Louisiana",
          "Georgia",
          "Tennessee",
          "Missouri",
          "Virginia",
          "Alabama",
          "Maryland",
          "South Carolina",
          "Michigan",
          "Indiana",
          "New Jersey",
          "Mississippi"
         ],
         "y": [
          16923,
          13206,
          11152,
          10981,
          8211,
          7451,
          6854,
          6764,
          6577,
          6512,
          6302,
          5721,
          5025,
          4878,
          4858,
          4694,
          4578,
          4564,
          3708,
          3059
         ]
        }
       ],
       "layout": {
        "legend": {
         "bgcolor": "#F5F6F9",
         "font": {
          "color": "#4D5663"
         }
        },
        "paper_bgcolor": "#F5F6F9",
        "plot_bgcolor": "#F5F6F9",
        "title": "Top 20 States by Number of People Killed & Injured",
        "titlefont": {
         "color": "#4D5663"
        },
        "xaxis": {
         "gridcolor": "#E1E5ED",
         "showgrid": true,
         "tickfont": {
          "color": "#4D5663"
         },
         "title": "States",
         "titlefont": {
          "color": "#4D5663"
         },
         "zerolinecolor": "#E1E5ED"
        },
        "yaxis": {
         "gridcolor": "#E1E5ED",
         "showgrid": true,
         "tickfont": {
          "color": "#4D5663"
         },
         "title": "Killed + Injured",
         "titlefont": {
          "color": "#4D5663"
         },
         "zerolinecolor": "#E1E5ED"
        }
       }
      },
      "text/html": [
       "<div id=\"8457a009-3c39-4a2a-8152-ac82f3f51601\" style=\"height: 525px; width: 100%;\" class=\"plotly-graph-div\"></div><script type=\"text/javascript\">require([\"plotly\"], function(Plotly) { window.PLOTLYENV=window.PLOTLYENV || {};window.PLOTLYENV.BASE_URL=\"https://plot.ly\";Plotly.newPlot(\"8457a009-3c39-4a2a-8152-ac82f3f51601\", [{\"marker\": {\"color\": \"rgba(0, 128, 0, 0.6)\", \"line\": {\"color\": \"rgba(0, 128, 0, 1.0)\", \"width\": 1}}, \"name\": \"Total\", \"orientation\": \"v\", \"text\": \"\", \"x\": [\"Illinois\", \"California\", \"Texas\", \"Florida\", \"Ohio\", \"Pennsylvania\", \"North Carolina\", \"New York\", \"Louisiana\", \"Georgia\", \"Tennessee\", \"Missouri\", \"Virginia\", \"Alabama\", \"Maryland\", \"South Carolina\", \"Michigan\", \"Indiana\", \"New Jersey\", \"Mississippi\"], \"y\": [16923, 13206, 11152, 10981, 8211, 7451, 6854, 6764, 6577, 6512, 6302, 5721, 5025, 4878, 4858, 4694, 4578, 4564, 3708, 3059], \"type\": \"bar\", \"uid\": \"810da436-c913-11e8-8ee0-acb57d762223\"}], {\"legend\": {\"bgcolor\": \"#F5F6F9\", \"font\": {\"color\": \"#4D5663\"}}, \"paper_bgcolor\": \"#F5F6F9\", \"plot_bgcolor\": \"#F5F6F9\", \"title\": \"Top 20 States by Number of People Killed & Injured\", \"titlefont\": {\"color\": \"#4D5663\"}, \"xaxis\": {\"gridcolor\": \"#E1E5ED\", \"showgrid\": true, \"tickfont\": {\"color\": \"#4D5663\"}, \"title\": \"States\", \"titlefont\": {\"color\": \"#4D5663\"}, \"zerolinecolor\": \"#E1E5ED\"}, \"yaxis\": {\"gridcolor\": \"#E1E5ED\", \"showgrid\": true, \"tickfont\": {\"color\": \"#4D5663\"}, \"title\": \"Killed + Injured\", \"titlefont\": {\"color\": \"#4D5663\"}, \"zerolinecolor\": \"#E1E5ED\"}}, {\"showLink\": true, \"linkText\": \"Export to plot.ly\"})});</script>"
      ],
      "text/vnd.plotly.v1+html": [
       "<div id=\"8457a009-3c39-4a2a-8152-ac82f3f51601\" style=\"height: 525px; width: 100%;\" class=\"plotly-graph-div\"></div><script type=\"text/javascript\">require([\"plotly\"], function(Plotly) { window.PLOTLYENV=window.PLOTLYENV || {};window.PLOTLYENV.BASE_URL=\"https://plot.ly\";Plotly.newPlot(\"8457a009-3c39-4a2a-8152-ac82f3f51601\", [{\"marker\": {\"color\": \"rgba(0, 128, 0, 0.6)\", \"line\": {\"color\": \"rgba(0, 128, 0, 1.0)\", \"width\": 1}}, \"name\": \"Total\", \"orientation\": \"v\", \"text\": \"\", \"x\": [\"Illinois\", \"California\", \"Texas\", \"Florida\", \"Ohio\", \"Pennsylvania\", \"North Carolina\", \"New York\", \"Louisiana\", \"Georgia\", \"Tennessee\", \"Missouri\", \"Virginia\", \"Alabama\", \"Maryland\", \"South Carolina\", \"Michigan\", \"Indiana\", \"New Jersey\", \"Mississippi\"], \"y\": [16923, 13206, 11152, 10981, 8211, 7451, 6854, 6764, 6577, 6512, 6302, 5721, 5025, 4878, 4858, 4694, 4578, 4564, 3708, 3059], \"type\": \"bar\", \"uid\": \"810da436-c913-11e8-8ee0-acb57d762223\"}], {\"legend\": {\"bgcolor\": \"#F5F6F9\", \"font\": {\"color\": \"#4D5663\"}}, \"paper_bgcolor\": \"#F5F6F9\", \"plot_bgcolor\": \"#F5F6F9\", \"title\": \"Top 20 States by Number of People Killed & Injured\", \"titlefont\": {\"color\": \"#4D5663\"}, \"xaxis\": {\"gridcolor\": \"#E1E5ED\", \"showgrid\": true, \"tickfont\": {\"color\": \"#4D5663\"}, \"title\": \"States\", \"titlefont\": {\"color\": \"#4D5663\"}, \"zerolinecolor\": \"#E1E5ED\"}, \"yaxis\": {\"gridcolor\": \"#E1E5ED\", \"showgrid\": true, \"tickfont\": {\"color\": \"#4D5663\"}, \"title\": \"Killed + Injured\", \"titlefont\": {\"color\": \"#4D5663\"}, \"zerolinecolor\": \"#E1E5ED\"}}, {\"showLink\": true, \"linkText\": \"Export to plot.ly\"})});</script>"
      ]
     },
     "metadata": {},
     "output_type": "display_data"
    }
   ],
   "source": [
    "#\n",
    "st = gun.groupby('state')['state','Total'].sum().sort_values('Total',ascending=False).head(20)\n",
    "st.iplot(kind='bar',colors='green',title='Top 20 States by Number of People Killed & Injured',xTitle='States',yTitle='Killed + Injured')"
   ]
  },
  {
   "cell_type": "markdown",
   "metadata": {},
   "source": [
    "**Top 20 Cities by Number of People Affected**  \n",
    "Here we plot the cities that have the most number of people that were affected by the sum of all incidents in that city"
   ]
  },
  {
   "cell_type": "code",
   "execution_count": 56,
   "metadata": {
    "scrolled": false
   },
   "outputs": [
    {
     "data": {
      "application/vnd.plotly.v1+json": {
       "data": [
        {
         "marker": {
          "color": "rgba(0, 0, 0, 0.6)",
          "line": {
           "color": "rgba(0, 0, 0, 1.0)",
           "width": 1
          }
         },
         "name": "Total",
         "orientation": "v",
         "text": "",
         "type": "bar",
         "uid": "831355f0-c913-11e8-880b-acb57d762223",
         "x": [
          "Chicago",
          "Baltimore",
          "Philadelphia",
          "Saint Louis",
          "New Orleans",
          "Houston",
          "Memphis",
          "Milwaukee",
          "Washington",
          "Columbus",
          "Indianapolis",
          "Cleveland",
          "Jacksonville",
          "Detroit",
          "San Antonio",
          "Kansas City",
          "Brooklyn",
          "Las Vegas",
          "Louisville",
          "Richmond"
         ],
         "y": [
          12531,
          3482,
          3227,
          2702,
          2595,
          2400,
          2313,
          2056,
          1907,
          1883,
          1747,
          1723,
          1643,
          1629,
          1545,
          1442,
          1368,
          1313,
          1206,
          1206
         ]
        }
       ],
       "layout": {
        "legend": {
         "bgcolor": "#F5F6F9",
         "font": {
          "color": "#4D5663"
         }
        },
        "paper_bgcolor": "#F5F6F9",
        "plot_bgcolor": "#F5F6F9",
        "title": "Top 20 Cities by Number of People Killed + Injured",
        "titlefont": {
         "color": "#4D5663"
        },
        "xaxis": {
         "gridcolor": "#E1E5ED",
         "showgrid": true,
         "tickfont": {
          "color": "#4D5663"
         },
         "title": "Cities",
         "titlefont": {
          "color": "#4D5663"
         },
         "zerolinecolor": "#E1E5ED"
        },
        "yaxis": {
         "gridcolor": "#E1E5ED",
         "showgrid": true,
         "tickfont": {
          "color": "#4D5663"
         },
         "title": "Killed + Injured",
         "titlefont": {
          "color": "#4D5663"
         },
         "zerolinecolor": "#E1E5ED"
        }
       }
      },
      "text/html": [
       "<div id=\"814c69c2-999a-4992-809a-7670bfd2da96\" style=\"height: 525px; width: 100%;\" class=\"plotly-graph-div\"></div><script type=\"text/javascript\">require([\"plotly\"], function(Plotly) { window.PLOTLYENV=window.PLOTLYENV || {};window.PLOTLYENV.BASE_URL=\"https://plot.ly\";Plotly.newPlot(\"814c69c2-999a-4992-809a-7670bfd2da96\", [{\"marker\": {\"color\": \"rgba(0, 0, 0, 0.6)\", \"line\": {\"color\": \"rgba(0, 0, 0, 1.0)\", \"width\": 1}}, \"name\": \"Total\", \"orientation\": \"v\", \"text\": \"\", \"x\": [\"Chicago\", \"Baltimore\", \"Philadelphia\", \"Saint Louis\", \"New Orleans\", \"Houston\", \"Memphis\", \"Milwaukee\", \"Washington\", \"Columbus\", \"Indianapolis\", \"Cleveland\", \"Jacksonville\", \"Detroit\", \"San Antonio\", \"Kansas City\", \"Brooklyn\", \"Las Vegas\", \"Louisville\", \"Richmond\"], \"y\": [12531, 3482, 3227, 2702, 2595, 2400, 2313, 2056, 1907, 1883, 1747, 1723, 1643, 1629, 1545, 1442, 1368, 1313, 1206, 1206], \"type\": \"bar\", \"uid\": \"83192558-c913-11e8-9b08-acb57d762223\"}], {\"legend\": {\"bgcolor\": \"#F5F6F9\", \"font\": {\"color\": \"#4D5663\"}}, \"paper_bgcolor\": \"#F5F6F9\", \"plot_bgcolor\": \"#F5F6F9\", \"title\": \"Top 20 Cities by Number of People Killed + Injured\", \"titlefont\": {\"color\": \"#4D5663\"}, \"xaxis\": {\"gridcolor\": \"#E1E5ED\", \"showgrid\": true, \"tickfont\": {\"color\": \"#4D5663\"}, \"title\": \"Cities\", \"titlefont\": {\"color\": \"#4D5663\"}, \"zerolinecolor\": \"#E1E5ED\"}, \"yaxis\": {\"gridcolor\": \"#E1E5ED\", \"showgrid\": true, \"tickfont\": {\"color\": \"#4D5663\"}, \"title\": \"Killed + Injured\", \"titlefont\": {\"color\": \"#4D5663\"}, \"zerolinecolor\": \"#E1E5ED\"}}, {\"showLink\": true, \"linkText\": \"Export to plot.ly\"})});</script>"
      ],
      "text/vnd.plotly.v1+html": [
       "<div id=\"814c69c2-999a-4992-809a-7670bfd2da96\" style=\"height: 525px; width: 100%;\" class=\"plotly-graph-div\"></div><script type=\"text/javascript\">require([\"plotly\"], function(Plotly) { window.PLOTLYENV=window.PLOTLYENV || {};window.PLOTLYENV.BASE_URL=\"https://plot.ly\";Plotly.newPlot(\"814c69c2-999a-4992-809a-7670bfd2da96\", [{\"marker\": {\"color\": \"rgba(0, 0, 0, 0.6)\", \"line\": {\"color\": \"rgba(0, 0, 0, 1.0)\", \"width\": 1}}, \"name\": \"Total\", \"orientation\": \"v\", \"text\": \"\", \"x\": [\"Chicago\", \"Baltimore\", \"Philadelphia\", \"Saint Louis\", \"New Orleans\", \"Houston\", \"Memphis\", \"Milwaukee\", \"Washington\", \"Columbus\", \"Indianapolis\", \"Cleveland\", \"Jacksonville\", \"Detroit\", \"San Antonio\", \"Kansas City\", \"Brooklyn\", \"Las Vegas\", \"Louisville\", \"Richmond\"], \"y\": [12531, 3482, 3227, 2702, 2595, 2400, 2313, 2056, 1907, 1883, 1747, 1723, 1643, 1629, 1545, 1442, 1368, 1313, 1206, 1206], \"type\": \"bar\", \"uid\": \"83192558-c913-11e8-9b08-acb57d762223\"}], {\"legend\": {\"bgcolor\": \"#F5F6F9\", \"font\": {\"color\": \"#4D5663\"}}, \"paper_bgcolor\": \"#F5F6F9\", \"plot_bgcolor\": \"#F5F6F9\", \"title\": \"Top 20 Cities by Number of People Killed + Injured\", \"titlefont\": {\"color\": \"#4D5663\"}, \"xaxis\": {\"gridcolor\": \"#E1E5ED\", \"showgrid\": true, \"tickfont\": {\"color\": \"#4D5663\"}, \"title\": \"Cities\", \"titlefont\": {\"color\": \"#4D5663\"}, \"zerolinecolor\": \"#E1E5ED\"}, \"yaxis\": {\"gridcolor\": \"#E1E5ED\", \"showgrid\": true, \"tickfont\": {\"color\": \"#4D5663\"}, \"title\": \"Killed + Injured\", \"titlefont\": {\"color\": \"#4D5663\"}, \"zerolinecolor\": \"#E1E5ED\"}}, {\"showLink\": true, \"linkText\": \"Export to plot.ly\"})});</script>"
      ]
     },
     "metadata": {},
     "output_type": "display_data"
    }
   ],
   "source": [
    "ki = gun.groupby('city_or_county')['city_or_county','Total'].sum().sort_values('Total',ascending=False).head(20)\n",
    "ki.iplot(kind='bar',colors='Black',title='Top 20 Cities by Number of People Killed + Injured',xTitle='Cities',yTitle='Killed + Injured')"
   ]
  },
  {
   "cell_type": "markdown",
   "metadata": {},
   "source": [
    "**Total Number of Incidents categorized by number of guns involved**  \n",
    "Here we have segregated the the total number of incidents based on the number of guns that were involved in the incident"
   ]
  },
  {
   "cell_type": "code",
   "execution_count": 57,
   "metadata": {},
   "outputs": [
    {
     "data": {
      "application/vnd.plotly.v1+json": {
       "data": [
        {
         "labels": [
          "1.0",
          "2.0",
          "4 >",
          "3.0",
          "4.0"
         ],
         "marker": {
          "colors": [
           "Grey",
           "Yellow",
           "Purple",
           "Green",
           "Orange"
          ]
         },
         "type": "pie",
         "uid": "87c4d55c-c913-11e8-81f1-acb57d762223",
         "values": [
          127548,
          7477,
          2309,
          2021,
          871
         ]
        }
       ],
       "layout": {
        "height": 500,
        "legend": {
         "orientation": "v"
        },
        "title": "Number of Guns Utilized"
       }
      },
      "text/html": [
       "<div id=\"09fa72b8-7ad0-4714-8018-14ed64810e6b\" style=\"height: 500px; width: 100%;\" class=\"plotly-graph-div\"></div><script type=\"text/javascript\">require([\"plotly\"], function(Plotly) { window.PLOTLYENV=window.PLOTLYENV || {};window.PLOTLYENV.BASE_URL=\"https://plot.ly\";Plotly.newPlot(\"09fa72b8-7ad0-4714-8018-14ed64810e6b\", [{\"labels\": [\"1.0\", \"2.0\", \"4 >\", \"3.0\", \"4.0\"], \"marker\": {\"colors\": [\"Grey\", \"Yellow\", \"Purple\", \"Green\", \"Orange\"]}, \"values\": [127548, 7477, 2309, 2021, 871], \"type\": \"pie\", \"uid\": \"87c4d55c-c913-11e8-81f1-acb57d762223\"}], {\"height\": 500, \"legend\": {\"orientation\": \"v\"}, \"title\": \"Number of Guns Utilized\"}, {\"showLink\": true, \"linkText\": \"Export to plot.ly\"})});</script>"
      ],
      "text/vnd.plotly.v1+html": [
       "<div id=\"09fa72b8-7ad0-4714-8018-14ed64810e6b\" style=\"height: 500px; width: 100%;\" class=\"plotly-graph-div\"></div><script type=\"text/javascript\">require([\"plotly\"], function(Plotly) { window.PLOTLYENV=window.PLOTLYENV || {};window.PLOTLYENV.BASE_URL=\"https://plot.ly\";Plotly.newPlot(\"09fa72b8-7ad0-4714-8018-14ed64810e6b\", [{\"labels\": [\"1.0\", \"2.0\", \"4 >\", \"3.0\", \"4.0\"], \"marker\": {\"colors\": [\"Grey\", \"Yellow\", \"Purple\", \"Green\", \"Orange\"]}, \"values\": [127548, 7477, 2309, 2021, 871], \"type\": \"pie\", \"uid\": \"87c4d55c-c913-11e8-81f1-acb57d762223\"}], {\"height\": 500, \"legend\": {\"orientation\": \"v\"}, \"title\": \"Number of Guns Utilized\"}, {\"showLink\": true, \"linkText\": \"Export to plot.ly\"})});</script>"
      ]
     },
     "metadata": {},
     "output_type": "display_data"
    }
   ],
   "source": [
    "gun['n_guns'] = gun['n_guns_involved'].apply(lambda x : '4 >' if x > 4 else str(x))\n",
    "g = gun['n_guns'].value_counts().reset_index()\n",
    "g = g[g['index'] != 'nan']\n",
    "\n",
    "labels = list(g['index'])\n",
    "values = list(g['n_guns'])\n",
    "\n",
    "tr1 = go.Pie(labels=labels,values=values,marker=dict(colors = ['Grey','Yellow','Purple','Green','Orange']))\n",
    "layout = dict(height=500, title='Number of Guns Utilized', legend=dict(orientation=\"v\"))\n",
    "f = go.Figure(data=[tr1], layout=layout)\n",
    "iplot(f)"
   ]
  },
  {
   "cell_type": "code",
   "execution_count": 58,
   "metadata": {
    "collapsed": true
   },
   "outputs": [],
   "source": [
    "#Code to fetch number of males and females along with totals\n",
    "def extract(a):\n",
    "    a = a.split('||')\n",
    "    a  = [x.replace('::','-') for x in a]\n",
    "    a =  [(x.split('-')) for x in a]\n",
    "    y = []\n",
    "    for  i in range (0, len(a)):\n",
    "        y.append(a[i][-1])\n",
    "    return(y)  \n",
    "gun['participant_gender'] = gun['participant_gender'].fillna(\"0::Zero\")\n",
    "gun['gender'] = gun['participant_gender'].apply(lambda x: extract(x))\n",
    "gun['Males'] = gun['gender'].apply(lambda x: x.count('Male'))\n",
    "gun['Females'] = gun['gender'].apply(lambda x: x.count('Female'))\n",
    "gun['Total Participants'] = gun['Males'] + gun['Females']"
   ]
  },
  {
   "cell_type": "code",
   "execution_count": 59,
   "metadata": {},
   "outputs": [
    {
     "data": {
      "application/vnd.plotly.v1+json": {
       "data": [
        {
         "marker": {
          "color": "rgba(0, 0, 0, 0.6)",
          "line": {
           "color": "rgba(0, 0, 0, 1.0)",
           "width": 1
          }
         },
         "name": "Males",
         "orientation": "v",
         "text": "",
         "type": "bar",
         "uid": "8d9ffca6-c913-11e8-99d7-acb57d762223",
         "x": [
          "Illinois",
          "California",
          "Texas",
          "Florida",
          "New York",
          "Ohio",
          "Georgia",
          "Pennsylvania",
          "North Carolina",
          "Louisiana",
          "Tennessee",
          "South Carolina",
          "Missouri",
          "Virginia",
          "Michigan",
          "Indiana",
          "New Jersey",
          "Alabama",
          "Massachusetts",
          "Maryland",
          "Kentucky",
          "Wisconsin",
          "Washington",
          "Oklahoma",
          "Mississippi",
          "Connecticut",
          "Arkansas",
          "Colorado",
          "Arizona",
          "Oregon",
          "District of Columbia",
          "Iowa",
          "Minnesota",
          "Kansas",
          "Nevada",
          "Delaware",
          "Nebraska",
          "West Virginia",
          "New Mexico",
          "Alaska",
          "Utah",
          "Rhode Island",
          "New Hampshire",
          "Maine",
          "Idaho",
          "Montana",
          "North Dakota",
          "South Dakota",
          "Vermont",
          "Hawaii",
          "Wyoming"
         ],
         "y": [
          23473,
          20935,
          18797,
          17964,
          13663,
          13145,
          12187,
          11744,
          11492,
          11465,
          9907,
          9129,
          8413,
          7603,
          7515,
          7287,
          7005,
          6990,
          6954,
          6920,
          5310,
          5098,
          4727,
          4668,
          4601,
          3819,
          3630,
          3448,
          2818,
          2699,
          2644,
          2622,
          2617,
          2610,
          2538,
          2081,
          2009,
          1979,
          1971,
          1428,
          1405,
          1177,
          1016,
          893,
          760,
          657,
          605,
          565,
          500,
          364,
          255
         ]
        },
        {
         "marker": {
          "color": "rgba(0, 128, 0, 0.6)",
          "line": {
           "color": "rgba(0, 128, 0, 1.0)",
           "width": 1
          }
         },
         "name": "Females",
         "orientation": "v",
         "text": "",
         "type": "bar",
         "uid": "8d9ffca7-c913-11e8-9de1-acb57d762223",
         "x": [
          "Illinois",
          "California",
          "Texas",
          "Florida",
          "New York",
          "Ohio",
          "Georgia",
          "Pennsylvania",
          "North Carolina",
          "Louisiana",
          "Tennessee",
          "South Carolina",
          "Missouri",
          "Virginia",
          "Michigan",
          "Indiana",
          "New Jersey",
          "Alabama",
          "Massachusetts",
          "Maryland",
          "Kentucky",
          "Wisconsin",
          "Washington",
          "Oklahoma",
          "Mississippi",
          "Connecticut",
          "Arkansas",
          "Colorado",
          "Arizona",
          "Oregon",
          "District of Columbia",
          "Iowa",
          "Minnesota",
          "Kansas",
          "Nevada",
          "Delaware",
          "Nebraska",
          "West Virginia",
          "New Mexico",
          "Alaska",
          "Utah",
          "Rhode Island",
          "New Hampshire",
          "Maine",
          "Idaho",
          "Montana",
          "North Dakota",
          "South Dakota",
          "Vermont",
          "Hawaii",
          "Wyoming"
         ],
         "y": [
          2255,
          2366,
          3070,
          2761,
          1593,
          1786,
          2039,
          1478,
          1531,
          1670,
          1480,
          1381,
          1400,
          997,
          1281,
          1095,
          703,
          1178,
          695,
          677,
          903,
          801,
          780,
          827,
          726,
          351,
          603,
          539,
          480,
          434,
          205,
          357,
          406,
          362,
          377,
          212,
          287,
          326,
          335,
          238,
          254,
          122,
          163,
          177,
          141,
          124,
          107,
          95,
          91,
          63,
          54
         ]
        }
       ],
       "layout": {
        "legend": {
         "bgcolor": "#F5F6F9",
         "font": {
          "color": "#4D5663"
         }
        },
        "paper_bgcolor": "#F5F6F9",
        "plot_bgcolor": "#F5F6F9",
        "title": "Female and Males Killers by State",
        "titlefont": {
         "color": "#4D5663"
        },
        "xaxis": {
         "gridcolor": "#E1E5ED",
         "showgrid": true,
         "tickfont": {
          "color": "#4D5663"
         },
         "title": "State",
         "titlefont": {
          "color": "#4D5663"
         },
         "zerolinecolor": "#E1E5ED"
        },
        "yaxis": {
         "gridcolor": "#E1E5ED",
         "showgrid": true,
         "tickfont": {
          "color": "#4D5663"
         },
         "title": "No of Killers",
         "titlefont": {
          "color": "#4D5663"
         },
         "zerolinecolor": "#E1E5ED"
        }
       }
      },
      "text/html": [
       "<div id=\"773878bb-f9a6-4912-b132-21f31a798cde\" style=\"height: 525px; width: 100%;\" class=\"plotly-graph-div\"></div><script type=\"text/javascript\">require([\"plotly\"], function(Plotly) { window.PLOTLYENV=window.PLOTLYENV || {};window.PLOTLYENV.BASE_URL=\"https://plot.ly\";Plotly.newPlot(\"773878bb-f9a6-4912-b132-21f31a798cde\", [{\"marker\": {\"color\": \"rgba(0, 0, 0, 0.6)\", \"line\": {\"color\": \"rgba(0, 0, 0, 1.0)\", \"width\": 1}}, \"name\": \"Males\", \"orientation\": \"v\", \"text\": \"\", \"x\": [\"Illinois\", \"California\", \"Texas\", \"Florida\", \"New York\", \"Ohio\", \"Georgia\", \"Pennsylvania\", \"North Carolina\", \"Louisiana\", \"Tennessee\", \"South Carolina\", \"Missouri\", \"Virginia\", \"Michigan\", \"Indiana\", \"New Jersey\", \"Alabama\", \"Massachusetts\", \"Maryland\", \"Kentucky\", \"Wisconsin\", \"Washington\", \"Oklahoma\", \"Mississippi\", \"Connecticut\", \"Arkansas\", \"Colorado\", \"Arizona\", \"Oregon\", \"District of Columbia\", \"Iowa\", \"Minnesota\", \"Kansas\", \"Nevada\", \"Delaware\", \"Nebraska\", \"West Virginia\", \"New Mexico\", \"Alaska\", \"Utah\", \"Rhode Island\", \"New Hampshire\", \"Maine\", \"Idaho\", \"Montana\", \"North Dakota\", \"South Dakota\", \"Vermont\", \"Hawaii\", \"Wyoming\"], \"y\": [23473, 20935, 18797, 17964, 13663, 13145, 12187, 11744, 11492, 11465, 9907, 9129, 8413, 7603, 7515, 7287, 7005, 6990, 6954, 6920, 5310, 5098, 4727, 4668, 4601, 3819, 3630, 3448, 2818, 2699, 2644, 2622, 2617, 2610, 2538, 2081, 2009, 1979, 1971, 1428, 1405, 1177, 1016, 893, 760, 657, 605, 565, 500, 364, 255], \"type\": \"bar\", \"uid\": \"8da40266-c913-11e8-8b38-acb57d762223\"}, {\"marker\": {\"color\": \"rgba(0, 128, 0, 0.6)\", \"line\": {\"color\": \"rgba(0, 128, 0, 1.0)\", \"width\": 1}}, \"name\": \"Females\", \"orientation\": \"v\", \"text\": \"\", \"x\": [\"Illinois\", \"California\", \"Texas\", \"Florida\", \"New York\", \"Ohio\", \"Georgia\", \"Pennsylvania\", \"North Carolina\", \"Louisiana\", \"Tennessee\", \"South Carolina\", \"Missouri\", \"Virginia\", \"Michigan\", \"Indiana\", \"New Jersey\", \"Alabama\", \"Massachusetts\", \"Maryland\", \"Kentucky\", \"Wisconsin\", \"Washington\", \"Oklahoma\", \"Mississippi\", \"Connecticut\", \"Arkansas\", \"Colorado\", \"Arizona\", \"Oregon\", \"District of Columbia\", \"Iowa\", \"Minnesota\", \"Kansas\", \"Nevada\", \"Delaware\", \"Nebraska\", \"West Virginia\", \"New Mexico\", \"Alaska\", \"Utah\", \"Rhode Island\", \"New Hampshire\", \"Maine\", \"Idaho\", \"Montana\", \"North Dakota\", \"South Dakota\", \"Vermont\", \"Hawaii\", \"Wyoming\"], \"y\": [2255, 2366, 3070, 2761, 1593, 1786, 2039, 1478, 1531, 1670, 1480, 1381, 1400, 997, 1281, 1095, 703, 1178, 695, 677, 903, 801, 780, 827, 726, 351, 603, 539, 480, 434, 205, 357, 406, 362, 377, 212, 287, 326, 335, 238, 254, 122, 163, 177, 141, 124, 107, 95, 91, 63, 54], \"type\": \"bar\", \"uid\": \"8da40267-c913-11e8-a3bf-acb57d762223\"}], {\"legend\": {\"bgcolor\": \"#F5F6F9\", \"font\": {\"color\": \"#4D5663\"}}, \"paper_bgcolor\": \"#F5F6F9\", \"plot_bgcolor\": \"#F5F6F9\", \"title\": \"Female and Males Killers by State\", \"titlefont\": {\"color\": \"#4D5663\"}, \"xaxis\": {\"gridcolor\": \"#E1E5ED\", \"showgrid\": true, \"tickfont\": {\"color\": \"#4D5663\"}, \"title\": \"State\", \"titlefont\": {\"color\": \"#4D5663\"}, \"zerolinecolor\": \"#E1E5ED\"}, \"yaxis\": {\"gridcolor\": \"#E1E5ED\", \"showgrid\": true, \"tickfont\": {\"color\": \"#4D5663\"}, \"title\": \"No of Killers\", \"titlefont\": {\"color\": \"#4D5663\"}, \"zerolinecolor\": \"#E1E5ED\"}}, {\"showLink\": true, \"linkText\": \"Export to plot.ly\"})});</script>"
      ],
      "text/vnd.plotly.v1+html": [
       "<div id=\"773878bb-f9a6-4912-b132-21f31a798cde\" style=\"height: 525px; width: 100%;\" class=\"plotly-graph-div\"></div><script type=\"text/javascript\">require([\"plotly\"], function(Plotly) { window.PLOTLYENV=window.PLOTLYENV || {};window.PLOTLYENV.BASE_URL=\"https://plot.ly\";Plotly.newPlot(\"773878bb-f9a6-4912-b132-21f31a798cde\", [{\"marker\": {\"color\": \"rgba(0, 0, 0, 0.6)\", \"line\": {\"color\": \"rgba(0, 0, 0, 1.0)\", \"width\": 1}}, \"name\": \"Males\", \"orientation\": \"v\", \"text\": \"\", \"x\": [\"Illinois\", \"California\", \"Texas\", \"Florida\", \"New York\", \"Ohio\", \"Georgia\", \"Pennsylvania\", \"North Carolina\", \"Louisiana\", \"Tennessee\", \"South Carolina\", \"Missouri\", \"Virginia\", \"Michigan\", \"Indiana\", \"New Jersey\", \"Alabama\", \"Massachusetts\", \"Maryland\", \"Kentucky\", \"Wisconsin\", \"Washington\", \"Oklahoma\", \"Mississippi\", \"Connecticut\", \"Arkansas\", \"Colorado\", \"Arizona\", \"Oregon\", \"District of Columbia\", \"Iowa\", \"Minnesota\", \"Kansas\", \"Nevada\", \"Delaware\", \"Nebraska\", \"West Virginia\", \"New Mexico\", \"Alaska\", \"Utah\", \"Rhode Island\", \"New Hampshire\", \"Maine\", \"Idaho\", \"Montana\", \"North Dakota\", \"South Dakota\", \"Vermont\", \"Hawaii\", \"Wyoming\"], \"y\": [23473, 20935, 18797, 17964, 13663, 13145, 12187, 11744, 11492, 11465, 9907, 9129, 8413, 7603, 7515, 7287, 7005, 6990, 6954, 6920, 5310, 5098, 4727, 4668, 4601, 3819, 3630, 3448, 2818, 2699, 2644, 2622, 2617, 2610, 2538, 2081, 2009, 1979, 1971, 1428, 1405, 1177, 1016, 893, 760, 657, 605, 565, 500, 364, 255], \"type\": \"bar\", \"uid\": \"8da40266-c913-11e8-8b38-acb57d762223\"}, {\"marker\": {\"color\": \"rgba(0, 128, 0, 0.6)\", \"line\": {\"color\": \"rgba(0, 128, 0, 1.0)\", \"width\": 1}}, \"name\": \"Females\", \"orientation\": \"v\", \"text\": \"\", \"x\": [\"Illinois\", \"California\", \"Texas\", \"Florida\", \"New York\", \"Ohio\", \"Georgia\", \"Pennsylvania\", \"North Carolina\", \"Louisiana\", \"Tennessee\", \"South Carolina\", \"Missouri\", \"Virginia\", \"Michigan\", \"Indiana\", \"New Jersey\", \"Alabama\", \"Massachusetts\", \"Maryland\", \"Kentucky\", \"Wisconsin\", \"Washington\", \"Oklahoma\", \"Mississippi\", \"Connecticut\", \"Arkansas\", \"Colorado\", \"Arizona\", \"Oregon\", \"District of Columbia\", \"Iowa\", \"Minnesota\", \"Kansas\", \"Nevada\", \"Delaware\", \"Nebraska\", \"West Virginia\", \"New Mexico\", \"Alaska\", \"Utah\", \"Rhode Island\", \"New Hampshire\", \"Maine\", \"Idaho\", \"Montana\", \"North Dakota\", \"South Dakota\", \"Vermont\", \"Hawaii\", \"Wyoming\"], \"y\": [2255, 2366, 3070, 2761, 1593, 1786, 2039, 1478, 1531, 1670, 1480, 1381, 1400, 997, 1281, 1095, 703, 1178, 695, 677, 903, 801, 780, 827, 726, 351, 603, 539, 480, 434, 205, 357, 406, 362, 377, 212, 287, 326, 335, 238, 254, 122, 163, 177, 141, 124, 107, 95, 91, 63, 54], \"type\": \"bar\", \"uid\": \"8da40267-c913-11e8-a3bf-acb57d762223\"}], {\"legend\": {\"bgcolor\": \"#F5F6F9\", \"font\": {\"color\": \"#4D5663\"}}, \"paper_bgcolor\": \"#F5F6F9\", \"plot_bgcolor\": \"#F5F6F9\", \"title\": \"Female and Males Killers by State\", \"titlefont\": {\"color\": \"#4D5663\"}, \"xaxis\": {\"gridcolor\": \"#E1E5ED\", \"showgrid\": true, \"tickfont\": {\"color\": \"#4D5663\"}, \"title\": \"State\", \"titlefont\": {\"color\": \"#4D5663\"}, \"zerolinecolor\": \"#E1E5ED\"}, \"yaxis\": {\"gridcolor\": \"#E1E5ED\", \"showgrid\": true, \"tickfont\": {\"color\": \"#4D5663\"}, \"title\": \"No of Killers\", \"titlefont\": {\"color\": \"#4D5663\"}, \"zerolinecolor\": \"#E1E5ED\"}}, {\"showLink\": true, \"linkText\": \"Export to plot.ly\"})});</script>"
      ]
     },
     "metadata": {},
     "output_type": "display_data"
    }
   ],
   "source": [
    "#Female and Male Killers by State\n",
    "gender = gun[['state','Males','Females']].groupby('state').sum().sort_values(by='Males',ascending=False)\n",
    "gender = gender.reset_index().set_index(keys='state')\n",
    "gender.iplot(kind='bar',colors=['Black','Green'],title='Female and Males Killers by State',xTitle='State',yTitle='No of Killers')"
   ]
  },
  {
   "cell_type": "markdown",
   "metadata": {},
   "source": [
    "**Time Based Analysis**  \n",
    "In this section we find out the Day, Month and Year which had the most number of incidents"
   ]
  },
  {
   "cell_type": "code",
   "execution_count": 60,
   "metadata": {
    "collapsed": true
   },
   "outputs": [],
   "source": [
    "gun['datetime'] = gun['date'].apply(pd.to_datetime)"
   ]
  },
  {
   "cell_type": "code",
   "execution_count": 61,
   "metadata": {
    "collapsed": true
   },
   "outputs": [],
   "source": [
    "t = gun[['n_killed','n_injured','datetime']]"
   ]
  },
  {
   "cell_type": "code",
   "execution_count": 62,
   "metadata": {
    "collapsed": true
   },
   "outputs": [],
   "source": [
    "day = {0:'Monday',1:'Tueday',2:'Wednesday',3:'Thursday',4:'Friday',5:'Saturday',6:'Sunday'}\n",
    "month = {1 :\"Jan\",2 :\"Feb\",3 :\"Mar\",4 :\"Apr\",5 : \"May\",6 : \"Jun\",7 : \"Jul\",8 :\"Aug\",9 :\"Sep\",10 :\"Oct\",11 :\"Nov\",12 :\"Dec\"}\n",
    "\n",
    "t['year'] = t['datetime'].dt.year\n",
    "t['month'] = t['datetime'].dt.month.map(month)\n",
    "t['day'] = t['datetime'].dt.dayofweek.map(day)"
   ]
  },
  {
   "cell_type": "code",
   "execution_count": 63,
   "metadata": {},
   "outputs": [
    {
     "data": {
      "application/vnd.plotly.v1+json": {
       "data": [
        {
         "line": {
          "color": "rgba(0, 0, 0, 1.0)",
          "dash": "solid",
          "shape": "linear",
          "width": 1.3
         },
         "marker": {
          "size": 12,
          "symbol": "circle"
         },
         "mode": "markers+lines",
         "name": "n_killed",
         "text": "",
         "type": "scatter",
         "uid": "ca521df6-c913-11e8-8283-acb57d762223",
         "x": [
          2013,
          2014,
          2015,
          2016,
          2017,
          2018
         ],
         "y": [
          317,
          12557,
          13484,
          15066,
          15511,
          3533
         ]
        },
        {
         "line": {
          "color": "rgba(55, 128, 191, 1.0)",
          "dash": "solid",
          "shape": "linear",
          "width": 1.3
         },
         "marker": {
          "size": 12,
          "symbol": "circle"
         },
         "mode": "markers+lines",
         "name": "n_injured",
         "text": "",
         "type": "scatter",
         "uid": "ca521df7-c913-11e8-a17b-acb57d762223",
         "x": [
          2013,
          2014,
          2015,
          2016,
          2017,
          2018
         ],
         "y": [
          979,
          23002,
          26967,
          30580,
          30703,
          6171
         ]
        }
       ],
       "layout": {
        "legend": {
         "bgcolor": "#F5F6F9",
         "font": {
          "color": "#4D5663"
         }
        },
        "paper_bgcolor": "#F5F6F9",
        "plot_bgcolor": "#F5F6F9",
        "titlefont": {
         "color": "#4D5663"
        },
        "xaxis": {
         "gridcolor": "#E1E5ED",
         "showgrid": true,
         "tickfont": {
          "color": "#4D5663"
         },
         "title": "Year",
         "titlefont": {
          "color": "#4D5663"
         },
         "zerolinecolor": "#E1E5ED"
        },
        "yaxis": {
         "gridcolor": "#E1E5ED",
         "showgrid": true,
         "tickfont": {
          "color": "#4D5663"
         },
         "title": "Num of People Affected",
         "titlefont": {
          "color": "#4D5663"
         },
         "zerolinecolor": "#E1E5ED"
        }
       }
      },
      "text/html": [
       "<div id=\"aacf4e7a-9189-482c-8c7b-cd38575b9273\" style=\"height: 525px; width: 100%;\" class=\"plotly-graph-div\"></div><script type=\"text/javascript\">require([\"plotly\"], function(Plotly) { window.PLOTLYENV=window.PLOTLYENV || {};window.PLOTLYENV.BASE_URL=\"https://plot.ly\";Plotly.newPlot(\"aacf4e7a-9189-482c-8c7b-cd38575b9273\", [{\"line\": {\"color\": \"rgba(0, 0, 0, 1.0)\", \"dash\": \"solid\", \"shape\": \"linear\", \"width\": 1.3}, \"marker\": {\"size\": 12, \"symbol\": \"circle\"}, \"mode\": \"markers+lines\", \"name\": \"n_killed\", \"text\": \"\", \"x\": [2013, 2014, 2015, 2016, 2017, 2018], \"y\": [317, 12557, 13484, 15066, 15511, 3533], \"type\": \"scatter\", \"uid\": \"ca56e268-c913-11e8-b94f-acb57d762223\"}, {\"line\": {\"color\": \"rgba(55, 128, 191, 1.0)\", \"dash\": \"solid\", \"shape\": \"linear\", \"width\": 1.3}, \"marker\": {\"size\": 12, \"symbol\": \"circle\"}, \"mode\": \"markers+lines\", \"name\": \"n_injured\", \"text\": \"\", \"x\": [2013, 2014, 2015, 2016, 2017, 2018], \"y\": [979, 23002, 26967, 30580, 30703, 6171], \"type\": \"scatter\", \"uid\": \"ca56e269-c913-11e8-a8b7-acb57d762223\"}], {\"legend\": {\"bgcolor\": \"#F5F6F9\", \"font\": {\"color\": \"#4D5663\"}}, \"paper_bgcolor\": \"#F5F6F9\", \"plot_bgcolor\": \"#F5F6F9\", \"titlefont\": {\"color\": \"#4D5663\"}, \"xaxis\": {\"gridcolor\": \"#E1E5ED\", \"showgrid\": true, \"tickfont\": {\"color\": \"#4D5663\"}, \"title\": \"Year\", \"titlefont\": {\"color\": \"#4D5663\"}, \"zerolinecolor\": \"#E1E5ED\"}, \"yaxis\": {\"gridcolor\": \"#E1E5ED\", \"showgrid\": true, \"tickfont\": {\"color\": \"#4D5663\"}, \"title\": \"Num of People Affected\", \"titlefont\": {\"color\": \"#4D5663\"}, \"zerolinecolor\": \"#E1E5ED\"}}, {\"showLink\": true, \"linkText\": \"Export to plot.ly\"})});</script>"
      ],
      "text/vnd.plotly.v1+html": [
       "<div id=\"aacf4e7a-9189-482c-8c7b-cd38575b9273\" style=\"height: 525px; width: 100%;\" class=\"plotly-graph-div\"></div><script type=\"text/javascript\">require([\"plotly\"], function(Plotly) { window.PLOTLYENV=window.PLOTLYENV || {};window.PLOTLYENV.BASE_URL=\"https://plot.ly\";Plotly.newPlot(\"aacf4e7a-9189-482c-8c7b-cd38575b9273\", [{\"line\": {\"color\": \"rgba(0, 0, 0, 1.0)\", \"dash\": \"solid\", \"shape\": \"linear\", \"width\": 1.3}, \"marker\": {\"size\": 12, \"symbol\": \"circle\"}, \"mode\": \"markers+lines\", \"name\": \"n_killed\", \"text\": \"\", \"x\": [2013, 2014, 2015, 2016, 2017, 2018], \"y\": [317, 12557, 13484, 15066, 15511, 3533], \"type\": \"scatter\", \"uid\": \"ca56e268-c913-11e8-b94f-acb57d762223\"}, {\"line\": {\"color\": \"rgba(55, 128, 191, 1.0)\", \"dash\": \"solid\", \"shape\": \"linear\", \"width\": 1.3}, \"marker\": {\"size\": 12, \"symbol\": \"circle\"}, \"mode\": \"markers+lines\", \"name\": \"n_injured\", \"text\": \"\", \"x\": [2013, 2014, 2015, 2016, 2017, 2018], \"y\": [979, 23002, 26967, 30580, 30703, 6171], \"type\": \"scatter\", \"uid\": \"ca56e269-c913-11e8-a8b7-acb57d762223\"}], {\"legend\": {\"bgcolor\": \"#F5F6F9\", \"font\": {\"color\": \"#4D5663\"}}, \"paper_bgcolor\": \"#F5F6F9\", \"plot_bgcolor\": \"#F5F6F9\", \"titlefont\": {\"color\": \"#4D5663\"}, \"xaxis\": {\"gridcolor\": \"#E1E5ED\", \"showgrid\": true, \"tickfont\": {\"color\": \"#4D5663\"}, \"title\": \"Year\", \"titlefont\": {\"color\": \"#4D5663\"}, \"zerolinecolor\": \"#E1E5ED\"}, \"yaxis\": {\"gridcolor\": \"#E1E5ED\", \"showgrid\": true, \"tickfont\": {\"color\": \"#4D5663\"}, \"title\": \"Num of People Affected\", \"titlefont\": {\"color\": \"#4D5663\"}, \"zerolinecolor\": \"#E1E5ED\"}}, {\"showLink\": true, \"linkText\": \"Export to plot.ly\"})});</script>"
      ]
     },
     "metadata": {},
     "output_type": "display_data"
    }
   ],
   "source": [
    "year = t[['year','n_killed','n_injured']].groupby('year').sum()\n",
    "year.iplot(kind='line',mode='markers+lines',colors=['Black','Blue'],xTitle='Year',yTitle='Num of People Affected')"
   ]
  },
  {
   "cell_type": "code",
   "execution_count": 64,
   "metadata": {},
   "outputs": [
    {
     "data": {
      "application/vnd.plotly.v1+json": {
       "data": [
        {
         "line": {
          "color": "rgba(0, 0, 0, 1.0)",
          "dash": "solid",
          "shape": "linear",
          "width": 1.3
         },
         "marker": {
          "size": 12,
          "symbol": "circle"
         },
         "mode": "markers+lines",
         "name": "n_killed",
         "text": "",
         "type": "scatter",
         "uid": "cb2d1ce6-c913-11e8-8756-acb57d762223",
         "x": [
          "Jan",
          "Mar",
          "Jul",
          "Aug",
          "Feb",
          "Dec",
          "Jun",
          "Nov",
          "May",
          "Oct",
          "Sep",
          "Apr"
         ],
         "y": [
          6035,
          5641,
          5276,
          5127,
          4945,
          4927,
          4886,
          4848,
          4830,
          4791,
          4779,
          4383
         ]
        },
        {
         "line": {
          "color": "rgba(55, 128, 191, 1.0)",
          "dash": "solid",
          "shape": "linear",
          "width": 1.3
         },
         "marker": {
          "size": 12,
          "symbol": "circle"
         },
         "mode": "markers+lines",
         "name": "n_injured",
         "text": "",
         "type": "scatter",
         "uid": "cb2d1ce7-c913-11e8-8f20-acb57d762223",
         "x": [
          "Jan",
          "Mar",
          "Jul",
          "Aug",
          "Feb",
          "Dec",
          "Jun",
          "Nov",
          "May",
          "Oct",
          "Sep",
          "Apr"
         ],
         "y": [
          10946,
          10475,
          11259,
          10809,
          8420,
          8936,
          9797,
          9087,
          10244,
          9756,
          9766,
          8907
         ]
        }
       ],
       "layout": {
        "legend": {
         "bgcolor": "#F5F6F9",
         "font": {
          "color": "#4D5663"
         }
        },
        "paper_bgcolor": "#F5F6F9",
        "plot_bgcolor": "#F5F6F9",
        "titlefont": {
         "color": "#4D5663"
        },
        "xaxis": {
         "gridcolor": "#E1E5ED",
         "showgrid": true,
         "tickfont": {
          "color": "#4D5663"
         },
         "title": "Month",
         "titlefont": {
          "color": "#4D5663"
         },
         "zerolinecolor": "#E1E5ED"
        },
        "yaxis": {
         "gridcolor": "#E1E5ED",
         "showgrid": true,
         "tickfont": {
          "color": "#4D5663"
         },
         "title": "Num of People Affected",
         "titlefont": {
          "color": "#4D5663"
         },
         "zerolinecolor": "#E1E5ED"
        }
       }
      },
      "text/html": [
       "<div id=\"2b42eab3-2830-44a2-8716-8f3e9584d07c\" style=\"height: 525px; width: 100%;\" class=\"plotly-graph-div\"></div><script type=\"text/javascript\">require([\"plotly\"], function(Plotly) { window.PLOTLYENV=window.PLOTLYENV || {};window.PLOTLYENV.BASE_URL=\"https://plot.ly\";Plotly.newPlot(\"2b42eab3-2830-44a2-8716-8f3e9584d07c\", [{\"line\": {\"color\": \"rgba(0, 0, 0, 1.0)\", \"dash\": \"solid\", \"shape\": \"linear\", \"width\": 1.3}, \"marker\": {\"size\": 12, \"symbol\": \"circle\"}, \"mode\": \"markers+lines\", \"name\": \"n_killed\", \"text\": \"\", \"x\": [\"Jan\", \"Mar\", \"Jul\", \"Aug\", \"Feb\", \"Dec\", \"Jun\", \"Nov\", \"May\", \"Oct\", \"Sep\", \"Apr\"], \"y\": [6035, 5641, 5276, 5127, 4945, 4927, 4886, 4848, 4830, 4791, 4779, 4383], \"type\": \"scatter\", \"uid\": \"cb33ab02-c913-11e8-b100-acb57d762223\"}, {\"line\": {\"color\": \"rgba(55, 128, 191, 1.0)\", \"dash\": \"solid\", \"shape\": \"linear\", \"width\": 1.3}, \"marker\": {\"size\": 12, \"symbol\": \"circle\"}, \"mode\": \"markers+lines\", \"name\": \"n_injured\", \"text\": \"\", \"x\": [\"Jan\", \"Mar\", \"Jul\", \"Aug\", \"Feb\", \"Dec\", \"Jun\", \"Nov\", \"May\", \"Oct\", \"Sep\", \"Apr\"], \"y\": [10946, 10475, 11259, 10809, 8420, 8936, 9797, 9087, 10244, 9756, 9766, 8907], \"type\": \"scatter\", \"uid\": \"cb33d11c-c913-11e8-b339-acb57d762223\"}], {\"legend\": {\"bgcolor\": \"#F5F6F9\", \"font\": {\"color\": \"#4D5663\"}}, \"paper_bgcolor\": \"#F5F6F9\", \"plot_bgcolor\": \"#F5F6F9\", \"titlefont\": {\"color\": \"#4D5663\"}, \"xaxis\": {\"gridcolor\": \"#E1E5ED\", \"showgrid\": true, \"tickfont\": {\"color\": \"#4D5663\"}, \"title\": \"Month\", \"titlefont\": {\"color\": \"#4D5663\"}, \"zerolinecolor\": \"#E1E5ED\"}, \"yaxis\": {\"gridcolor\": \"#E1E5ED\", \"showgrid\": true, \"tickfont\": {\"color\": \"#4D5663\"}, \"title\": \"Num of People Affected\", \"titlefont\": {\"color\": \"#4D5663\"}, \"zerolinecolor\": \"#E1E5ED\"}}, {\"showLink\": true, \"linkText\": \"Export to plot.ly\"})});</script>"
      ],
      "text/vnd.plotly.v1+html": [
       "<div id=\"2b42eab3-2830-44a2-8716-8f3e9584d07c\" style=\"height: 525px; width: 100%;\" class=\"plotly-graph-div\"></div><script type=\"text/javascript\">require([\"plotly\"], function(Plotly) { window.PLOTLYENV=window.PLOTLYENV || {};window.PLOTLYENV.BASE_URL=\"https://plot.ly\";Plotly.newPlot(\"2b42eab3-2830-44a2-8716-8f3e9584d07c\", [{\"line\": {\"color\": \"rgba(0, 0, 0, 1.0)\", \"dash\": \"solid\", \"shape\": \"linear\", \"width\": 1.3}, \"marker\": {\"size\": 12, \"symbol\": \"circle\"}, \"mode\": \"markers+lines\", \"name\": \"n_killed\", \"text\": \"\", \"x\": [\"Jan\", \"Mar\", \"Jul\", \"Aug\", \"Feb\", \"Dec\", \"Jun\", \"Nov\", \"May\", \"Oct\", \"Sep\", \"Apr\"], \"y\": [6035, 5641, 5276, 5127, 4945, 4927, 4886, 4848, 4830, 4791, 4779, 4383], \"type\": \"scatter\", \"uid\": \"cb33ab02-c913-11e8-b100-acb57d762223\"}, {\"line\": {\"color\": \"rgba(55, 128, 191, 1.0)\", \"dash\": \"solid\", \"shape\": \"linear\", \"width\": 1.3}, \"marker\": {\"size\": 12, \"symbol\": \"circle\"}, \"mode\": \"markers+lines\", \"name\": \"n_injured\", \"text\": \"\", \"x\": [\"Jan\", \"Mar\", \"Jul\", \"Aug\", \"Feb\", \"Dec\", \"Jun\", \"Nov\", \"May\", \"Oct\", \"Sep\", \"Apr\"], \"y\": [10946, 10475, 11259, 10809, 8420, 8936, 9797, 9087, 10244, 9756, 9766, 8907], \"type\": \"scatter\", \"uid\": \"cb33d11c-c913-11e8-b339-acb57d762223\"}], {\"legend\": {\"bgcolor\": \"#F5F6F9\", \"font\": {\"color\": \"#4D5663\"}}, \"paper_bgcolor\": \"#F5F6F9\", \"plot_bgcolor\": \"#F5F6F9\", \"titlefont\": {\"color\": \"#4D5663\"}, \"xaxis\": {\"gridcolor\": \"#E1E5ED\", \"showgrid\": true, \"tickfont\": {\"color\": \"#4D5663\"}, \"title\": \"Month\", \"titlefont\": {\"color\": \"#4D5663\"}, \"zerolinecolor\": \"#E1E5ED\"}, \"yaxis\": {\"gridcolor\": \"#E1E5ED\", \"showgrid\": true, \"tickfont\": {\"color\": \"#4D5663\"}, \"title\": \"Num of People Affected\", \"titlefont\": {\"color\": \"#4D5663\"}, \"zerolinecolor\": \"#E1E5ED\"}}, {\"showLink\": true, \"linkText\": \"Export to plot.ly\"})});</script>"
      ]
     },
     "metadata": {},
     "output_type": "display_data"
    }
   ],
   "source": [
    "month = t[['month','n_killed','n_injured']].groupby('month').sum().sort_values(by='n_killed',ascending=False)\n",
    "month.iplot(kind='line', mode= 'markers+lines',colors=['Black','Blue'],xTitle='Month',yTitle='Num of People Affected')"
   ]
  },
  {
   "cell_type": "code",
   "execution_count": 65,
   "metadata": {},
   "outputs": [
    {
     "data": {
      "application/vnd.plotly.v1+json": {
       "data": [
        {
         "line": {
          "color": "rgba(0, 0, 0, 1.0)",
          "dash": "solid",
          "shape": "linear",
          "width": 1.3
         },
         "marker": {
          "size": 12,
          "symbol": "circle"
         },
         "mode": "markers+lines",
         "name": "n_killed",
         "text": "",
         "type": "scatter",
         "uid": "cbf42568-c913-11e8-bfa0-acb57d762223",
         "x": [
          "Sunday",
          "Saturday",
          "Monday",
          "Friday",
          "Wednesday",
          "Tueday",
          "Thursday"
         ],
         "y": [
          10187,
          9813,
          8383,
          8353,
          8083,
          7917,
          7732
         ]
        },
        {
         "line": {
          "color": "rgba(55, 128, 191, 1.0)",
          "dash": "solid",
          "shape": "linear",
          "width": 1.3
         },
         "marker": {
          "size": 12,
          "symbol": "circle"
         },
         "mode": "markers+lines",
         "name": "n_injured",
         "text": "",
         "type": "scatter",
         "uid": "cbf42569-c913-11e8-8ad2-acb57d762223",
         "x": [
          "Sunday",
          "Saturday",
          "Monday",
          "Friday",
          "Wednesday",
          "Tueday",
          "Thursday"
         ],
         "y": [
          21562,
          20559,
          16164,
          15275,
          15193,
          15168,
          14481
         ]
        }
       ],
       "layout": {
        "legend": {
         "bgcolor": "#F5F6F9",
         "font": {
          "color": "#4D5663"
         }
        },
        "paper_bgcolor": "#F5F6F9",
        "plot_bgcolor": "#F5F6F9",
        "titlefont": {
         "color": "#4D5663"
        },
        "xaxis": {
         "gridcolor": "#E1E5ED",
         "showgrid": true,
         "tickfont": {
          "color": "#4D5663"
         },
         "title": "Day",
         "titlefont": {
          "color": "#4D5663"
         },
         "zerolinecolor": "#E1E5ED"
        },
        "yaxis": {
         "gridcolor": "#E1E5ED",
         "showgrid": true,
         "tickfont": {
          "color": "#4D5663"
         },
         "title": "Num of People Affected",
         "titlefont": {
          "color": "#4D5663"
         },
         "zerolinecolor": "#E1E5ED"
        }
       }
      },
      "text/html": [
       "<div id=\"a8b237a9-d943-4dc9-9308-4c95df5780bd\" style=\"height: 525px; width: 100%;\" class=\"plotly-graph-div\"></div><script type=\"text/javascript\">require([\"plotly\"], function(Plotly) { window.PLOTLYENV=window.PLOTLYENV || {};window.PLOTLYENV.BASE_URL=\"https://plot.ly\";Plotly.newPlot(\"a8b237a9-d943-4dc9-9308-4c95df5780bd\", [{\"line\": {\"color\": \"rgba(0, 0, 0, 1.0)\", \"dash\": \"solid\", \"shape\": \"linear\", \"width\": 1.3}, \"marker\": {\"size\": 12, \"symbol\": \"circle\"}, \"mode\": \"markers+lines\", \"name\": \"n_killed\", \"text\": \"\", \"x\": [\"Sunday\", \"Saturday\", \"Monday\", \"Friday\", \"Wednesday\", \"Tueday\", \"Thursday\"], \"y\": [10187, 9813, 8383, 8353, 8083, 7917, 7732], \"type\": \"scatter\", \"uid\": \"cbfa1ae6-c913-11e8-a3c2-acb57d762223\"}, {\"line\": {\"color\": \"rgba(55, 128, 191, 1.0)\", \"dash\": \"solid\", \"shape\": \"linear\", \"width\": 1.3}, \"marker\": {\"size\": 12, \"symbol\": \"circle\"}, \"mode\": \"markers+lines\", \"name\": \"n_injured\", \"text\": \"\", \"x\": [\"Sunday\", \"Saturday\", \"Monday\", \"Friday\", \"Wednesday\", \"Tueday\", \"Thursday\"], \"y\": [21562, 20559, 16164, 15275, 15193, 15168, 14481], \"type\": \"scatter\", \"uid\": \"cbfa1ae7-c913-11e8-b58d-acb57d762223\"}], {\"legend\": {\"bgcolor\": \"#F5F6F9\", \"font\": {\"color\": \"#4D5663\"}}, \"paper_bgcolor\": \"#F5F6F9\", \"plot_bgcolor\": \"#F5F6F9\", \"titlefont\": {\"color\": \"#4D5663\"}, \"xaxis\": {\"gridcolor\": \"#E1E5ED\", \"showgrid\": true, \"tickfont\": {\"color\": \"#4D5663\"}, \"title\": \"Day\", \"titlefont\": {\"color\": \"#4D5663\"}, \"zerolinecolor\": \"#E1E5ED\"}, \"yaxis\": {\"gridcolor\": \"#E1E5ED\", \"showgrid\": true, \"tickfont\": {\"color\": \"#4D5663\"}, \"title\": \"Num of People Affected\", \"titlefont\": {\"color\": \"#4D5663\"}, \"zerolinecolor\": \"#E1E5ED\"}}, {\"showLink\": true, \"linkText\": \"Export to plot.ly\"})});</script>"
      ],
      "text/vnd.plotly.v1+html": [
       "<div id=\"a8b237a9-d943-4dc9-9308-4c95df5780bd\" style=\"height: 525px; width: 100%;\" class=\"plotly-graph-div\"></div><script type=\"text/javascript\">require([\"plotly\"], function(Plotly) { window.PLOTLYENV=window.PLOTLYENV || {};window.PLOTLYENV.BASE_URL=\"https://plot.ly\";Plotly.newPlot(\"a8b237a9-d943-4dc9-9308-4c95df5780bd\", [{\"line\": {\"color\": \"rgba(0, 0, 0, 1.0)\", \"dash\": \"solid\", \"shape\": \"linear\", \"width\": 1.3}, \"marker\": {\"size\": 12, \"symbol\": \"circle\"}, \"mode\": \"markers+lines\", \"name\": \"n_killed\", \"text\": \"\", \"x\": [\"Sunday\", \"Saturday\", \"Monday\", \"Friday\", \"Wednesday\", \"Tueday\", \"Thursday\"], \"y\": [10187, 9813, 8383, 8353, 8083, 7917, 7732], \"type\": \"scatter\", \"uid\": \"cbfa1ae6-c913-11e8-a3c2-acb57d762223\"}, {\"line\": {\"color\": \"rgba(55, 128, 191, 1.0)\", \"dash\": \"solid\", \"shape\": \"linear\", \"width\": 1.3}, \"marker\": {\"size\": 12, \"symbol\": \"circle\"}, \"mode\": \"markers+lines\", \"name\": \"n_injured\", \"text\": \"\", \"x\": [\"Sunday\", \"Saturday\", \"Monday\", \"Friday\", \"Wednesday\", \"Tueday\", \"Thursday\"], \"y\": [21562, 20559, 16164, 15275, 15193, 15168, 14481], \"type\": \"scatter\", \"uid\": \"cbfa1ae7-c913-11e8-b58d-acb57d762223\"}], {\"legend\": {\"bgcolor\": \"#F5F6F9\", \"font\": {\"color\": \"#4D5663\"}}, \"paper_bgcolor\": \"#F5F6F9\", \"plot_bgcolor\": \"#F5F6F9\", \"titlefont\": {\"color\": \"#4D5663\"}, \"xaxis\": {\"gridcolor\": \"#E1E5ED\", \"showgrid\": true, \"tickfont\": {\"color\": \"#4D5663\"}, \"title\": \"Day\", \"titlefont\": {\"color\": \"#4D5663\"}, \"zerolinecolor\": \"#E1E5ED\"}, \"yaxis\": {\"gridcolor\": \"#E1E5ED\", \"showgrid\": true, \"tickfont\": {\"color\": \"#4D5663\"}, \"title\": \"Num of People Affected\", \"titlefont\": {\"color\": \"#4D5663\"}, \"zerolinecolor\": \"#E1E5ED\"}}, {\"showLink\": true, \"linkText\": \"Export to plot.ly\"})});</script>"
      ]
     },
     "metadata": {},
     "output_type": "display_data"
    }
   ],
   "source": [
    "day = t[['day','n_killed','n_injured']].groupby('day').sum().sort_values(by='n_killed',ascending=False)\n",
    "day.iplot(kind='line',mode='markers+lines',colors=['Black','Blue'],xTitle='Day',yTitle='Num of People Affected')"
   ]
  },
  {
   "cell_type": "markdown",
   "metadata": {},
   "source": [
    "**Correlation Analysis**  \n",
    "This section depicts the correlation between the different features of the data which helps us decide if there are any redundant columns that can be dropped from the analysis"
   ]
  },
  {
   "cell_type": "code",
   "execution_count": 66,
   "metadata": {
    "scrolled": false
   },
   "outputs": [
    {
     "data": {
      "text/plain": [
       "<matplotlib.axes._subplots.AxesSubplot at 0x234275a2710>"
      ]
     },
     "execution_count": 66,
     "metadata": {},
     "output_type": "execute_result"
    },
    {
     "data": {
      "image/png": "[encoded data removed]",
      "text/plain": [
       "<matplotlib.figure.Figure at 0x234314eb5f8>"
      ]
     },
     "metadata": {},
     "output_type": "display_data"
    }
   ],
   "source": [
    "plt.figure(figsize=(15,15))\n",
    "sn.heatmap(gun.drop('incident_url_fields_missing',axis=1).corr(),cmap='coolwarm')"
   ]
  },
  {
   "cell_type": "markdown",
   "metadata": {},
   "source": [
    "**Summary from the EDA**"
   ]
  },
  {
   "cell_type": "markdown",
   "metadata": {},
   "source": [
    "- Illinois is the state with the most number of incidents and Chicago is the city with the most number of incidents.\n",
    "- Most of the incidents that occured just had a single weapon that was involved.\n",
    "- The most number of Male perpetrators are from Illinois and the number of Female perpetrators are from Texas.\n",
    "- The steepest rise in the number of incidents was in the year 2013-2014.\n",
    "- The most significant number of deaths occured in the month of Jan and injuries were highest in July.\n",
    "- The most number of incidents occured on a Sunday, making it the most dangerous day."
   ]
  }
 ],
 "metadata": {
  "kernelspec": {
   "display_name": "Python 3",
   "language": "python",
   "name": "python3"
  },
  "language_info": {
   "codemirror_mode": {
    "name": "ipython",
    "version": 3
   },
   "file_extension": ".py",
   "mimetype": "text/x-python",
   "name": "python",
   "nbconvert_exporter": "python",
   "pygments_lexer": "ipython3",
   "version": "3.6.3"
  }
 },
 "nbformat": 4,
 "nbformat_minor": 2
}
